{
 "cells": [
  {
   "cell_type": "markdown",
   "metadata": {},
   "source": [
    "# Introduction à JDBC\n",
    "JDBC est une API intégrée à Java qui permet un accès simple aux Systèmes de Gestion de Dases de Données Relationnelles (SGBDR). Ses objectifs sont d'offrir une vision uniforme des SGDBR notament en s'appuyant sur SQL et en définissant des types adaptés à Java.\n",
    "\n",
    "C'est une API qui permet de se connecter à une base de données, d'évaluer des requêtes et de parcours l'ensemble des résultats.\n",
    "\n",
    "Il est aussi adaptable pour utiliser les spécifités d'un SGBDR donné mais au prix de la portabilité."
   ]
  },
  {
   "cell_type": "markdown",
   "metadata": {},
   "source": [
    "## The dataset\n",
    "Pour illuster JDBC ce cours s'appuie sur PostgeSQL et en particulier sur une base de données exemple d'un système de location de DVD (https://www.postgresqltutorial.com/postgresql-sample-database/).\n",
    "![DVD Rental ER Model](https://sp.postgresqltutorial.com/wp-content/uploads/2018/03/dvd-rental-sample-database-diagram.png)."
   ]
  },
  {
   "cell_type": "markdown",
   "metadata": {},
   "source": [
    "Définissons tout d'abord simplement une classe Java pour représenter l'une des entité de l'exemple."
   ]
  },
  {
   "cell_type": "code",
   "execution_count": 84,
   "metadata": {},
   "outputs": [],
   "source": [
    "%mavenRepo projectlombok.org http://projectlombok.org/mavenrepo\n",
    "%maven org.projectlombok:lombok:0.9.2\n",
    "\n",
    "public class Film {\n",
    "    private int id;\n",
    "    private String title;\n",
    "    private String description;\n",
    "    public Film(int id, String title, String description) {\n",
    "        this.id = id;\n",
    "        this.title = title;\n",
    "        this.description = description;\n",
    "    }\n",
    "    public String toString() {return \"{id:\"+id+\",title:'\"+title+\"',description:'\"+description+\"'}\";}\n",
    "}"
   ]
  },
  {
   "cell_type": "markdown",
   "metadata": {},
   "source": [
    "## The JDBC Driver for postgresql\n",
    "Pour se connecter à un SGBDR spécifique il faut disposer d'une implantation particulière d'un Driver (qui devra être ajouté à l'application). \n",
    "Il existe quatre familles de drivers JDBC :\n",
    "* Type 1 - s'appuie sur un autre driver (par exemple JDBC-ODBC)\n",
    "* Type 2 - utilise une implatation native d'un driver coté client.\n",
    "* Type 3 - utilise un middleware pour convertir les appels JDBC en appel s propriétaires du SGBDR.\n",
    "* Type 4 - offre une connection directe depuis une implantation Java (thin driver).\n",
    "\n",
    "Le type 4 est le plus courant. Il est indépendant de la plateforme et offre de meilleures performances en se connectant directement à la base de données. "
   ]
  },
  {
   "cell_type": "markdown",
   "metadata": {},
   "source": [
    "## Ouverture d'une connexion\n",
    "Pour ouvrir une connection, il faut charger la classe de l'implantation du Driver et ouvrir une connexion. En théorie, on devrait utiliser ```Class.forName(\"nom de la classe d'implantation\")``` en pratique JDBC le fait automatique en fonction de l'URL lors de la connexion.\n",
    "\n",
    "La première chose à faire est d'ajouter l'implantation du Driver pour la  base de données visée. Par exemple, en ajoutant à Maven une dépendance comme ci-dessous pour PostgreSQL."
   ]
  },
  {
   "cell_type": "code",
   "execution_count": 85,
   "metadata": {},
   "outputs": [],
   "source": [
    "%%loadFromPOM\n",
    " <dependency>\n",
    "            <groupId>org.postgresql</groupId>\n",
    "            <artifactId>postgresql</artifactId>\n",
    "            <version>42.2.11</version>\n",
    "</dependency>"
   ]
  },
  {
   "cell_type": "markdown",
   "metadata": {},
   "source": [
    "Pour ouvrir une connexion, on utilise une URL dont la forme est spécifique à chaque SGBD par exemple pour [MySQL](https://dev.mysql.com/doc/connector-j/5.1/en/connector-j-usagenotes-connect-drivermanager.html), [PostgreSQL](https://jdbc.postgresql.org/) ou [H2](http://www.h2database.com/html/features.html) (une base de données relationnel en pur Java):\n",
    "* ```jdbc:mysql://localhost:3306/myDatabase?user=username&password=password```\n",
    "* ```jdbc:postgresql://localhost/myDatabase```\n",
    "* ```jdbc:h2:mem:myDatabase```\n",
    "\n",
    "Les informations d'authentification peuvent parfois être donnés dans l'URL ou lors de l'appel de la méthode ```Connection DriverManager.getConnection(jdbcURL)```."
   ]
  },
  {
   "cell_type": "code",
   "execution_count": 120,
   "metadata": {},
   "outputs": [],
   "source": [
    "String jdbcURL=\"jdbc:postgresql://db:5432/dvdrental?user=postgres&password=changeme\";\n",
    "Connection connection = DriverManager.getConnection(jdbcURL)\n"
   ]
  },
  {
   "cell_type": "markdown",
   "metadata": {},
   "source": [
    "## Exécution de requêtes SQL\n",
    "Pour exécuter des requetes SQL on utilise des instances de la classes ```Statement```.\n",
    "\n",
    "Il existe trois types de statements :\n",
    "* statement: requêtes simples\n",
    "* prepared statement: requêtes précompilées\n",
    "* callable statement: procédures stockées\n",
    "\n",
    "Un statement est créé à partir d'une connection."
   ]
  },
  {
   "cell_type": "markdown",
   "metadata": {},
   "source": [
    "## Les requêtes simples\n",
    "La méthode à appeler est différente suivant la nature de la requêtes SQL que l’on veut exécuter :\n",
    "* Consultation (select)\n",
    "  * executeQuery() On parcours les t-uples avec un ResultSet\n",
    "\n",
    "* Mise à jour (update, insert, delete) ou gestion de la base de\n",
    "données (create table,...)\n",
    "  * executeUpdate() renvoie le nombre de lignes modifiées\n",
    "\n",
    "* Type inconnu (ex. donné par un fonction sous forme de String)\n",
    "ou si la requêtes peut renvoyer plusieurs résultats (procédures\n",
    "stockées)\n",
    "  * execute()"
   ]
  },
  {
   "cell_type": "code",
   "execution_count": 123,
   "metadata": {},
   "outputs": [],
   "source": [
    "// Une requête simple\n",
    "Statement statement = connection.createStatement();\n",
    "String query1 = \"SELECT * FROM film LIMIT 5\";\n",
    "ResultSet resultSet = statement.executeQuery(query1);"
   ]
  },
  {
   "cell_type": "markdown",
   "metadata": {},
   "source": [
    "## Parcours des résultats\n",
    "* executeQuery() retourne de ResultSet\n",
    "* L’interface ResultSet définit les méthodes pour accéder au valeur des attributs\n",
    "  * getXXX(int numéroDeColonne)\n",
    "  * getXXX(String nomDeColonne)\n",
    "  * XXX désigne le type Java de la valeur que l'on va récupérer (Byte, Boolean, AsciiStream, Short, String UnicodeStream, Int Bytes, BinaryStream, Long, Date, Object, Float, Time, BigDecimal,TimeStamp)\n",
    "* A Noter : données volumineuses (ex. Blob)\n",
    "  * Ouverture d'un flux"
   ]
  },
  {
   "cell_type": "code",
   "execution_count": 124,
   "metadata": {},
   "outputs": [
    {
     "name": "stdout",
     "output_type": "stream",
     "text": [
      "[{id:133,title:'Chamber Italian',description:'A Fateful Reflection of a Moose And a Husband who must Overcome a Monkey in Nigeria'}, {id:384,title:'Grosse Wonderful',description:'A Epic Drama of a Cat And a Explorer who must Redeem a Moose in Australia'}, {id:8,title:'Airport Pollock',description:'A Epic Tale of a Moose And a Girl who must Confront a Monkey in Ancient India'}, {id:98,title:'Bright Encounters',description:'A Fateful Yarn of a Lumberjack And a Feminist who must Conquer a Student in A Jet Boat'}, {id:1,title:'Academy Dinosaur',description:'A Epic Drama of a Feminist And a Mad Scientist who must Battle a Teacher in The Canadian Rockies'}]\n"
     ]
    }
   ],
   "source": [
    "import java.util.List;\n",
    "import java.util.ArrayList;\n",
    "List<Film> films = new ArrayList<>();\n",
    "while (resultSet.next()) {\n",
    "        films.add(new Film(resultSet.getInt(\"film_id\"),\n",
    "                resultSet.getString(\"title\"),\n",
    "                resultSet.getString(\"description\")));\n",
    "}\n",
    "System.out.println(films);"
   ]
  },
  {
   "cell_type": "code",
   "execution_count": 130,
   "metadata": {},
   "outputs": [],
   "source": [
    "//Insert a city in France (34)\n",
    "//Warning city names are not unique.\n",
    "Statement statement = connection.createStatement();\n",
    "String query1 = \"INSERT INTO city(city, country_id)\"+\n",
    "    \" VALUES('Garéoult',34)\";\n",
    "int numberOfChanges = statement.executeUpdate(query1);"
   ]
  },
  {
   "cell_type": "markdown",
   "metadata": {},
   "source": [
    "## Les exceptions\n",
    "* Erreur dans le code SQL : SQLException\n",
    "* Avertissement lors de l'exécution (SQLWarning)\n",
    "  * Problèmes de conversion de données (DataTruncation - sous-classe de SQLWarning)"
   ]
  },
  {
   "cell_type": "code",
   "execution_count": 95,
   "metadata": {},
   "outputs": [
    {
     "name": "stderr",
     "output_type": "stream",
     "text": [
      "org.postgresql.util.PSQLException: ERROR: relation \"employee\" does not exist\n",
      "  Position: 16\n",
      "\tat org.postgresql.core.v3.QueryExecutorImpl.receiveErrorResponse(QueryExecutorImpl.java:2578)\n",
      "\tat org.postgresql.core.v3.QueryExecutorImpl.processResults(QueryExecutorImpl.java:2313)\n",
      "\tat org.postgresql.core.v3.QueryExecutorImpl.execute(QueryExecutorImpl.java:331)\n",
      "\tat org.postgresql.jdbc.PgStatement.executeInternal(PgStatement.java:448)\n",
      "\tat org.postgresql.jdbc.PgStatement.execute(PgStatement.java:369)\n",
      "\tat org.postgresql.jdbc.PgStatement.executeWithFlags(PgStatement.java:310)\n",
      "\tat org.postgresql.jdbc.PgStatement.executeCachedSql(PgStatement.java:296)\n",
      "\tat org.postgresql.jdbc.PgStatement.executeWithFlags(PgStatement.java:273)\n",
      "\tat org.postgresql.jdbc.PgStatement.executeQuery(PgStatement.java:226)\n",
      "\tat REPL.$JShell$190.do_it$($JShell$190.java:20)\n",
      "\tat java.base/jdk.internal.reflect.NativeMethodAccessorImpl.invoke0(Native Method)\n",
      "\tat java.base/jdk.internal.reflect.NativeMethodAccessorImpl.invoke(NativeMethodAccessorImpl.java:62)\n",
      "\tat java.base/jdk.internal.reflect.DelegatingMethodAccessorImpl.invoke(DelegatingMethodAccessorImpl.java:43)\n",
      "\tat java.base/java.lang.reflect.Method.invoke(Method.java:566)\n",
      "\tat io.github.spencerpark.ijava.execution.IJavaExecutionControl.lambda$execute$1(IJavaExecutionControl.java:95)\n",
      "\tat io.github.spencerpark.ijava.execution.IJavaExecutionControl$$Lambda$405/00000000E43F77C0.call(Unknown Source)\n",
      "\tat java.base/java.util.concurrent.FutureTask.run(FutureTask.java:264)\n",
      "\tat java.base/java.util.concurrent.ThreadPoolExecutor.runWorker(ThreadPoolExecutor.java:1128)\n",
      "\tat java.base/java.util.concurrent.ThreadPoolExecutor$Worker.run(ThreadPoolExecutor.java:628)\n",
      "\tat java.base/java.lang.Thread.run(Thread.java:834)\n"
     ]
    }
   ],
   "source": [
    "String wrongQuery = \" SELECT * FROM Employee\" ;\n",
    "try (Connection connection = DriverManager.getConnection(jdbcURL);\n",
    "            Statement statement = connection.createStatement();\n",
    "            ResultSet resultSet = statement.executeQuery(wrongQuery)) {\n",
    "        // Do stuff here\n",
    "        } catch (SQLException e) {\n",
    "            //Erreur lors de la requête\n",
    "            e.printStackTrace();            \n",
    "        }"
   ]
  },
  {
   "cell_type": "markdown",
   "metadata": {},
   "source": [
    "## Un exemple complet"
   ]
  },
  {
   "cell_type": "markdown",
   "metadata": {},
   "source": [
    "Voilà un exemple complet avec la classique des exceptions. "
   ]
  },
  {
   "cell_type": "code",
   "execution_count": 131,
   "metadata": {},
   "outputs": [
    {
     "name": "stdout",
     "output_type": "stream",
     "text": [
      "[{id:133,title:'Chamber Italian',description:'A Fateful Reflection of a Moose And a Husband who must Overcome a Monkey in Nigeria'}, {id:384,title:'Grosse Wonderful',description:'A Epic Drama of a Cat And a Explorer who must Redeem a Moose in Australia'}, {id:8,title:'Airport Pollock',description:'A Epic Tale of a Moose And a Girl who must Confront a Monkey in Ancient India'}, {id:98,title:'Bright Encounters',description:'A Fateful Yarn of a Lumberjack And a Feminist who must Conquer a Student in A Jet Boat'}, {id:1,title:'Academy Dinosaur',description:'A Epic Drama of a Feminist And a Mad Scientist who must Battle a Teacher in The Canadian Rockies'}]\n"
     ]
    }
   ],
   "source": [
    " String jdbcURL = \"jdbc:postgresql://db:5432/dvdrental?user=postgres&password=changeme\";\n",
    "\n",
    "        Connection connection = null;\n",
    "        ResultSet resultSet = null;\n",
    "        Statement statement = null;\n",
    "        try {\n",
    "            connection = DriverManager.getConnection(jdbcURL);\n",
    "            statement = connection.createStatement();\n",
    "            String query1 = \"SELECT * FROM film LIMIT 5\";\n",
    "            resultSet = statement.executeQuery(query1);\n",
    "\n",
    "            List<Film> films = new ArrayList<>();\n",
    "            while (resultSet.next()) {\n",
    "                films.add(new Film(resultSet.getInt(\"film_id\"),\n",
    "                        resultSet.getString(\"title\"),\n",
    "                        resultSet.getString(\"description\")));\n",
    "            }\n",
    "            System.out.println(films);\n",
    "        } catch (SQLException e) {\n",
    "            //Erreur lors de la requête\n",
    "            e.printStackTrace();\n",
    "        } finally {\n",
    "            if (resultSet != null) {\n",
    "                try {\n",
    "                    resultSet.close();\n",
    "                } catch (SQLException e) { /* ignored */}\n",
    "            }\n",
    "            if (connection != null) {\n",
    "                try {\n",
    "                    connection.close();\n",
    "                } catch (SQLException e) { /* ignored */}\n",
    "            }\n",
    "        }"
   ]
  },
  {
   "cell_type": "markdown",
   "metadata": {},
   "source": [
    "A partir de Java 7 une syntaxe particulière est possible pour fermer automatiquement certaines ressources dont les connections et les ResultSet JDBC."
   ]
  },
  {
   "cell_type": "code",
   "execution_count": 132,
   "metadata": {},
   "outputs": [
    {
     "name": "stdout",
     "output_type": "stream",
     "text": [
      "[{id:133,title:'Chamber Italian',description:'A Fateful Reflection of a Moose And a Husband who must Overcome a Monkey in Nigeria'}, {id:384,title:'Grosse Wonderful',description:'A Epic Drama of a Cat And a Explorer who must Redeem a Moose in Australia'}, {id:8,title:'Airport Pollock',description:'A Epic Tale of a Moose And a Girl who must Confront a Monkey in Ancient India'}, {id:98,title:'Bright Encounters',description:'A Fateful Yarn of a Lumberjack And a Feminist who must Conquer a Student in A Jet Boat'}, {id:1,title:'Academy Dinosaur',description:'A Epic Drama of a Feminist And a Mad Scientist who must Battle a Teacher in The Canadian Rockies'}]\n"
     ]
    }
   ],
   "source": [
    "  String jdbcURL = \"jdbc:postgresql://db:5432/dvdrental?user=postgres&password=changeme\";\n",
    "\n",
    "        String query1 = \"SELECT * FROM film LIMIT 5\";\n",
    "        List<Film> films = new ArrayList<>();\n",
    "\n",
    "        try (Connection connection = DriverManager.getConnection(jdbcURL);\n",
    "            Statement statement = connection.createStatement();\n",
    "            ResultSet resultSet = statement.executeQuery(query1)) {\n",
    "            while (resultSet.next()) {\n",
    "                films.add(new Film(resultSet.getInt(\"film_id\"),\n",
    "                        resultSet.getString(\"title\"),\n",
    "                        resultSet.getString(\"description\")));\n",
    "            }\n",
    "            System.out.println(films);\n",
    "        } catch (SQLException e) {\n",
    "            //Erreur lors de la requête\n",
    "            e.printStackTrace();\n",
    "        }"
   ]
  },
  {
   "cell_type": "markdown",
   "metadata": {},
   "source": [
    "## Types  Java/JDBC et SQL\n",
    "* Malgré SQL les SGBD présentent des différences de types\n",
    "* JDBC masque ces différences en définissant ses propres types SQL (constantes de la classe Types)\n",
    "* Le driver assure la conversion\n",
    "  * SQL vers Java lors de la lecture\n",
    "  * Java vers SQL lors du passage de paramètres\n",
    "* Utilisés explicitement avec les methodes getXXX() (et setXXX())\n",
    "* Parfois plusieurs choix (presque tous les types SQL peuvent être retrouvés par getString())\n",
    "  * CHAR et VARCHAR : getString()\n",
    "  * LONGVARCHAR : getAsciiStream() et getCharacterStream()\n",
    "  * BINARY et VARBINARY : getBytes()\n",
    "  * LONGVARBINARY : getBinaryStream()\n",
    "  * REAL : getFloat(), DOUBLE et FLOAT : getDouble()\n",
    "  * DECIMAL et NUMERIC : getBigDecimal()\n",
    "  * DATE : getDate(), TIME : getTime(), TIMESTAMP :getTimestamp()"
   ]
  },
  {
   "cell_type": "markdown",
   "metadata": {},
   "source": [
    "## Les transactions"
   ]
  },
  {
   "cell_type": "markdown",
   "metadata": {},
   "source": [
    "* Par défaut une connexion est ouverte en « auto-\n",
    "commit » :\n",
    "  * un commit est automatiquement lancé après chaque requete SQL qui fait une mise à jour\n",
    "* Pour un contrôle plus fin on utilise\n",
    "```java\n",
    "conn.setAutoCommit(false) pour le désactiver\n",
    "conn.commit() pour valider la transaction\n",
    "conn.rollback() pour annuler la transaction\n",
    "```"
   ]
  },
  {
   "cell_type": "markdown",
   "metadata": {},
   "source": [
    "## Précompilation des requêtes\n",
    "* Si les requêtes fabriquées à partir de String changent (paramètres) :\n",
    "  * Elles sont compilées à chaque appel d'où une perte de\n",
    "performances\n",
    "* JDBC permet de ne compiler la requête qu'une fois (si le\n",
    "SGBD le supporte)\n",
    "  * En indiquant les paramètres de façon générique\n",
    "  * En fixant leur valeur (sans changer la requête) au moment\n",
    "de l'exécution\n",
    "* Deux Statement particuliers :\n",
    "  * Les requêtes paramétrées (PreparedStatement)\n",
    "  * Les procédures stockées (CallableStatement)"
   ]
  },
  {
   "cell_type": "code",
   "execution_count": 111,
   "metadata": {},
   "outputs": [
    {
     "name": "stdout",
     "output_type": "stream",
     "text": [
      "[{id:23,title:'Anaconda Confessions',description:'A Lacklusture Display of a Dentist And a Dentist who must Fight a Girl in Australia'}, {id:12,title:'Alaska Phantom',description:'A Fanciful Saga of a Hunter And a Pastry Chef who must Vanquish a Boy in Australia'}, {id:56,title:'Barefoot Manchurian',description:'A Intrepid Story of a Cat And a Student who must Vanquish a Girl in An Abandoned Amusement Park'}]\n"
     ]
    }
   ],
   "source": [
    "Connection connection = DriverManager.getConnection(jdbcURL);\n",
    "PreparedStatement preparedStatement = connection.prepareStatement(\"SELECT * FROM film WHERE film_id = ?\");\n",
    "int[] ids={23,12,56};\n",
    "List<Film> films = new ArrayList<>();\n",
    "//Juste pour illuster le cas ou une requête revient fréquement, mieux vaudrait une seule requêtes SQL\n",
    "for(int id:ids) {\n",
    "    preparedStatement.setInt(1,id);\n",
    "    ResultSet resultSet = preparedStatement.executeQuery();\n",
    "            while (resultSet.next()) {\n",
    "                films.add(new Film(resultSet.getInt(\"film_id\"),\n",
    "                        resultSet.getString(\"title\"),\n",
    "                        resultSet.getString(\"description\")));\n",
    "            }\n",
    "}\n",
    "System.out.println(films);\n",
    "    "
   ]
  },
  {
   "cell_type": "markdown",
   "metadata": {},
   "source": [
    "## Procédure stockées\n",
    "TODO"
   ]
  },
  {
   "cell_type": "code",
   "execution_count": null,
   "metadata": {},
   "outputs": [],
   "source": []
  },
  {
   "cell_type": "markdown",
   "metadata": {},
   "source": [
    "## Metadata\n",
    "* JDBC permet de récupérer des informations sur le type de données que l'on vient de récupérer par un SELECT (interface ResultSetMetaData),\n",
    "* mais aussi sur la base de données elle-même (interface DatabaseMetaData)\n",
    "* Les données que l'on peut récupérer avec DatabaseMetaData dépendent du SGBD avec lequel on travaille"
   ]
  },
  {
   "cell_type": "code",
   "execution_count": 12,
   "metadata": {},
   "outputs": [
    {
     "name": "stdout",
     "output_type": "stream",
     "text": [
      "Database: PostgreSQL 9.6\n",
      "postgres public\n",
      "Table SIMPLEJDBC_PERSON already exist.\n"
     ]
    }
   ],
   "source": [
    "import java.sql.*;\n",
    "\n",
    "String jdbcURL=\"jdbc:postgresql://db:5432/postgres?user=postgres&password=changeme\";\n",
    "\n",
    "try (Connection connection = DriverManager.getConnection(jdbcURL)) {\n",
    "\n",
    "                DatabaseMetaData metadata = connection.getMetaData();\n",
    "\n",
    "                //Print info about the database system\n",
    "                System.out.println(\"Database: \" + metadata.getDatabaseProductName()\n",
    "                        + \" \" + metadata.getDatabaseMajorVersion() + \".\" + metadata.getDatabaseMinorVersion());\n",
    "\n",
    "                System.out.println(connection.getCatalog() + \" \" + connection.getSchema());\n",
    "\n",
    "                //Retrieving the list of database names\n",
    "                ResultSet tables = metadata.getTables(connection.getCatalog(),\n",
    "                        connection.getSchema(),\n",
    "                        \"SIMPLEJDBC_PERSON\", null);\n",
    "\n",
    "                if (tables.next()) {\n",
    "                    System.out.println(\"Table \" + tables.getString(\"TABLE_NAME\") + \" already exist.\");\n",
    "                } else {\n",
    "                    connection.createStatement().execute(\"CREATE TABLE \\\"SIMPLEJDBC_PERSON\\\"(\" +\n",
    "                            \"    id INT PRIMARY KEY NOT NULL, \" +\n",
    "                            \"    firstname VARCHAR(100))\");\n",
    "                    System.out.println(\"Table SIMPLEJDBC_PERSON created.\");\n",
    "                }\n",
    "            } catch (SQLException e) {\n",
    "                e.printStackTrace();\n",
    "            }\n"
   ]
  },
  {
   "cell_type": "code",
   "execution_count": 118,
   "metadata": {},
   "outputs": [
    {
     "name": "stdout",
     "output_type": "stream",
     "text": [
      "Colonne 1 de nom film_id de type serial\n",
      "Colonne 2 de nom title de type varchar\n",
      "Colonne 3 de nom description de type text\n",
      "Colonne 4 de nom release_year de type int4\n",
      "Colonne 5 de nom language_id de type int2\n",
      "Colonne 6 de nom rental_duration de type int2\n",
      "Colonne 7 de nom rental_rate de type numeric\n",
      "Colonne 8 de nom length de type int2\n",
      "Colonne 9 de nom replacement_cost de type numeric\n",
      "Colonne 10 de nom rating de type mpaa_rating\n",
      "Colonne 11 de nom last_update de type timestamp without time zone\n",
      "Colonne 12 de nom special_features de type _text\n",
      "Colonne 13 de nom fulltext de type tsvector\n"
     ]
    }
   ],
   "source": [
    "try (Connection connection = DriverManager.getConnection(jdbcURL);     \n",
    "     ResultSet rs = connection.createStatement().executeQuery(\"SELECT * FROM film\")) {\n",
    "\n",
    "ResultSetMetaData rsmd = rs.getMetaData();\n",
    "int nbColonnes = rsmd.getColumnCount();\n",
    "for (int i = 1; i <= nbColonnes; i++) {\n",
    "  String typeColonne = rsmd.getColumnTypeName(i);\n",
    "  String nomColonne = rsmd.getColumnName(i);\n",
    "  System.out.println(\"Colonne \" + i + \" de nom \" + nomColonne + \" de type \" + typeColonne);\n",
    "}\n",
    "}"
   ]
  },
  {
   "cell_type": "code",
   "execution_count": null,
   "metadata": {},
   "outputs": [],
   "source": []
  }
 ],
 "metadata": {
  "kernelspec": {
   "display_name": "Java",
   "language": "java",
   "name": "java"
  },
  "language_info": {
   "codemirror_mode": "java",
   "file_extension": ".jshell",
   "mimetype": "text/x-java-source",
   "name": "Java",
   "pygments_lexer": "java",
   "version": "11.0.6+10"
  }
 },
 "nbformat": 4,
 "nbformat_minor": 4
}
