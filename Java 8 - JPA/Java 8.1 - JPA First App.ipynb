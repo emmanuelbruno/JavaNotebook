{
 "cells": [
  {
   "cell_type": "markdown",
   "metadata": {},
   "source": [
    "# Création d'un projet JPA \n",
    "\n",
    "Avec ce que nous avons déjà vu nous accédons aux bases de données relationnelles en Java en utilisant JDBC.\n",
    "Le code JDBC est répétif et sujet à erreur. Nous allons maintenant voir une solution de mapping (association) relationnel/objet. Il s'agit d'un approche déclarative qui permet d'annoter le code Java pour définir le lien avec la ou les bases de données relationnelles. \n",
    "\n",
    "JPA pour générer automatiquement la base de données ou s'adapter à une base de donnée existante. \n",
    "\n",
    "Nous allons commencer par créer un projet Java à partir d'un archetype Java de base :\n"
   ]
  },
  {
   "cell_type": "code",
   "execution_count": 1,
   "metadata": {},
   "outputs": [
    {
     "name": "stdout",
     "output_type": "stream",
     "text": [
      "[INFO] Scanning for projects...                                                \n",
      "[INFO] \n",
      "[INFO] ------------------< org.apache.maven:standalone-pom >-------------------\n",
      "[INFO] Building Maven Stub Project (No POM) 1\n",
      "[INFO] --------------------------------[ pom ]---------------------------------\n",
      "[INFO] \n",
      "[INFO] >>> maven-archetype-plugin:3.1.2:generate (default-cli) > generate-sources @ standalone-pom >>>\n",
      "[INFO] \n",
      "[INFO] <<< maven-archetype-plugin:3.1.2:generate (default-cli) < generate-sources @ standalone-pom <<<\n",
      "[INFO] \n",
      "[INFO] \n",
      "[INFO] --- maven-archetype-plugin:3.1.2:generate (default-cli) @ standalone-pom ---\n",
      "[INFO] Generating project in Batch mode\n",
      "[INFO] Archetype repository not defined. Using the one from [org.apache.maven.archetypes:maven-archetype-quickstart:1.4] found in catalog remote\n",
      "[INFO] ----------------------------------------------------------------------------\n",
      "[INFO] Using following parameters for creating project from Archetype: maven-archetype-quickstart:1.4\n",
      "[INFO] ----------------------------------------------------------------------------\n",
      "[INFO] Parameter: groupId, Value: fr.univtln.bruno\n",
      "[INFO] Parameter: artifactId, Value: MyJPAApp\n",
      "[INFO] Parameter: version, Value: 1.0-SNAPSHOT\n",
      "[INFO] Parameter: package, Value: fr.univtln.bruno\n",
      "[INFO] Parameter: packageInPathFormat, Value: fr/univtln/bruno\n",
      "[INFO] Parameter: package, Value: fr.univtln.bruno\n",
      "[INFO] Parameter: groupId, Value: fr.univtln.bruno\n",
      "[INFO] Parameter: artifactId, Value: MyJPAApp\n",
      "[INFO] Parameter: version, Value: 1.0-SNAPSHOT\n",
      "[INFO] Project created from Archetype in dir: /notebooks/Java 8 - JPA/MyJPAApp\n",
      "[INFO] ------------------------------------------------------------------------\n",
      "[INFO] BUILD SUCCESS\n",
      "[INFO] ------------------------------------------------------------------------\n",
      "[INFO] Total time:  3.044 s\n",
      "[INFO] Finished at: 2020-05-01T18:10:15Z\n",
      "[INFO] ------------------------------------------------------------------------\n"
     ]
    }
   ],
   "source": [
    "cd '/notebooks/Java 8 - JPA'\n",
    "# Removes the project if necessary\n",
    "rm -rf MyJPAApp || true\n",
    "\n",
    "# Create a new project from a Maven Archetype\n",
    "mvn archetype:generate -B \\\n",
    " -DarchetypeGroupId=org.apache.maven.archetypes \\\n",
    " -DarchetypeArtifactId=maven-archetype-quickstart \\\n",
    " -DarchetypeVersion=1.4 \\\n",
    " -DgroupId=fr.univtln.bruno \\\n",
    " -DartifactId=MyJPAApp \\\n",
    " -Dversion=1.0-SNAPSHOT"
   ]
  },
  {
   "cell_type": "markdown",
   "metadata": {},
   "source": [
    "## Installation\n",
    "Pour pouvoir utiliser JPA il faut avoir les classe qui définissent l'API ainsi qu'une implantation particulière. Il existe plusieurs implantation. Nous utiliserons ici l'implantation de référence eclipselink. L'une des plus utilisée à connaitre s'appelle hibernate. En ce qui concerne cette première approche cela ne fera aucune différence. La dépendance de l'API javax.persistence::javax.persistence-api est inclue dans celle des implantations, il n'est donc pas nécessaire de la spécifier. Comme pour JDBC il faut aussi le driver de la base de données (ici postgresql).\n",
    "\n",
    "Modifier le pom.xml pour ajouter les dépendances maven vers le driver JDBC de la base de données et l’implantation de JPA choisie. Par exemple pour postgresql et eclipselink (cf. jpa-pom.xml):"
   ]
  },
  {
   "cell_type": "code",
   "execution_count": 2,
   "metadata": {},
   "outputs": [
    {
     "name": "stdout",
     "output_type": "stream",
     "text": [
      "                                                                               \r"
     ]
    }
   ],
   "source": [
    "cd '/notebooks/Java 8 - JPA/MyJPAApp'\n",
    "\\cp -f ../jpa-pom.xml pom.xml"
   ]
  },
  {
   "cell_type": "markdown",
   "metadata": {},
   "source": [
    "Il faut ensuite ajouter un fichier le persistence.xml qui décrit une ou plusieurs unités de persistance (persistance-unit). Pour chacune, ce fichier indique l'implantation de JPA utilisée (ici eclipselink) et donne les propriétés de connexions et de génération ou non de la base de données au démarrage. Regarder les commentaires dans ce fichier pour plus de détails. "
   ]
  },
  {
   "cell_type": "code",
   "execution_count": 3,
   "metadata": {},
   "outputs": [
    {
     "name": "stdout",
     "output_type": "stream",
     "text": [
      "                                                                               \r"
     ]
    }
   ],
   "source": [
    "mkdir -p src/main/resources/META-INF/\n",
    "\\cp ../persistence.xml src/main/resources/META-INF/"
   ]
  },
  {
   "cell_type": "markdown",
   "metadata": {},
   "source": [
    "Un projet JPA est ensuite constitué d'un ensemble d'entités. Une entité est une classe que l'on veut rendre persistente dans une base de données. Une entité sera annotée de façon particulière. Ajoutons donc une entité qui décrit un étudiant à notre projet. "
   ]
  },
  {
   "cell_type": "code",
   "execution_count": 4,
   "metadata": {},
   "outputs": [
    {
     "name": "stdout",
     "output_type": "stream",
     "text": [
      "                                                                               \r"
     ]
    }
   ],
   "source": [
    "mkdir -p src/main/java/fr/univtln/bruno/java/jpa/entities\n",
    "\\cp ../Student.java src/main/java/fr/univtln/bruno/java/jpa/entities/"
   ]
  },
  {
   "cell_type": "markdown",
   "metadata": {},
   "source": [
    "Une projet JPA va utiliser un EntityManager pour se connecter à la base de données et réaliser les opérations dans le cadre d'une transaction.\n",
    "La classe exécutable JPAFirstApp.java est un exemple simple."
   ]
  },
  {
   "cell_type": "code",
   "execution_count": 5,
   "metadata": {},
   "outputs": [
    {
     "name": "stdout",
     "output_type": "stream",
     "text": [
      "[\u001b[1;34mINFO\u001b[m] Scanning for projects...                                      \n",
      "[\u001b[1;34mINFO\u001b[m] \n",
      "[\u001b[1;34mINFO\u001b[m] \u001b[1m---------------------< \u001b[0;36mfr.univtln.bruno:MyJPAApp\u001b[0;1m >----------------------\u001b[m\n",
      "[\u001b[1;34mINFO\u001b[m] \u001b[1mBuilding MyJPAApp 1.0-SNAPSHOT\u001b[m\n",
      "[\u001b[1;34mINFO\u001b[m] \u001b[1m--------------------------------[ jar ]---------------------------------\u001b[m\n",
      "Downloading from projectlombok.org: http://projectlombok.org/mavenrepo/org/eclipse/persistence/org.eclipse.persistence.jpa/2.7.6/org.eclipse.persistence.jpa-2.7.6.pom\n",
      "Downloading from central: https://repo.maven.apache.org/maven2/org/eclipse/persistence/org.eclipse.persistence.jpa/2.7.6/org.eclipse.persistence.jpa-2.7.6.pom\n",
      "Downloaded from central: https://repo.maven.apache.org/maven2/org/eclipse/persistence/org.eclipse.persistence.jpa/2.7.6/org.eclipse.persistence.jpa-2.7.6.pom (4.1 kB at 11 kB/s)\n",
      "Downloading from projectlombok.org: http://projectlombok.org/mavenrepo/org/eclipse/ee4j/project/1.0.5/project-1.0.5.pom\n",
      "Downloading from central: https://repo.maven.apache.org/maven2/org/eclipse/ee4j/project/1.0.5/project-1.0.5.pom\n",
      "Downloaded from central: https://repo.maven.apache.org/maven2/org/eclipse/ee4j/project/1.0.5/project-1.0.5.pom (13 kB at 173 kB/s)\n",
      "Downloading from projectlombok.org: http://projectlombok.org/mavenrepo/org/eclipse/persistence/jakarta.persistence/2.2.3/jakarta.persistence-2.2.3.pom\n",
      "Downloading from central: https://repo.maven.apache.org/maven2/org/eclipse/persistence/jakarta.persistence/2.2.3/jakarta.persistence-2.2.3.pom\n",
      "Downloaded from central: https://repo.maven.apache.org/maven2/org/eclipse/persistence/jakarta.persistence/2.2.3/jakarta.persistence-2.2.3.pom (2.9 kB at 45 kB/s)\n",
      "Downloading from projectlombok.org: http://projectlombok.org/mavenrepo/org/eclipse/persistence/org.eclipse.persistence.asm/2.7.6/org.eclipse.persistence.asm-2.7.6.pom\n",
      "Downloading from central: https://repo.maven.apache.org/maven2/org/eclipse/persistence/org.eclipse.persistence.asm/2.7.6/org.eclipse.persistence.asm-2.7.6.pom\n",
      "Downloaded from central: https://repo.maven.apache.org/maven2/org/eclipse/persistence/org.eclipse.persistence.asm/2.7.6/org.eclipse.persistence.asm-2.7.6.pom (3.0 kB at 13 kB/s)\n",
      "Downloading from projectlombok.org: http://projectlombok.org/mavenrepo/org/eclipse/persistence/org.eclipse.persistence.antlr/2.7.6/org.eclipse.persistence.antlr-2.7.6.pom\n",
      "Downloading from central: https://repo.maven.apache.org/maven2/org/eclipse/persistence/org.eclipse.persistence.antlr/2.7.6/org.eclipse.persistence.antlr-2.7.6.pom\n",
      "Downloaded from central: https://repo.maven.apache.org/maven2/org/eclipse/persistence/org.eclipse.persistence.antlr/2.7.6/org.eclipse.persistence.antlr-2.7.6.pom (3.0 kB at 24 kB/s)\n",
      "Downloading from projectlombok.org: http://projectlombok.org/mavenrepo/org/eclipse/persistence/org.eclipse.persistence.jpa.jpql/2.7.6/org.eclipse.persistence.jpa.jpql-2.7.6.pom\n",
      "Downloading from central: https://repo.maven.apache.org/maven2/org/eclipse/persistence/org.eclipse.persistence.jpa.jpql/2.7.6/org.eclipse.persistence.jpa.jpql-2.7.6.pom\n",
      "Downloaded from central: https://repo.maven.apache.org/maven2/org/eclipse/persistence/org.eclipse.persistence.jpa.jpql/2.7.6/org.eclipse.persistence.jpa.jpql-2.7.6.pom (3.0 kB at 46 kB/s)\n",
      "Downloading from projectlombok.org: http://projectlombok.org/mavenrepo/org/eclipse/persistence/org.eclipse.persistence.core/2.7.6/org.eclipse.persistence.core-2.7.6.pom\n",
      "Downloading from central: https://repo.maven.apache.org/maven2/org/eclipse/persistence/org.eclipse.persistence.core/2.7.6/org.eclipse.persistence.core-2.7.6.pom\n",
      "Downloaded from central: https://repo.maven.apache.org/maven2/org/eclipse/persistence/org.eclipse.persistence.core/2.7.6/org.eclipse.persistence.core-2.7.6.pom (3.3 kB at 50 kB/s)\n",
      "Downloading from projectlombok.org: http://projectlombok.org/mavenrepo/org/postgresql/postgresql/42.2.5/postgresql-42.2.5.pom\n",
      "Downloading from central: https://repo.maven.apache.org/maven2/org/postgresql/postgresql/42.2.5/postgresql-42.2.5.pom\n",
      "Downloaded from central: https://repo.maven.apache.org/maven2/org/postgresql/postgresql/42.2.5/postgresql-42.2.5.pom (11 kB at 170 kB/s)\n",
      "Downloading from projectlombok.org: http://projectlombok.org/mavenrepo/org/postgresql/pgjdbc-core-parent/1.1.5/pgjdbc-core-parent-1.1.5.pom\n",
      "Downloading from central: https://repo.maven.apache.org/maven2/org/postgresql/pgjdbc-core-parent/1.1.5/pgjdbc-core-parent-1.1.5.pom\n",
      "Downloaded from central: https://repo.maven.apache.org/maven2/org/postgresql/pgjdbc-core-parent/1.1.5/pgjdbc-core-parent-1.1.5.pom (18 kB at 249 kB/s)\n",
      "Downloading from projectlombok.org: http://projectlombok.org/mavenrepo/org/postgresql/pgjdbc-versions/1.1.5/pgjdbc-versions-1.1.5.pom\n",
      "Downloading from central: https://repo.maven.apache.org/maven2/org/postgresql/pgjdbc-versions/1.1.5/pgjdbc-versions-1.1.5.pom\n",
      "Downloaded from central: https://repo.maven.apache.org/maven2/org/postgresql/pgjdbc-versions/1.1.5/pgjdbc-versions-1.1.5.pom (23 kB at 336 kB/s)\n",
      "Downloading from projectlombok.org: http://projectlombok.org/mavenrepo/org/eclipse/persistence/org.eclipse.persistence.jpa/2.7.6/org.eclipse.persistence.jpa-2.7.6.jar\n",
      "Downloading from projectlombok.org: http://projectlombok.org/mavenrepo/org/eclipse/persistence/org.eclipse.persistence.jpa.jpql/2.7.6/org.eclipse.persistence.jpa.jpql-2.7.6.jar\n",
      "Downloading from projectlombok.org: http://projectlombok.org/mavenrepo/org/eclipse/persistence/org.eclipse.persistence.antlr/2.7.6/org.eclipse.persistence.antlr-2.7.6.jar\n",
      "Downloading from projectlombok.org: http://projectlombok.org/mavenrepo/org/eclipse/persistence/org.eclipse.persistence.asm/2.7.6/org.eclipse.persistence.asm-2.7.6.jar\n",
      "Downloading from projectlombok.org: http://projectlombok.org/mavenrepo/org/eclipse/persistence/jakarta.persistence/2.2.3/jakarta.persistence-2.2.3.jar\n",
      "Downloading from projectlombok.org: http://projectlombok.org/mavenrepo/org/eclipse/persistence/org.eclipse.persistence.core/2.7.6/org.eclipse.persistence.core-2.7.6.jar\n",
      "Downloading from projectlombok.org: http://projectlombok.org/mavenrepo/org/postgresql/postgresql/42.2.5/postgresql-42.2.5.jar\n",
      "Downloading from central: https://repo.maven.apache.org/maven2/org/eclipse/persistence/org.eclipse.persistence.jpa/2.7.6/org.eclipse.persistence.jpa-2.7.6.jar\n",
      "Downloading from central: https://repo.maven.apache.org/maven2/org/eclipse/persistence/org.eclipse.persistence.asm/2.7.6/org.eclipse.persistence.asm-2.7.6.jar\n",
      "Downloading from central: https://repo.maven.apache.org/maven2/org/eclipse/persistence/jakarta.persistence/2.2.3/jakarta.persistence-2.2.3.jar\n",
      "Downloading from central: https://repo.maven.apache.org/maven2/org/eclipse/persistence/org.eclipse.persistence.jpa.jpql/2.7.6/org.eclipse.persistence.jpa.jpql-2.7.6.jar\n",
      "Downloading from central: https://repo.maven.apache.org/maven2/org/eclipse/persistence/org.eclipse.persistence.antlr/2.7.6/org.eclipse.persistence.antlr-2.7.6.jar\n",
      "Downloaded from central: https://repo.maven.apache.org/maven2/org/eclipse/persistence/jakarta.persistence/2.2.3/jakarta.persistence-2.2.3.jar (174 kB at 491 kB/s)\n",
      "Downloading from central: https://repo.maven.apache.org/maven2/org/eclipse/persistence/org.eclipse.persistence.core/2.7.6/org.eclipse.persistence.core-2.7.6.jar\n",
      "Downloaded from central: https://repo.maven.apache.org/maven2/org/eclipse/persistence/org.eclipse.persistence.antlr/2.7.6/org.eclipse.persistence.antlr-2.7.6.jar (148 kB at 408 kB/s)\n",
      "Downloading from central: https://repo.maven.apache.org/maven2/org/postgresql/postgresql/42.2.5/postgresql-42.2.5.jar\n",
      "Downloaded from central: https://repo.maven.apache.org/maven2/org/eclipse/persistence/org.eclipse.persistence.jpa/2.7.6/org.eclipse.persistence.jpa-2.7.6.jar (1.4 MB at 3.0 MB/s)\n",
      "Downloaded from central: https://repo.maven.apache.org/maven2/org/eclipse/persistence/org.eclipse.persistence.asm/2.7.6/org.eclipse.persistence.asm-2.7.6.jar (472 kB at 928 kB/s)\n",
      "Downloaded from central: https://repo.maven.apache.org/maven2/org/postgresql/postgresql/42.2.5/postgresql-42.2.5.jar (826 kB at 1.3 MB/s)\n",
      "Downloaded from central: https://repo.maven.apache.org/maven2/org/eclipse/persistence/org.eclipse.persistence.jpa.jpql/2.7.6/org.eclipse.persistence.jpa.jpql-2.7.6.jar (1.3 MB at 2.1 MB/s)\n",
      "Downloaded from central: https://repo.maven.apache.org/maven2/org/eclipse/persistence/org.eclipse.persistence.core/2.7.6/org.eclipse.persistence.core-2.7.6.jar (5.2 MB at 4.1 MB/s)\n",
      "[\u001b[1;34mINFO\u001b[m] \n",
      "[\u001b[1;34mINFO\u001b[m] \u001b[1m--- \u001b[0;32mmaven-resources-plugin:3.0.2:resources\u001b[m \u001b[1m(default-resources)\u001b[m @ \u001b[36mMyJPAApp\u001b[0;1m ---\u001b[m\n",
      "[\u001b[1;34mINFO\u001b[m] Using 'UTF-8' encoding to copy filtered resources.\n",
      "[\u001b[1;34mINFO\u001b[m] Copying 1 resource\n",
      "[\u001b[1;34mINFO\u001b[m] \n",
      "[\u001b[1;34mINFO\u001b[m] \u001b[1m--- \u001b[0;32mmaven-compiler-plugin:3.8.0:compile\u001b[m \u001b[1m(default-compile)\u001b[m @ \u001b[36mMyJPAApp\u001b[0;1m ---\u001b[m\n",
      "[\u001b[1;34mINFO\u001b[m] Changes detected - recompiling the module!\n",
      "[\u001b[1;34mINFO\u001b[m] Compiling 3 source files to /notebooks/Java 8 - JPA/MyJPAApp/target/classes\n",
      "[\u001b[1;34mINFO\u001b[m] \n",
      "[\u001b[1;34mINFO\u001b[m] \u001b[1m--- \u001b[0;32mmaven-resources-plugin:3.0.2:testResources\u001b[m \u001b[1m(default-testResources)\u001b[m @ \u001b[36mMyJPAApp\u001b[0;1m ---\u001b[m\n",
      "[\u001b[1;34mINFO\u001b[m] Using 'UTF-8' encoding to copy filtered resources.\n",
      "[\u001b[1;34mINFO\u001b[m] skip non existing resourceDirectory /notebooks/Java 8 - JPA/MyJPAApp/src/test/resources\n",
      "[\u001b[1;34mINFO\u001b[m] \n",
      "[\u001b[1;34mINFO\u001b[m] \u001b[1m--- \u001b[0;32mmaven-compiler-plugin:3.8.0:testCompile\u001b[m \u001b[1m(default-testCompile)\u001b[m @ \u001b[36mMyJPAApp\u001b[0;1m ---\u001b[m\n",
      "[\u001b[1;34mINFO\u001b[m] Changes detected - recompiling the module!\n",
      "[\u001b[1;34mINFO\u001b[m] Compiling 1 source file to /notebooks/Java 8 - JPA/MyJPAApp/target/test-classes\n",
      "[\u001b[1;34mINFO\u001b[m] \n",
      "[\u001b[1;34mINFO\u001b[m] \u001b[1m--- \u001b[0;32mmaven-surefire-plugin:2.22.1:test\u001b[m \u001b[1m(default-test)\u001b[m @ \u001b[36mMyJPAApp\u001b[0;1m ---\u001b[m\n",
      "[\u001b[1;34mINFO\u001b[m] \n",
      "[\u001b[1;34mINFO\u001b[m] -------------------------------------------------------\n",
      "[\u001b[1;34mINFO\u001b[m]  T E S T S\n",
      "[\u001b[1;34mINFO\u001b[m] -------------------------------------------------------\n",
      "[\u001b[1;34mINFO\u001b[m] Running fr.univtln.bruno.\u001b[1mAppTest\u001b[m\n",
      "[\u001b[1;34mINFO\u001b[m] \u001b[1;32mTests run: \u001b[0;1;32m1\u001b[m, Failures: 0, Errors: 0, Skipped: 0, Time elapsed: 0.035 s - in fr.univtln.bruno.\u001b[1mAppTest\u001b[m\n",
      "[\u001b[1;34mINFO\u001b[m] \n",
      "[\u001b[1;34mINFO\u001b[m] Results:\n",
      "[\u001b[1;34mINFO\u001b[m] \n",
      "[\u001b[1;34mINFO\u001b[m] \u001b[1;32mTests run: 1, Failures: 0, Errors: 0, Skipped: 0\u001b[m\n",
      "[\u001b[1;34mINFO\u001b[m] \n",
      "[\u001b[1;34mINFO\u001b[m] \n",
      "[\u001b[1;34mINFO\u001b[m] \u001b[1m--- \u001b[0;32mmaven-jar-plugin:3.0.2:jar\u001b[m \u001b[1m(default-jar)\u001b[m @ \u001b[36mMyJPAApp\u001b[0;1m ---\u001b[m\n",
      "[\u001b[1;34mINFO\u001b[m] Building jar: /notebooks/Java 8 - JPA/MyJPAApp/target/MyJPAApp-1.0-SNAPSHOT.jar\n",
      "[\u001b[1;34mINFO\u001b[m] \u001b[1m------------------------------------------------------------------------\u001b[m\n",
      "[\u001b[1;34mINFO\u001b[m] \u001b[1;32mBUILD SUCCESS\u001b[m\n",
      "[\u001b[1;34mINFO\u001b[m] \u001b[1m------------------------------------------------------------------------\u001b[m\n",
      "[\u001b[1;34mINFO\u001b[m] Total time:  12.088 s\n",
      "[\u001b[1;34mINFO\u001b[m] Finished at: 2020-05-01T18:10:37Z\n",
      "[\u001b[1;34mINFO\u001b[m] \u001b[1m------------------------------------------------------------------------\u001b[m\n"
     ]
    }
   ],
   "source": [
    "\\cp ../JPAFirstApp.java src/main/java/fr/univtln/bruno/java/jpa\n",
    "mvn package"
   ]
  },
  {
   "cell_type": "markdown",
   "metadata": {},
   "source": [
    "Il suffit donc maintenant d'executer l'application avec ses dépendances. "
   ]
  },
  {
   "cell_type": "code",
   "execution_count": 6,
   "metadata": {},
   "outputs": [
    {
     "name": "stdout",
     "output_type": "stream",
     "text": [
      "[\u001b[1;34mINFO\u001b[m] Scanning for projects...\n",
      "Downloading from central: https://repo.maven.apache.org/maven2/org/apache/maven/plugins/maven-project-info-reports-plugin/3.0.0/maven-project-info-reports-plugin-3.0.0.pom\n",
      "Downloaded from central: https://repo.maven.apache.org/maven2/org/apache/maven/plugins/maven-project-info-reports-plugin/3.0.0/maven-project-info-reports-plugin-3.0.0.pom (20 kB at 52 kB/s)\n",
      "Downloading from central: https://repo.maven.apache.org/maven2/org/apache/maven/plugins/maven-project-info-reports-plugin/3.0.0/maven-project-info-reports-plugin-3.0.0.jar\n",
      "Downloaded from central: https://repo.maven.apache.org/maven2/org/apache/maven/plugins/maven-project-info-reports-plugin/3.0.0/maven-project-info-reports-plugin-3.0.0.jar (300 kB at 1.8 MB/s)\n",
      "[\u001b[1;34mINFO\u001b[m] \n",
      "[\u001b[1;34mINFO\u001b[m] \u001b[1m---------------------< \u001b[0;36mfr.univtln.bruno:MyJPAApp\u001b[0;1m >----------------------\u001b[m\n",
      "[\u001b[1;34mINFO\u001b[m] \u001b[1mBuilding MyJPAApp 1.0-SNAPSHOT\u001b[m\n",
      "[\u001b[1;34mINFO\u001b[m] \u001b[1m--------------------------------[ jar ]---------------------------------\u001b[m\n",
      "[\u001b[1;34mINFO\u001b[m] \n",
      "[\u001b[1;34mINFO\u001b[m] \u001b[1m--- \u001b[0;32mexec-maven-plugin:1.6.0:java\u001b[m \u001b[1m(default-cli)\u001b[m @ \u001b[36mMyJPAApp\u001b[0;1m ---\u001b[m\n",
      "Downloading from central: https://repo.maven.apache.org/maven2/org/apache/maven/reporting/maven-reporting-api/2.2.1/maven-reporting-api-2.2.1.pom\n",
      "Downloaded from central: https://repo.maven.apache.org/maven2/org/apache/maven/reporting/maven-reporting-api/2.2.1/maven-reporting-api-2.2.1.pom (1.9 kB at 31 kB/s)\n",
      "Downloading from central: https://repo.maven.apache.org/maven2/org/apache/maven/reporting/maven-reporting/2.2.1/maven-reporting-2.2.1.pom\n",
      "Downloaded from central: https://repo.maven.apache.org/maven2/org/apache/maven/reporting/maven-reporting/2.2.1/maven-reporting-2.2.1.pom (1.4 kB at 29 kB/s)\n",
      "Downloading from central: https://repo.maven.apache.org/maven2/org/apache/maven/doxia/doxia-sink-api/1.1/doxia-sink-api-1.1.pom\n",
      "Downloaded from central: https://repo.maven.apache.org/maven2/org/apache/maven/doxia/doxia-sink-api/1.1/doxia-sink-api-1.1.pom (2.0 kB at 38 kB/s)\n",
      "Downloading from central: https://repo.maven.apache.org/maven2/org/apache/maven/doxia/doxia/1.1/doxia-1.1.pom\n",
      "Downloaded from central: https://repo.maven.apache.org/maven2/org/apache/maven/doxia/doxia/1.1/doxia-1.1.pom (15 kB at 217 kB/s)\n",
      "Downloading from central: https://repo.maven.apache.org/maven2/org/apache/maven/doxia/doxia-logging-api/1.1/doxia-logging-api-1.1.pom\n",
      "Downloaded from central: https://repo.maven.apache.org/maven2/org/apache/maven/doxia/doxia-logging-api/1.1/doxia-logging-api-1.1.pom (1.6 kB at 29 kB/s)\n",
      "Downloading from central: https://repo.maven.apache.org/maven2/commons-cli/commons-cli/1.2/commons-cli-1.2.pom\n",
      "Downloaded from central: https://repo.maven.apache.org/maven2/commons-cli/commons-cli/1.2/commons-cli-1.2.pom (8.0 kB at 129 kB/s)\n",
      "Downloading from central: https://repo.maven.apache.org/maven2/org/apache/commons/commons-parent/11/commons-parent-11.pom\n",
      "Downloaded from central: https://repo.maven.apache.org/maven2/org/apache/commons/commons-parent/11/commons-parent-11.pom (25 kB at 373 kB/s)\n",
      "Downloading from central: https://repo.maven.apache.org/maven2/org/codehaus/plexus/plexus-interactivity-api/1.0-alpha-4/plexus-interactivity-api-1.0-alpha-4.pom\n",
      "Downloaded from central: https://repo.maven.apache.org/maven2/org/codehaus/plexus/plexus-interactivity-api/1.0-alpha-4/plexus-interactivity-api-1.0-alpha-4.pom (7.1 kB at 124 kB/s)\n",
      "Downloading from central: https://repo.maven.apache.org/maven2/org/apache/commons/commons-exec/1.3/commons-exec-1.3.pom\n",
      "Downloaded from central: https://repo.maven.apache.org/maven2/org/apache/commons/commons-exec/1.3/commons-exec-1.3.pom (11 kB at 204 kB/s)\n",
      "Downloading from central: https://repo.maven.apache.org/maven2/org/apache/commons/commons-parent/35/commons-parent-35.pom\n",
      "Downloaded from central: https://repo.maven.apache.org/maven2/org/apache/commons/commons-parent/35/commons-parent-35.pom (58 kB at 696 kB/s)\n",
      "Downloading from central: https://repo.maven.apache.org/maven2/org/apache/maven/doxia/doxia-sink-api/1.1/doxia-sink-api-1.1.jar\n",
      "Downloading from central: https://repo.maven.apache.org/maven2/org/apache/maven/reporting/maven-reporting-api/2.2.1/maven-reporting-api-2.2.1.jar\n",
      "Downloading from central: https://repo.maven.apache.org/maven2/org/codehaus/plexus/plexus-interactivity-api/1.0-alpha-4/plexus-interactivity-api-1.0-alpha-4.jar\n",
      "Downloading from central: https://repo.maven.apache.org/maven2/org/apache/maven/doxia/doxia-logging-api/1.1/doxia-logging-api-1.1.jar\n",
      "Downloading from central: https://repo.maven.apache.org/maven2/commons-cli/commons-cli/1.2/commons-cli-1.2.jar\n",
      "Downloaded from central: https://repo.maven.apache.org/maven2/org/apache/maven/doxia/doxia-sink-api/1.1/doxia-sink-api-1.1.jar (13 kB at 233 kB/s)\n",
      "Downloading from central: https://repo.maven.apache.org/maven2/org/codehaus/plexus/plexus-utils/3.0.20/plexus-utils-3.0.20.jar\n",
      "Downloaded from central: https://repo.maven.apache.org/maven2/org/codehaus/plexus/plexus-utils/3.0.20/plexus-utils-3.0.20.jar (243 kB at 1.7 MB/s)\n",
      "Downloading from central: https://repo.maven.apache.org/maven2/org/apache/commons/commons-exec/1.3/commons-exec-1.3.jar\n",
      "Downloaded from central: https://repo.maven.apache.org/maven2/org/apache/maven/doxia/doxia-logging-api/1.1/doxia-logging-api-1.1.jar (11 kB at 63 kB/s)\n",
      "Downloaded from central: https://repo.maven.apache.org/maven2/org/apache/maven/reporting/maven-reporting-api/2.2.1/maven-reporting-api-2.2.1.jar (9.8 kB at 51 kB/s)\n",
      "Downloaded from central: https://repo.maven.apache.org/maven2/org/codehaus/plexus/plexus-interactivity-api/1.0-alpha-4/plexus-interactivity-api-1.0-alpha-4.jar (13 kB at 62 kB/s)\n",
      "Downloaded from central: https://repo.maven.apache.org/maven2/org/apache/commons/commons-exec/1.3/commons-exec-1.3.jar (54 kB at 250 kB/s)\n",
      "Downloaded from central: https://repo.maven.apache.org/maven2/commons-cli/commons-cli/1.2/commons-cli-1.2.jar (41 kB at 183 kB/s)\n",
      "[EL Info]: 2020-05-01 18:10:41.093--ServerSession(348301814)--EclipseLink, version: Eclipse Persistence Services - 2.7.6.v20200131-b7c997804f\n",
      "[EL Info]: connection: 2020-05-01 18:10:41.225--ServerSession(348301814)--/file:/notebooks/Java 8 - JPA/MyJPAApp/target/classes/_test-pg-docker login successful\n",
      "Id = 1\n",
      "[\u001b[1;34mINFO\u001b[m] \u001b[1m------------------------------------------------------------------------\u001b[m\n",
      "[\u001b[1;34mINFO\u001b[m] \u001b[1;32mBUILD SUCCESS\u001b[m\n",
      "[\u001b[1;34mINFO\u001b[m] \u001b[1m------------------------------------------------------------------------\u001b[m\n",
      "[\u001b[1;34mINFO\u001b[m] Total time:  2.864 s\n",
      "[\u001b[1;34mINFO\u001b[m] Finished at: 2020-05-01T18:10:41Z\n",
      "[\u001b[1;34mINFO\u001b[m] \u001b[1m------------------------------------------------------------------------\u001b[m\n"
     ]
    }
   ],
   "source": [
    "mvn exec:java  -Dexec.mainClass=\"fr.univtln.bruno.java.jpa.JPAFirstApp\"  "
   ]
  },
  {
   "cell_type": "code",
   "execution_count": null,
   "metadata": {},
   "outputs": [],
   "source": []
  }
 ],
 "metadata": {
  "kernelspec": {
   "display_name": "Z shell",
   "language": "zsh",
   "name": "zsh"
  },
  "language_info": {
   "codemirror_mode": "shell",
   "file_extension": ".zsh",
   "mimetype": "text/x-zsh",
   "name": "zsh",
   "pygments_lexer": "shell",
   "version": "5.7.1"
  }
 },
 "nbformat": 4,
 "nbformat_minor": 4
}
