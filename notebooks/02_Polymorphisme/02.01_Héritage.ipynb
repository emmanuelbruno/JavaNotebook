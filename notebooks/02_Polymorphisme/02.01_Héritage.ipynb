{
 "cells": [
  {
   "cell_type": "markdown",
   "metadata": {
    "slideshow": {
     "slide_type": "slide"
    }
   },
   "source": [
    "# Héritage et polymorphisme"
   ]
  },
  {
   "cell_type": "code",
   "execution_count": 1,
   "metadata": {},
   "outputs": [],
   "source": [
    "public class Animal {\n",
    "    private static int lastid = 0;\n",
    "    private final int id;\n",
    "    private String nom;\n",
    "\n",
    "    public Animal(String nom) {\n",
    "        this.id = lastid++;\n",
    "        this.nom = nom;\n",
    "    }\n",
    "\n",
    "    public int getId() {\n",
    "        return id;\n",
    "    }\n",
    "\n",
    "    public String getNom() {\n",
    "        return nom;\n",
    "    }\n",
    "\n",
    "    public void setNom(String nom) {\n",
    "        this.nom = nom;\n",
    "    }\n",
    "    \n",
    "    @Override\n",
    "    public String toString() {\n",
    "        return \"Animal{\" +\n",
    "                \"id=\" + id +\n",
    "                \", nom='\" + nom + '\\'' +\n",
    "                '}';\n",
    "    }\n",
    "}\n"
   ]
  },
  {
   "cell_type": "code",
   "execution_count": 2,
   "metadata": {},
   "outputs": [
    {
     "name": "stdout",
     "output_type": "stream",
     "text": [
      "Animal{id=0, nom='Rex'}\n",
      "Animal{id=1, nom='Félix'}\n"
     ]
    }
   ],
   "source": [
    "Animal[] animaux = {new Animal(\"Rex\"), new Animal(\"Félix\")};\n",
    "for (Animal animal:animaux)\n",
    "    System.out.println(animal);"
   ]
  },
  {
   "cell_type": "code",
   "execution_count": 3,
   "metadata": {},
   "outputs": [
    {
     "name": "stdout",
     "output_type": "stream",
     "text": [
      "Animal{id=2, nom='Rex'}\n",
      "Animal{id=3, nom='Félix'}\n"
     ]
    }
   ],
   "source": [
    "public class Chien extends Animal {\n",
    "    public Chien(String nom) {super(nom);}\n",
    "}\n",
    "\n",
    "public class Chat extends Animal {\n",
    "    public Chat(String nom) {super(nom);}\n",
    "}\n",
    "\n",
    "Animal[] animaux = {new Chien(\"Rex\"), new Chat(\"Félix\")};\n",
    "\n",
    "for (Animal animal:animaux)\n",
    "    System.out.println(animal);"
   ]
  },
  {
   "cell_type": "code",
   "execution_count": null,
   "metadata": {},
   "outputs": [],
   "source": []
  },
  {
   "cell_type": "code",
   "execution_count": null,
   "metadata": {},
   "outputs": [],
   "source": []
  }
 ],
 "metadata": {
  "kernelspec": {
   "display_name": "Java",
   "language": "java",
   "name": "java"
  },
  "language_info": {
   "codemirror_mode": "java",
   "file_extension": ".jshell",
   "mimetype": "text/x-java-source",
   "name": "Java",
   "pygments_lexer": "java",
   "version": "15.0.1+9"
  }
 },
 "nbformat": 4,
 "nbformat_minor": 4
}
