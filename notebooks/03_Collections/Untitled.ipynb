{
 "cells": [
  {
   "cell_type": "markdown",
   "metadata": {},
   "source": [
    "# Les collections en Java\n",
    "\n",
    "## Objectif\n",
    "L’objectif ce TP est de présenter d’une part l’utilisation des collections et d’autre part l’utilisation d’un outils d’édition de diagrammes UML permettant la génération de code Java (Topcased ou l’éditeur UML intégré à Intellij Idea).\n",
    "\n",
    "## Utilisation \"Simple\" des collections\n",
    "Vous utiliserez les classes du TP précédent. \n",
    "\n",
    "Créez un ensemble d’animaux (sans utiliser de génériques) et peuplez le en utilisant concrètement un HashSet."
   ]
  },
  {
   "cell_type": "code",
   "execution_count": null,
   "metadata": {},
   "outputs": [],
   "source": []
  },
  {
   "cell_type": "markdown",
   "metadata": {},
   "source": [
    "On suppose que tous les animaux ont un nom.\n",
    "Proposer une nouvelles classes Animal qui vérifie que deux animaux sont égaux s’ils ont le même nom."
   ]
  },
  {
   "cell_type": "code",
   "execution_count": null,
   "metadata": {},
   "outputs": [],
   "source": []
  },
  {
   "cell_type": "markdown",
   "metadata": {},
   "source": [
    "Essayer d'ajouter dans un Set des animaux ayant le même noms pour vérifier que c'est maintenant impossible (par définition d’un ensemble)."
   ]
  },
  {
   "cell_type": "code",
   "execution_count": null,
   "metadata": {},
   "outputs": [],
   "source": []
  },
  {
   "cell_type": "markdown",
   "metadata": {},
   "source": [
    "Affichez cet ensemble en utilisant un itérateur puis avec le foreach de Java 5"
   ]
  },
  {
   "cell_type": "code",
   "execution_count": null,
   "metadata": {},
   "outputs": [],
   "source": []
  },
  {
   "cell_type": "markdown",
   "metadata": {},
   "source": [
    "Transformez la classe d'implantation de cet ensemble en un TreeSet. Ajouter des animaux et essayer de l'afficher. Que faut-il modifier d’autre ?"
   ]
  },
  {
   "cell_type": "code",
   "execution_count": null,
   "metadata": {},
   "outputs": [],
   "source": []
  },
  {
   "cell_type": "markdown",
   "metadata": {},
   "source": [
    "Créer une liste d’animaux à partir des animaux de l’ensemble. "
   ]
  },
  {
   "cell_type": "code",
   "execution_count": null,
   "metadata": {},
   "outputs": [],
   "source": []
  },
  {
   "cell_type": "markdown",
   "metadata": {},
   "source": [
    "Afficher la liste des animaux triée par l’ordre alphabétique de leur nom."
   ]
  },
  {
   "cell_type": "code",
   "execution_count": null,
   "metadata": {},
   "outputs": [],
   "source": []
  },
  {
   "cell_type": "markdown",
   "metadata": {},
   "source": [
    "Convertissez cet ensemble en un tableau d’animaux (Faites attention au type)."
   ]
  },
  {
   "cell_type": "code",
   "execution_count": null,
   "metadata": {},
   "outputs": [],
   "source": []
  },
  {
   "cell_type": "code",
   "execution_count": null,
   "metadata": {},
   "outputs": [],
   "source": []
  }
 ],
 "metadata": {
  "kernelspec": {
   "display_name": "Java",
   "language": "java",
   "name": "java"
  },
  "language_info": {
   "codemirror_mode": "java",
   "file_extension": ".jshell",
   "mimetype": "text/x-java-source",
   "name": "Java",
   "pygments_lexer": "java",
   "version": "15.0.1+9"
  }
 },
 "nbformat": 4,
 "nbformat_minor": 4
}
