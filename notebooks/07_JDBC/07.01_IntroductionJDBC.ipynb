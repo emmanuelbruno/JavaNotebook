{
 "cells": [
  {
   "cell_type": "markdown",
   "metadata": {},
   "source": [
    "# Introduction à JDBC\n",
    " * JDBC est une API intégrée à Java qui permet un accès simple aux Systèmes de Gestion de Dases de Données Relationnelles (SGBDR). \n",
    " * Son objectif est d'offrir une vision uniforme des SGDBR notament en s'appuyant sur SQL et en définissant des types adaptés à Java. \n",
    " * C'est une API qui permet de se connecter à une base de données, d'évaluer des requêtes et de parcourir l'ensemble des résultats.\n",
    " * JDBC aussi adaptable pour utiliser les spécifités d'un SGBDR donné mais au prix de la portabilité."
   ]
  },
  {
   "cell_type": "markdown",
   "metadata": {},
   "source": [
    "## Système de gestion de base de données et Dataset\n",
    "\n",
    " * Dans le cadre de ce cours nous utiliserons le système de gestion de base données [h2](https://www.h2database.com). \n",
    " * Il s'agit d'un SGDB écrit en Java qui peut s'executer comme un serveur indépendant ou depuis un programme Java. Il peut aussi être utilisé purement en mémoire ou avec persistence sur disque.\n",
    "\n",
    "Pour l'utiliser il suffit de télécharger le fichier [h2-1.4.200.jar](https://repo1.maven.org/maven2/com/h2database/h2/1.4.200/h2-1.4.200.jar) depuis un entrepôt maven.\n",
    "\n",
    "Le serveur peut être exécuté simplement avec la commande (dans un terminal, cliquer sur + en haut à gauche) suivante pour autoriser les connexions tcp et la création automatique d'une base de données lors du premier accès. H2 supporte aussi un mode de compatibilité avec POstgresQL sue nous allons utiliser\n",
    "\n",
    "```bash\n",
    "java -cp /home/user/lib/h2*.jar \\\n",
    "    org.h2.tools.Server \\\n",
    "        -webAllowOthers \\\n",
    "        -tcpAllowOthers \\\n",
    "        -pgAllowOthers \\\n",
    "        -ifNotExists \n",
    "```\n",
    "\n",
    "Une fois le serveur lancé il est possible d'executer un Shell SQL dans un terminal. Ici en mode de compatibilité postgresql avec *user* comme login et *secret* comme password.\n",
    "\n",
    "```shell\n",
    "java -cp /home/user/lib/h2*.jar org.h2.tools.Shell \\\n",
    "  -url \"jdbc:h2:tcp://localhost/~/testdb;MODE=PostgreSQL;DATABASE_TO_LOWER=TRUE\" \\\n",
    "  -user user -password secret\n",
    "```\n",
    "ou un script SQL. Dans ce cours nous allons utiliser une base de données qui représente des données de transport (des bus) au format [GTFS](https://developers.google.com/transit/gtfs/reference/#general_transit_feed_specification_reference). "
   ]
  },
  {
   "cell_type": "code",
   "execution_count": 1,
   "metadata": {},
   "outputs": [
    {
     "ename": "EvalException",
     "evalue": "Undefined cell magic 'shell'",
     "output_type": "error",
     "traceback": [
      "\u001b[1m\u001b[31m---------------------------------------------------------------------------\u001b[0m",
      "\u001b[1m\u001b[31mio.github.spencerpark.jupyter.kernel.magic.registry.UndefinedMagicException: Undefined cell magic 'shell'\u001b[0m",
      "\u001b[1m\u001b[31m\tat io.github.spencerpark.jupyter.kernel.magic.registry.Magics.applyCellMagic(Magics.java:34)\u001b[0m",
      "\u001b[1m\u001b[31m\tat io.github.spencerpark.ijava.runtime.Magics.cellMagic(Magics.java:31)\u001b[0m",
      "\u001b[1m\u001b[31m\tat .(#12:1)\u001b[0m"
     ]
    }
   ],
   "source": [
    "%%shell\n",
    "\n",
    "# java -cp /home/user/lib/h2.jar org.h2.tools.Shell -url \"jdbc:h2:~/Gtfs_RMTT;MODE=PostgreSQL;DATABASE_TO_LOWER=TRUE\" -user sa \n",
    "\n",
    "java -cp /home/user/lib/h2.jar org.h2.tools.RunScript \\\n",
    "     -url \"jdbc:h2:tcp://localhost/~/Gtfs_RMTT;MODE=PostgreSQL;DATABASE_TO_LOWER=TRUE\" \\\n",
    "     -user sa \\\n",
    "     -script /notebooks/07_JDBC/data.sql"
   ]
  },
  {
   "cell_type": "markdown",
   "metadata": {},
   "source": [
    "Définissons tout d'abord simplement une classe Java pour représenter l'une des entité de l'exemple."
   ]
  },
  {
   "cell_type": "code",
   "execution_count": 2,
   "metadata": {},
   "outputs": [],
   "source": [
    "%mavenRepo projectlombok.org http://projectlombok.org/mavenrepo\n",
    "%maven org.projectlombok:lombok:1.18.14\n",
    "\n",
    "import lombok.*;\n",
    "    \n",
    "@Data\n",
    "@Builder\n",
    "@AllArgsConstructor(staticName=\"of\")\n",
    "public class Stop {\n",
    "    private long id;\n",
    "    private String name;\n",
    "    private float lat;\n",
    "    private float lon;\n",
    "    private String code;\n",
    "    \n",
    "    public Stop(long id, String name, float lat, float lon, String code) {\n",
    "        this.id = id;\n",
    "        this.name = name;\n",
    "        this.lat = lat;\n",
    "        this.lon = lon;\n",
    "        this.code = code;\n",
    "    }\n",
    "    public String toString() {return \"{id:'\"+id+\",name:'\"+name+\"',lat:'\"+lat+\"'lon:\"+lon+\", code='\"+code+\"}\";}\n",
    "}"
   ]
  },
  {
   "cell_type": "code",
   "execution_count": 3,
   "metadata": {},
   "outputs": [
    {
     "data": {
      "text/plain": [
       "{id:'1,name:'X',lat:'5.9333'lon:43.1167, code='X}"
      ]
     },
     "execution_count": 3,
     "metadata": {},
     "output_type": "execute_result"
    }
   ],
   "source": [
    "Stop stop=new Stop(1,\"X\",5.9333F, 43.1167F, \"X\");\n",
    "stop"
   ]
  },
  {
   "cell_type": "markdown",
   "metadata": {},
   "source": [
    "## The JDBC Driver for postgresql\n",
    "Pour se connecter à un SGBDR spécifique il faut disposer d'une implantation particulière d'un Driver (qui devra être ajouté à l'application). \n",
    "Il existe quatre familles de drivers JDBC :\n",
    "* Type 1 - s'appuie sur un autre driver (par exemple JDBC-ODBC)\n",
    "* Type 2 - utilise une implatation native d'un driver coté client.\n",
    "* Type 3 - utilise un middleware pour convertir les appels JDBC en appel s propriétaires du SGBDR.\n",
    "* Type 4 - offre une connection directe depuis une implantation Java (thin driver).\n",
    "\n",
    "Le type 4 est le plus courant. Il est indépendant de la plateforme et offre de meilleures performances en se connectant directement à la base de données. "
   ]
  },
  {
   "cell_type": "markdown",
   "metadata": {},
   "source": [
    "## Ouverture d'une connexion\n",
    "Pour ouvrir une connection, il faut charger la classe de l'implantation du Driver et ouvrir une connexion. En théorie, on devrait utiliser ```Class.forName(\"nom de la classe d'implantation\")``` en pratique JDBC le fait automatique en fonction de l'URL lors de la connexion.\n",
    "\n",
    "La première chose à faire est d'ajouter l'implantation du Driver pour la  base de données visée. Par exemple, en ajoutant à Maven une dépendance comme ci-dessous pour PostgreSQL."
   ]
  },
  {
   "cell_type": "code",
   "execution_count": 21,
   "metadata": {},
   "outputs": [],
   "source": [
    "%%loadFromPOM\n",
    " <dependency>\n",
    "            <groupId>org.postgresql</groupId>\n",
    "            <artifactId>postgresql</artifactId>\n",
    "            <version>42.2.11</version>\n",
    "</dependency>\n",
    "\n",
    "<dependency>\n",
    "    <groupId>com.h2database</groupId>\n",
    "    <artifactId>h2</artifactId>\n",
    "    <version>1.4.200</version>    \n",
    "</dependency>"
   ]
  },
  {
   "cell_type": "markdown",
   "metadata": {},
   "source": [
    "Pour ouvrir une connexion, on utilise une URL dont la forme est spécifique à chaque SGBD par exemple pour [MySQL](https://dev.mysql.com/doc/connector-j/5.1/en/connector-j-usagenotes-connect-drivermanager.html), [PostgreSQL](https://jdbc.postgresql.org/) ou [H2](http://www.h2database.com/html/features.html) (une base de données relationnel en pur Java):\n",
    "* ```jdbc:mysql://localhost:3306/myDatabase?user=username&password=password```\n",
    "* ```jdbc:postgresql://localhost/myDatabase```\n",
    "* ```jdbc:h2:mem:myDatabase```\n",
    "\n",
    "Les informations d'authentification peuvent parfois être donnés dans l'URL ou lors de l'appel de la méthode ```Connection DriverManager.getConnection(jdbcURL)```."
   ]
  },
  {
   "cell_type": "code",
   "execution_count": 22,
   "metadata": {},
   "outputs": [],
   "source": [
    "import java.sql.Connection;\n",
    "import java.sql.DriverManager;\n",
    "//String jdbcURL=\"jdbc:postgresql://db:5432/dvdrental?user=postgres&password=changeme\";\n",
    "String jdbcURL=\"jdbc:h2:tcp://localhost/~/Gtfs_RMTT;MODE=PostgreSQL;DATABASE_TO_LOWER=TRUE\";\n",
    "\n",
    "Connection connection = DriverManager.getConnection(jdbcURL,\"sa\",\"\")\n"
   ]
  },
  {
   "cell_type": "markdown",
   "metadata": {},
   "source": [
    "## Exécution de requêtes SQL\n",
    "Pour exécuter des requetes SQL on utilise des instances de la classes ```Statement```.\n",
    "\n",
    "Il existe trois types de statements :\n",
    "* statement: requêtes simples\n",
    "* prepared statement: requêtes précompilées\n",
    "* callable statement: procédures stockées\n",
    "\n",
    "Un statement est créé à partir d'une connection."
   ]
  },
  {
   "cell_type": "markdown",
   "metadata": {},
   "source": [
    "## Les requêtes simples\n",
    "La méthode à appeler est différente suivant la nature de la requêtes SQL que l’on veut exécuter :\n",
    "* Consultation (select)\n",
    "  * executeQuery() On parcours les t-uples avec un ResultSet\n",
    "\n",
    "* Mise à jour (update, insert, delete) ou gestion de la base de\n",
    "données (create table,...)\n",
    "  * executeUpdate() renvoie le nombre de lignes modifiées\n",
    "\n",
    "* Type inconnu (ex. donné par un fonction sous forme de String)\n",
    "ou si la requêtes peut renvoyer plusieurs résultats (procédures\n",
    "stockées)\n",
    "  * execute()"
   ]
  },
  {
   "cell_type": "code",
   "execution_count": 23,
   "metadata": {},
   "outputs": [],
   "source": [
    "import java.sql.Statement;\n",
    "import java.sql.ResultSet;\n",
    "// Une requête simple\n",
    "Statement statement = connection.createStatement();\n",
    "String query1 = \"SELECT * FROM gtfs_stops LIMIT 5\";\n",
    "ResultSet resultSet = statement.executeQuery(query1);"
   ]
  },
  {
   "cell_type": "markdown",
   "metadata": {},
   "source": [
    "## Parcours des résultats\n",
    "* executeQuery() retourne de ResultSet\n",
    "* L’interface ResultSet définit les méthodes pour accéder au valeur des attributs\n",
    "  * getXXX(int numéroDeColonne)\n",
    "  * getXXX(String nomDeColonne)\n",
    "  * XXX désigne le type Java de la valeur que l'on va récupérer (Byte, Boolean, AsciiStream, Short, String UnicodeStream, Int Bytes, BinaryStream, Long, Date, Object, Float, Time, BigDecimal,TimeStamp)\n",
    "* A Noter : données volumineuses (ex. Blob)\n",
    "  * Ouverture d'un flux"
   ]
  },
  {
   "cell_type": "code",
   "execution_count": 24,
   "metadata": {},
   "outputs": [
    {
     "name": "stdout",
     "output_type": "stream",
     "text": [
      "[{id:'100027,name:'Beau Vézé',lat:'43.10094'lon:6.059851, code='CABEAN}, {id:'100028,name:'Beau Vézé',lat:'43.100803'lon:6.059965, code='CABEAS}, {id:'100029,name:'Californie',lat:'43.085365'lon:6.098909, code='CACALN}, {id:'100030,name:'Californie',lat:'43.08519'lon:6.1001363, code='CACALS}, {id:'100031,name:'Canebas',lat:'43.096413'lon:6.0689964, code='CACANE}]\n"
     ]
    }
   ],
   "source": [
    "import java.util.List;\n",
    "import java.util.ArrayList;\n",
    "List<Stop> stops = new ArrayList<>();\n",
    "while (resultSet.next()) {\n",
    "        stops.add(new Stop(resultSet.getLong(\"stop_id\"),\n",
    "                resultSet.getString(\"stop_name\"),\n",
    "                resultSet.getFloat(\"stop_lat\"),\n",
    "                resultSet.getFloat(\"stop_lon\"),\n",
    "                resultSet.getString(\"stop_code\")));\n",
    "}\n",
    "System.out.println(stops);"
   ]
  },
  {
   "cell_type": "code",
   "execution_count": 26,
   "metadata": {},
   "outputs": [],
   "source": [
    "Statement statement = connection.createStatement();\n",
    "String query1 = \"\"\"\n",
    "    INSERT INTO gtfs_agency(agency_id, agency_name, agency_url, agency_timezone, agency_lang)\n",
    "    VALUES(2, 'Neverland', 'http://nowhere.fr', 'Europe/Paris','fr')\"\"\";\n",
    "int numberOfChanges = statement.executeUpdate(query1);"
   ]
  },
  {
   "cell_type": "markdown",
   "metadata": {},
   "source": [
    "## Les exceptions\n",
    "* Erreur dans le code SQL : SQLException\n",
    "* Avertissement lors de l'exécution (SQLWarning)\n",
    "  * Problèmes de conversion de données (DataTruncation - sous-classe de SQLWarning)"
   ]
  },
  {
   "cell_type": "code",
   "execution_count": 27,
   "metadata": {},
   "outputs": [
    {
     "name": "stderr",
     "output_type": "stream",
     "text": [
      "org.h2.jdbc.JdbcSQLSyntaxErrorException: Table \"employee\" not found; SQL statement:\n",
      " SELECT * FROM Employee [42102-200]\n",
      "\tat org.h2.message.DbException.getJdbcSQLException(DbException.java:453)\n",
      "\tat org.h2.message.DbException.getJdbcSQLException(DbException.java:429)\n",
      "\tat org.h2.message.DbException.get(DbException.java:205)\n",
      "\tat org.h2.message.DbException.get(DbException.java:181)\n",
      "\tat org.h2.command.Parser.readTableOrView(Parser.java:7628)\n",
      "\tat org.h2.command.Parser.readTableFilter(Parser.java:1970)\n",
      "\tat org.h2.command.Parser.parseSelectFromPart(Parser.java:2827)\n",
      "\tat org.h2.command.Parser.parseSelect(Parser.java:2959)\n",
      "\tat org.h2.command.Parser.parseQuerySub(Parser.java:2817)\n",
      "\tat org.h2.command.Parser.parseSelectUnion(Parser.java:2649)\n",
      "\tat org.h2.command.Parser.parseQuery(Parser.java:2620)\n",
      "\tat org.h2.command.Parser.parsePrepared(Parser.java:868)\n",
      "\tat org.h2.command.Parser.parse(Parser.java:843)\n",
      "\tat org.h2.command.Parser.parse(Parser.java:815)\n",
      "\tat org.h2.command.Parser.prepareCommand(Parser.java:738)\n",
      "\tat org.h2.engine.Session.prepareLocal(Session.java:657)\n",
      "\tat org.h2.server.TcpServerThread.process(TcpServerThread.java:278)\n",
      "\tat org.h2.server.TcpServerThread.run(TcpServerThread.java:183)\n",
      "\tat java.base/java.lang.Thread.run(Thread.java:832)\n",
      "\n",
      "\tat org.h2.message.DbException.getJdbcSQLException(DbException.java:453)\n",
      "\tat org.h2.engine.SessionRemote.done(SessionRemote.java:611)\n",
      "\tat org.h2.command.CommandRemote.prepare(CommandRemote.java:85)\n",
      "\tat org.h2.command.CommandRemote.<init>(CommandRemote.java:51)\n",
      "\tat org.h2.engine.SessionRemote.prepareCommand(SessionRemote.java:481)\n",
      "\tat org.h2.jdbc.JdbcConnection.prepareCommand(JdbcConnection.java:1235)\n",
      "\tat org.h2.jdbc.JdbcStatement.executeQuery(JdbcStatement.java:78)\n",
      "\tat REPL.$JShell$127.do_it$($JShell$127.java:37)\n",
      "\tat java.base/jdk.internal.reflect.NativeMethodAccessorImpl.invoke0(Native Method)\n",
      "\tat java.base/jdk.internal.reflect.NativeMethodAccessorImpl.invoke(NativeMethodAccessorImpl.java:64)\n",
      "\tat java.base/jdk.internal.reflect.DelegatingMethodAccessorImpl.invoke(DelegatingMethodAccessorImpl.java:43)\n",
      "\tat java.base/java.lang.reflect.Method.invoke(Method.java:564)\n",
      "\tat io.github.spencerpark.ijava.execution.IJavaExecutionControl.lambda$execute$1(IJavaExecutionControl.java:95)\n",
      "\tat java.base/java.util.concurrent.FutureTask.run(FutureTask.java:264)\n",
      "\tat java.base/java.util.concurrent.ThreadPoolExecutor.runWorker(ThreadPoolExecutor.java:1130)\n",
      "\tat java.base/java.util.concurrent.ThreadPoolExecutor$Worker.run(ThreadPoolExecutor.java:630)\n",
      "\tat java.base/java.lang.Thread.run(Thread.java:832)\n"
     ]
    }
   ],
   "source": [
    "//Traitement d'une erreur SQL\n",
    "import java.sql.SQLException;\n",
    "String wrongQuery = \" SELECT * FROM Employee\" ;\n",
    "try (Connection connection = DriverManager.getConnection(jdbcURL,\"sa\",\"\");\n",
    "            Statement statement = connection.createStatement();\n",
    "            ResultSet resultSet = statement.executeQuery(wrongQuery)) {\n",
    "        // Do stuff here\n",
    "        } catch (SQLException e) {\n",
    "            //Erreur lors de la requête\n",
    "            e.printStackTrace();            \n",
    "        }"
   ]
  },
  {
   "cell_type": "markdown",
   "metadata": {},
   "source": [
    "## Un exemple complet"
   ]
  },
  {
   "cell_type": "markdown",
   "metadata": {},
   "source": [
    "Voilà un exemple complet avec la classique des exceptions. Attention, quand une connection n'est plus utilisée il faut la fermer pour libérer les ressources sur le SGBD."
   ]
  },
  {
   "cell_type": "code",
   "execution_count": 10,
   "metadata": {},
   "outputs": [
    {
     "name": "stdout",
     "output_type": "stream",
     "text": [
      "[{id:'100027,name:'Beau Vézé',lat:'43.10094'lon:6.059851, code='CABEAN}, {id:'100028,name:'Beau Vézé',lat:'43.100803'lon:6.059965, code='CABEAS}, {id:'100029,name:'Californie',lat:'43.085365'lon:6.098909, code='CACALN}, {id:'100030,name:'Californie',lat:'43.08519'lon:6.1001363, code='CACALS}, {id:'100031,name:'Canebas',lat:'43.096413'lon:6.0689964, code='CACANE}]\n"
     ]
    }
   ],
   "source": [
    " String jdbcURL=\"jdbc:h2:tcp://localhost/~/Gtfs_RMTT;MODE=PostgreSQL;DATABASE_TO_LOWER=TRUE\";\n",
    "\n",
    "        Connection connection = null;\n",
    "        ResultSet resultSet = null;\n",
    "        Statement statement = null;\n",
    "        try {\n",
    "            connection = DriverManager.getConnection(jdbcURL,\"sa\",\"\");\n",
    "            statement = connection.createStatement();\n",
    "            String query1 = \"SELECT * FROM gtfs_stops LIMIT 5\";\n",
    "            resultSet = statement.executeQuery(query1);\n",
    "\n",
    "            List<Stop> stops = new ArrayList<>();\n",
    "            while (resultSet.next()) {\n",
    "             stops.add(new Stop(resultSet.getLong(\"stop_id\"),\n",
    "                resultSet.getString(\"stop_name\"),\n",
    "                resultSet.getFloat(\"stop_lat\"),\n",
    "                resultSet.getFloat(\"stop_lon\"),\n",
    "                resultSet.getString(\"stop_code\")));\n",
    "         }\n",
    "            System.out.println(stops);\n",
    "        } catch (SQLException e) {\n",
    "            //Erreur lors de la requête\n",
    "            e.printStackTrace();\n",
    "        } finally {\n",
    "            if (resultSet != null) {\n",
    "                try {\n",
    "                    resultSet.close();\n",
    "                } catch (SQLException e) { /* ignored */}\n",
    "            }\n",
    "            if (connection != null) {\n",
    "                try {\n",
    "                    connection.close();\n",
    "                } catch (SQLException e) { /* ignored */}\n",
    "            }\n",
    "        }"
   ]
  },
  {
   "cell_type": "markdown",
   "metadata": {},
   "source": [
    "A partir de Java 7 une syntaxe particulière (try-with-ressources) est possible pour fermer automatiquement certaines ressources dont les connections et les ResultSet JDBC."
   ]
  },
  {
   "cell_type": "code",
   "execution_count": 13,
   "metadata": {},
   "outputs": [
    {
     "name": "stdout",
     "output_type": "stream",
     "text": [
      "[{id:'100027,name:'Beau Vézé',lat:'43.10094'lon:6.059851, code='CABEAN}, {id:'100028,name:'Beau Vézé',lat:'43.100803'lon:6.059965, code='CABEAS}, {id:'100029,name:'Californie',lat:'43.085365'lon:6.098909, code='CACALN}, {id:'100030,name:'Californie',lat:'43.08519'lon:6.1001363, code='CACALS}, {id:'100031,name:'Canebas',lat:'43.096413'lon:6.0689964, code='CACANE}]\n"
     ]
    }
   ],
   "source": [
    " String jdbcURL=\"jdbc:h2:tcp://localhost/~/Gtfs_RMTT;MODE=PostgreSQL;DATABASE_TO_LOWER=TRUE\";\n",
    "\n",
    "        String query1 = \"SELECT * FROM gtfs_stops LIMIT 5\";\n",
    "        List<Stop> stops = new ArrayList<>();\n",
    "\n",
    "        try (Connection connection = DriverManager.getConnection(jdbcURL,\"sa\",\"\")) {\n",
    "            ResultSet resultSet = null;\n",
    "            Statement statement = null;\n",
    "            statement = connection.createStatement();\n",
    "            resultSet = statement.executeQuery(query1);\n",
    "\n",
    "            while (resultSet.next()) {\n",
    "             stops.add(new Stop(resultSet.getLong(\"stop_id\"),\n",
    "                resultSet.getString(\"stop_name\"),\n",
    "                resultSet.getFloat(\"stop_lat\"),\n",
    "                resultSet.getFloat(\"stop_lon\"),\n",
    "                resultSet.getString(\"stop_code\")));\n",
    "            }\n",
    "            System.out.println(stops);\n",
    "        } catch (SQLException e) {\n",
    "            //Erreur lors de la requête\n",
    "            e.printStackTrace();\n",
    "        }"
   ]
  },
  {
   "cell_type": "markdown",
   "metadata": {},
   "source": [
    "## Types  Java/JDBC et SQL\n",
    "* Malgré SQL les SGBD présentent des différences de types\n",
    "* JDBC masque ces différences en définissant ses propres types SQL (constantes de la classe Types)\n",
    "* Le driver assure la conversion\n",
    "  * SQL vers Java lors de la lecture\n",
    "  * Java vers SQL lors du passage de paramètres\n",
    "* Utilisés explicitement avec les methodes getXXX() (et setXXX())\n",
    "* Parfois plusieurs choix (presque tous les types SQL peuvent être retrouvés par getString())\n",
    "  * CHAR et VARCHAR : getString()\n",
    "  * LONGVARCHAR : getAsciiStream() et getCharacterStream()\n",
    "  * BINARY et VARBINARY : getBytes()\n",
    "  * LONGVARBINARY : getBinaryStream()\n",
    "  * REAL : getFloat(), DOUBLE et FLOAT : getDouble()\n",
    "  * DECIMAL et NUMERIC : getBigDecimal()\n",
    "  * DATE : getDate(), TIME : getTime(), TIMESTAMP :getTimestamp()"
   ]
  },
  {
   "cell_type": "markdown",
   "metadata": {},
   "source": [
    "* Par défaut une connexion est ouverte en « auto-\n",
    "commit » :\n",
    "  * un commit est automatiquement lancé après chaque requete SQL qui fait une mise à jour\n",
    "* Pour un contrôle plus fin on utilise\n",
    "```java\n",
    "conn.setAutoCommit(false) pour le désactiver\n",
    "conn.commit() pour valider la transaction\n",
    "conn.rollback() pour annuler la transaction\n",
    "```"
   ]
  },
  {
   "cell_type": "markdown",
   "metadata": {},
   "source": [
    "## Précompilation des requêtes\n",
    "* Si les requêtes fabriquées à partir de String changent (paramètres) :\n",
    "  * Elles sont compilées à chaque appel d'où une perte de\n",
    "performances\n",
    "* JDBC permet de ne compiler la requête qu'une fois (si le\n",
    "SGBD le supporte)\n",
    "  * En indiquant les paramètres de façon générique\n",
    "  * En fixant leur valeur (sans changer la requête) au moment\n",
    "de l'exécution\n",
    "* Deux Statement particuliers :\n",
    "  * Les requêtes paramétrées (PreparedStatement)\n",
    "Les procédures stockées (CallableStatement)"
   ]
  },
  {
   "cell_type": "code",
   "execution_count": 14,
   "metadata": {},
   "outputs": [
    {
     "name": "stdout",
     "output_type": "stream",
     "text": [
      "[{id:'100034,name:'Carqueiranne',lat:'43.092163'lon:6.077459, code='CACARS}, {id:'100040,name:'Colle Noire (Carqueiranne)',lat:'43.1039'lon:6.0546174, code='CACOLS}, {id:'100063,name:'Canniers',lat:'43.16897'lon:6.0915866, code='CRCANS}]\n"
     ]
    }
   ],
   "source": [
    "import java.sql.PreparedStatement;\n",
    "List<Stop> stops = new ArrayList<>();\n",
    "try (Connection connection = DriverManager.getConnection(jdbcURL,\"sa\",\"\")) {\n",
    " PreparedStatement preparedStatement = connection.prepareStatement(\"SELECT * FROM gtfs_stops WHERE stop_id = ?\");\n",
    " int[] ids={100034,100040,100063};\n",
    " //Juste pour illuster le cas ou une requête revient fréquement, mieux vaudrait une seule requêtes SQL\n",
    " for(int id:ids) {\n",
    "    preparedStatement.setInt(1,id);\n",
    "    ResultSet resultSet = preparedStatement.executeQuery();\n",
    "            while (resultSet.next()) {\n",
    "             stops.add(new Stop(resultSet.getLong(\"stop_id\"),\n",
    "                resultSet.getString(\"stop_name\"),\n",
    "                resultSet.getFloat(\"stop_lat\"),\n",
    "                resultSet.getFloat(\"stop_lon\"),\n",
    "                resultSet.getString(\"stop_code\")));\n",
    "            }\n",
    " }\n",
    " } catch (SQLException e) {\n",
    "            //Erreur lors de la requête\n",
    "            e.printStackTrace();\n",
    "        }\n",
    "System.out.println(stops);"
   ]
  },
  {
   "cell_type": "markdown",
   "metadata": {},
   "source": [
    "## Les transactions"
   ]
  },
  {
   "cell_type": "code",
   "execution_count": 15,
   "metadata": {},
   "outputs": [],
   "source": [
    "Connection connection = DriverManager.getConnection(jdbcURL, \"sa\",\"\");\n",
    "\n",
    "\n",
    "//Create a account table\n",
    "String createAccountTableSql=\"CREATE TABLE account (\"+\n",
    "    \"id SERIAL PRIMARY KEY,\"+\n",
    "    \"name VARCHAR(100) NOT NULL,\"+\n",
    "    \"balance DEC(15,2) NOT NULL)\";\n",
    "Statement statement = connection.createStatement();\n",
    "statement.executeUpdate(createAccountTableSql);\n",
    "statement.close();\n",
    "\n",
    "    \n",
    "//Create accounts for Alice and Bob with a prepared statement\n",
    "String createAccountSql = \"INSERT INTO account(name,balance) VALUES(?,?);\";\n",
    "PreparedStatement pstmt = connection.prepareStatement(createAccountSql);\n",
    "pstmt.setString(1,\"Bob\");\n",
    "pstmt.setInt(2, 1000);\n",
    "pstmt.executeUpdate();\n",
    "\n",
    "pstmt.setString(1,\"Alice\");\n",
    "pstmt.setInt(2, 1000);\n",
    "pstmt.executeUpdate();\n",
    "\n",
    "pstmt.close();\n",
    "\n",
    "PreparedStatement pstmtIncreaseAccount = connection.prepareStatement(\"UPDATE account SET balance = balance + ? WHERE id = ?\");\n",
    "\n",
    "//save autoCommit state\n",
    "boolean autoCommit = connection.getAutoCommit();\n",
    "try {\n",
    "    connection.setAutoCommit(false);\n",
    "    //remove 500€ to Bob\n",
    "    pstmtIncreaseAccount.setInt(1,-500);\n",
    "    pstmtIncreaseAccount.setInt(2,1);\n",
    "    pstmtIncreaseAccount.executeUpdate();\n",
    "    \n",
    "    //add 500€ to Alice\n",
    "    pstmtIncreaseAccount.setInt(1,500);\n",
    "    pstmtIncreaseAccount.setInt(2,2);\n",
    "    pstmtIncreaseAccount.executeUpdate();\n",
    "    connection.commit();\n",
    "} catch (SQLException exc) {\n",
    "    //Cancel the whole transaction if there is a problem.\n",
    "    connection.rollback();\n",
    "} finally {\n",
    "    //restore autoCommit state\n",
    "    connection.setAutoCommit(autoCommit);\n",
    "}\n",
    "\n",
    "//Drop the table\n",
    "connection.createStatement().executeUpdate(\"DROP TABLE account\");\n",
    "\n",
    "connection.close();"
   ]
  },
  {
   "cell_type": "markdown",
   "metadata": {},
   "source": [
    "## Procédure stockées\n",
    "CallableStatement permet d'appeller une procédure stockée directement sur le SGBD. \n",
    "TODO"
   ]
  },
  {
   "cell_type": "code",
   "execution_count": null,
   "metadata": {},
   "outputs": [],
   "source": []
  },
  {
   "cell_type": "markdown",
   "metadata": {},
   "source": [
    "## Metadata\n",
    "* JDBC permet de récupérer des informations sur le type de données que l'on vient de récupérer par un SELECT (interface ResultSetMetaData),\n",
    "* mais aussi sur la base de données elle-même (interface DatabaseMetaData)\n",
    "* Les données que l'on peut récupérer avec DatabaseMetaData dépendent du SGBD avec lequel on travaille"
   ]
  },
  {
   "cell_type": "code",
   "execution_count": 16,
   "metadata": {},
   "outputs": [
    {
     "name": "stdout",
     "output_type": "stream",
     "text": [
      "Database: H2 1.4\n",
      "gtfs_rmtt public\n",
      "Table SIMPLEJDBC_PERSON created.\n"
     ]
    }
   ],
   "source": [
    "//Lecture des metadonnées du serveur de base de données\n",
    "import java.sql.*;\n",
    "\n",
    "String jdbcURL=\"jdbc:h2:tcp://localhost/~/Gtfs_RMTT;MODE=PostgreSQL;DATABASE_TO_LOWER=TRUE\";\n",
    "\n",
    "try (Connection connection = DriverManager.getConnection(jdbcURL,\"sa\",\"\")) {\n",
    "\n",
    "                DatabaseMetaData metadata = connection.getMetaData();\n",
    "\n",
    "                //Print info about the database system\n",
    "                System.out.println(\"Database: \" + metadata.getDatabaseProductName()\n",
    "                        + \" \" + metadata.getDatabaseMajorVersion() + \".\" + metadata.getDatabaseMinorVersion());\n",
    "\n",
    "                System.out.println(connection.getCatalog() + \" \" + connection.getSchema());\n",
    "\n",
    "                //Retrieving the list of database names\n",
    "                ResultSet tables = metadata.getTables(connection.getCatalog(),\n",
    "                        connection.getSchema(),\n",
    "                        \"SIMPLEJDBC_PERSON\", null);\n",
    "\n",
    "                if (tables.next()) {\n",
    "                    System.out.println(\"Table \" + tables.getString(\"TABLE_NAME\") + \" already exist.\");\n",
    "                } else {\n",
    "                    connection.createStatement().execute(\"CREATE TABLE \\\"SIMPLEJDBC_PERSON\\\"(\" +\n",
    "                            \"    id INT PRIMARY KEY NOT NULL, \" +\n",
    "                            \"    firstname VARCHAR(100))\");\n",
    "                    System.out.println(\"Table SIMPLEJDBC_PERSON created.\");\n",
    "                }\n",
    "            } catch (SQLException e) {\n",
    "                e.printStackTrace();\n",
    "            }\n"
   ]
  },
  {
   "cell_type": "code",
   "execution_count": 17,
   "metadata": {},
   "outputs": [
    {
     "name": "stdout",
     "output_type": "stream",
     "text": [
      "Colonne 1 de nom stop_id de type INTEGER\n",
      "Colonne 2 de nom stop_name de type CLOB\n",
      "Colonne 3 de nom stop_desc de type CLOB\n",
      "Colonne 4 de nom stop_lat de type DOUBLE\n",
      "Colonne 5 de nom stop_lon de type DOUBLE\n",
      "Colonne 6 de nom zone_id de type INTEGER\n",
      "Colonne 7 de nom stop_url de type CLOB\n",
      "Colonne 8 de nom stop_code de type CLOB\n",
      "Colonne 9 de nom stop_street de type CLOB\n",
      "Colonne 10 de nom stop_city de type CLOB\n",
      "Colonne 11 de nom stop_region de type CLOB\n",
      "Colonne 12 de nom stop_postcode de type CLOB\n",
      "Colonne 13 de nom stop_country de type CLOB\n",
      "Colonne 14 de nom wheelchair_boarding de type INTEGER\n",
      "Colonne 15 de nom location_type de type INTEGER\n",
      "Colonne 16 de nom parent_station de type INTEGER\n",
      "Colonne 17 de nom stop_timezone de type CLOB\n"
     ]
    }
   ],
   "source": [
    "//Traitement des metadonnées d'un ResulSet\n",
    "//pour la découverte du nombre, du type et du nom des colonnes. \n",
    "String jdbcURL=\"jdbc:h2:tcp://localhost/~/Gtfs_RMTT;MODE=PostgreSQL;DATABASE_TO_LOWER=TRUE\";\n",
    "\n",
    "try (Connection connection = DriverManager.getConnection(jdbcURL,\"sa\",\"\");     \n",
    "     ResultSet rs = connection.createStatement().executeQuery(\"SELECT * FROM gtfs_stops\")) {\n",
    "\n",
    "ResultSetMetaData rsmd = rs.getMetaData();\n",
    "int nbColonnes = rsmd.getColumnCount();\n",
    "for (int i = 1; i <= nbColonnes; i++) {\n",
    "  String typeColonne = rsmd.getColumnTypeName(i);\n",
    "  String nomColonne = rsmd.getColumnName(i);\n",
    "  System.out.println(\"Colonne \" + i + \" de nom \" + nomColonne + \" de type \" + typeColonne);\n",
    "}\n",
    "}"
   ]
  },
  {
   "cell_type": "markdown",
   "metadata": {},
   "source": [
    "## ResultSet modifiables"
   ]
  },
  {
   "cell_type": "code",
   "execution_count": 16,
   "metadata": {},
   "outputs": [
    {
     "ename": "EvalException",
     "evalue": "null",
     "output_type": "error",
     "traceback": [
      "\u001b[1m\u001b[31m---------------------------------------------------------------------------\u001b[0m",
      "\u001b[1m\u001b[31mjava.lang.NullPointerException: null\u001b[0m",
      "\u001b[1m\u001b[31m\tat .(#96:1)\u001b[0m"
     ]
    }
   ],
   "source": [
    "import java.sql.Statement;\n",
    "import java.sql.ResultSet;\n",
    "import java.sql.DriverManager;\n",
    "import java.sql.Connection;\n",
    "Connection connection2 = DriverManager.getConnection(jdbcURL,\"sa\",\"\");\n",
    "Statement statement2 = connection.createStatement(\n",
    "  ResultSet.TYPE_SCROLL_INSENSITIVE, \n",
    "  ResultSet.CONCUR_UPDATABLE\n",
    ");\n",
    "\n",
    "//to be complete"
   ]
  },
  {
   "cell_type": "markdown",
   "metadata": {},
   "source": [
    "## Datasources\n",
    "Il est important de gérer l'ensemble des connexions qui sont ouvertes et idéalement de les réutiliser plutôt que de fermer/ouvrir. Cela peut être fait \"à la main\" en utilisant le concept de DataSource ou utilisant une librairie comme [Apache DBCP](http://commons.apache.org/proper/commons-dbcp/).\n",
    "\n",
    "L'utilisation est simple on définit une classe qui paramètre une datasource qui gère un pool de connexion et fournit des connections : "
   ]
  },
  {
   "cell_type": "code",
   "execution_count": 18,
   "metadata": {},
   "outputs": [],
   "source": [
    "%%loadFromPOM\n",
    "<dependency>\n",
    "    <groupId>org.apache.commons</groupId>\n",
    "    <artifactId>commons-dbcp2</artifactId>\n",
    "    <version>2.7.0</version>\n",
    "</dependency>"
   ]
  },
  {
   "cell_type": "code",
   "execution_count": 22,
   "metadata": {},
   "outputs": [],
   "source": [
    "import org.apache.commons.dbcp2.BasicDataSource;\n",
    "\n",
    "import java.sql.Connection;\n",
    "import java.sql.SQLException;\n",
    "\n",
    "public class DBCPDataSource {\n",
    "\n",
    "    private static BasicDataSource ds = new BasicDataSource();\n",
    "\n",
    "    static {\n",
    "        ds.setUrl(jdbcURL);\n",
    "        ds.setUsername(\"sa\");\n",
    "        ds.setPassword(\"\");\n",
    "\n",
    "        ds.setMinIdle(5);\n",
    "        ds.setMaxIdle(10);\n",
    "        ds.setMaxOpenPreparedStatements(100);\n",
    "    }\n",
    "\n",
    "    private DBCPDataSource() {\n",
    "    }\n",
    "\n",
    "    public static Connection getConnection() throws SQLException {\n",
    "        return ds.getConnection();\n",
    "    }\n",
    "}"
   ]
  },
  {
   "cell_type": "markdown",
   "metadata": {},
   "source": [
    "Il suffit ensuite de demander et de rendre une connexion (le close ne ferme pas forcément la connexion)."
   ]
  },
  {
   "cell_type": "code",
   "execution_count": 21,
   "metadata": {},
   "outputs": [
    {
     "ename": "CompilationException",
     "evalue": "",
     "output_type": "error",
     "traceback": [
      "\u001b[1m\u001b[30m|   \u001b[1m\u001b[30mtry (Connection connection2=\u001b[0m\u001b[1m\u001b[30m\u001b[41mDBCPDataSource\u001b[0m\u001b[1m\u001b[30m.getConnection()) {\u001b[0m",
      "\u001b[1m\u001b[31mcannot find symbol\u001b[0m",
      "\u001b[1m\u001b[31m  symbol:   variable DBCPDataSource\u001b[0m",
      ""
     ]
    }
   ],
   "source": [
    "try (Connection connection2=DBCPDataSource.getConnection()) {\n",
    "    Statement statement = connection.createStatement();\n",
    "    ResultSet resultSet = statement.executeQuery(\"SELECT * FROM gtfs_stops LIMIT 2\");\n",
    "    List<Stop> stops = new ArrayList<>();\n",
    "    \n",
    "            while (resultSet.next()) {\n",
    "             stops.add(new Stop(resultSet.getLong(\"stop_id\"),\n",
    "                resultSet.getString(\"stop_name\"),\n",
    "                resultSet.getFloat(\"stop_lat\"),\n",
    "                resultSet.getFloat(\"stop_lon\"),\n",
    "                resultSet.getString(\"stop_code\")));\n",
    "            }\n",
    "            System.out.println(stops);\n",
    "        } catch (SQLException e) {\n",
    "            //Erreur lors de la requête\n",
    "            e.printStackTrace();\n",
    "        }\n",
    "}"
   ]
  },
  {
   "cell_type": "markdown",
   "metadata": {},
   "source": [
    "## Batch Update\n",
    "Pour des ajouts en masse pensez à utiliser les batch updates mais attention "
   ]
  },
  {
   "cell_type": "code",
   "execution_count": 20,
   "metadata": {},
   "outputs": [
    {
     "ename": "CompilationException",
     "evalue": "",
     "output_type": "error",
     "traceback": [
      "\u001b[1m\u001b[30m|   \u001b[1m\u001b[30m\u001b[0m\u001b[1m\u001b[30m\u001b[41mPreparedStatemen\u001b[0m\u001b[1m\u001b[30m pstmt = \u001b[0m",
      "\u001b[1m\u001b[31mcannot find symbol\u001b[0m",
      "\u001b[1m\u001b[31m  symbol:   class PreparedStatemen\u001b[0m",
      "",
      "\u001b[1m\u001b[30m|   \u001b[1m\u001b[30m  \u001b[0m\u001b[1m\u001b[30m\u001b[41mconn\u001b[0m\u001b[1m\u001b[30m.prepareStatement(\"INSERT INTO EMPLOYE (email, nom, prenom) VALUES(?, ?, ?)\");\u001b[0m",
      "\u001b[1m\u001b[31mcannot find symbol\u001b[0m",
      "\u001b[1m\u001b[31m  symbol:   variable conn\u001b[0m",
      ""
     ]
    }
   ],
   "source": [
    "// Création d'un requete\n",
    "PreparedStatemen pstmt = \n",
    "  conn.prepareStatement(\"INSERT INTO EMPLOYE (email, nom, prenom) VALUES(?, ?, ?)\");\n",
    " \n",
    "//On ajoute les exécution une à une ...\n",
    "conn.setAutoCommit(false);\n",
    " \n",
    "// On fixe les paramètres de la première requête à exécuter\n",
    "pstmt.setString( 1, \"...@...\");\n",
    "pstmt.setString( 2, \"...\" );\n",
    "pstmt.setString( 3, \"...\" );\n",
    "// Et on l'ajoute au batch\n",
    "pstmt.addBatch();\n",
    " \n",
    "// On fixe les paramètres de la seconde requête à exécuter\n",
    "pstmt.setString( 1, \"...@...\");\n",
    "pstmt.setString( 2, \"...\" );\n",
    "pstmt.setString( 3, \"...\" );\n",
    "// Et on l'ajoute au batch\n",
    "pstmt.addBatch();\n",
    " \n",
    "// On ajoute autant de requêtes que nécessaire\n",
    "//Par exemple en lisant un flux de données.\n",
    ".\n",
    ".\n",
    ".\n",
    ".\n",
    "//On créée un tableau d'entiers pour recevoir les résultats.\n",
    "//et on execute toutes les mises à jour en une fois.\n",
    "int[] count = stmt.executeBatch();\n",
    " \n",
    "//On valide les changements.\n",
    "conn.commit();"
   ]
  },
  {
   "cell_type": "code",
   "execution_count": null,
   "metadata": {},
   "outputs": [],
   "source": []
  },
  {
   "cell_type": "code",
   "execution_count": null,
   "metadata": {},
   "outputs": [],
   "source": []
  }
 ],
 "metadata": {
  "kernelspec": {
   "display_name": "Java",
   "language": "java",
   "name": "java"
  },
  "language_info": {
   "codemirror_mode": "java",
   "file_extension": ".jshell",
   "mimetype": "text/x-java-source",
   "name": "Java",
   "pygments_lexer": "java",
   "version": "15.0.1+9"
  }
 },
 "nbformat": 4,
 "nbformat_minor": 4
}
