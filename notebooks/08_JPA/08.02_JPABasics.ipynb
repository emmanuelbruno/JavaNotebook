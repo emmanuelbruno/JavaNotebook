{
 "cells": [
  {
   "cell_type": "markdown",
   "metadata": {},
   "source": [
    "Les bases de JPA"
   ]
  },
  {
   "cell_type": "markdown",
   "metadata": {},
   "source": [
    "## Mise en place\n",
    "Commencons par charger les dépendances : un implantation de JPA et le driver de la base de données relationnelles."
   ]
  },
  {
   "cell_type": "code",
   "execution_count": 12,
   "metadata": {},
   "outputs": [],
   "source": [
    "%%loadFromPOM\n",
    "<dependency>\n",
    "    <groupId>org.hibernate</groupId>\n",
    "    <artifactId>hibernate-core</artifactId>\n",
    "    <version>5.4.13.Final</version>\n",
    "</dependency>\n",
    "<dependency>\n",
    "  <groupId>org.postgresql</groupId>\n",
    "  <artifactId>postgresql</artifactId>\n",
    "  <version>42.2.11</version>\n",
    "</dependency>"
   ]
  },
  {
   "cell_type": "code",
   "execution_count": 13,
   "metadata": {},
   "outputs": [
    {
     "data": {
      "text/plain": [
       "org.hibernate.cfg.Configuration@61e91084"
      ]
     },
     "execution_count": 13,
     "metadata": {},
     "output_type": "execute_result"
    }
   ],
   "source": [
    "import org.hibernate.cfg.Configuration;\n",
    "\n",
    "Properties properties = new Properties();\n",
    "properties.put(\"hibernate.connection.driver_class\", \"org.postgresql.Driver\");\n",
    "properties.put(\"hibernate.connection.url\", \"jdbc:postgresql://db:5432/testdb\");\n",
    "properties.put(\"hibernate.connection.username\", \"testdba\");\n",
    "properties.put(\"hibernate.connection.password\", \"secret\");\n",
    "properties.put(\"show_sql\", \"true\");\n",
    "properties.put(\"hbm2ddl.auto\", \"update\");\n",
    "Configuration configuration = new Configuration();\n",
    "configuration.setProperties(properties);\n",
    "configuration.setProperty(\"show_sql\", \"true\");\n"
   ]
  },
  {
   "cell_type": "markdown",
   "metadata": {},
   "source": [
    "## Création et manipulation simple d'une entité\n"
   ]
  },
  {
   "cell_type": "markdown",
   "metadata": {},
   "source": [
    "Il faut tout d'abord créer une factory pour les entity managers. Elle représente en Java une persistence unit."
   ]
  },
  {
   "cell_type": "markdown",
   "metadata": {},
   "source": [
    "Il est alors possible de créer des entités en annotant conformément à l'API JPA de simples classes Java."
   ]
  },
  {
   "cell_type": "code",
   "execution_count": 1,
   "metadata": {},
   "outputs": [
    {
     "ename": "CompilationException",
     "evalue": "",
     "output_type": "error",
     "traceback": [
      "\u001b[1m\u001b[30m|   \u001b[1m\u001b[30m\u001b[0m\u001b[1m\u001b[30m\u001b[41m\u001b[0m\u001b[1m\u001b[30mimport javax.persistence.*;\u001b[0m",
      "\u001b[1m\u001b[31mpackage javax.persistence does not exist\u001b[0m",
      ""
     ]
    }
   ],
   "source": [
    "import javax.persistence.*;\n",
    "import java.lang.annotation.Annotation;\n",
    "\n",
    "@Entity\n",
    "@Table(name=\"student\")\n",
    "public class Student {\n",
    "\n",
    "    @Id\n",
    "    @GeneratedValue(strategy = GenerationType.IDENTITY)\n",
    "    @Column(name = \"student_id\")\n",
    "    private long id;\n",
    "    \n",
    "    private String firstname;\n",
    "    \n",
    "    private String lastname;\n",
    "    \n",
    "    public long getId() {return id;}\n",
    "    \n",
    "    public String toString () {\n",
    "        return String.format(\"Student: {id:'%d', firstname:'%s', lastname:'%s'}\",id, firstname, lastname);\n",
    "    }\n",
    "}\n",
    "\n",
    "configuration.addAnnotatedClass(Student.class);\n",
    "\n"
   ]
  },
  {
   "cell_type": "code",
   "execution_count": 22,
   "metadata": {},
   "outputs": [
    {
     "data": {
      "text/plain": [
       "Student: {id:'12', firstname:'null', lastname:'null'}"
      ]
     },
     "execution_count": 22,
     "metadata": {},
     "output_type": "execute_result"
    }
   ],
   "source": [
    "import org.hibernate.SessionFactory;\n",
    "import org.hibernate.Session;\n",
    "SessionFactory sessionFactory = configuration.buildSessionFactory();  \n",
    "Session session = sessionFactory.openSession();\n",
    "\n",
    "EntityManager entityManager = session.getEntityManagerFactory().createEntityManager();\n",
    "\n",
    "Student student1 =  new Student() ;\n",
    "entityManager.getTransaction().begin() ;\n",
    "entityManager.persist(student1) ;\n",
    "entityManager.getTransaction().commit() ;\n",
    "\n",
    "student1;\n",
    " \n"
   ]
  },
  {
   "cell_type": "code",
   "execution_count": 23,
   "metadata": {},
   "outputs": [
    {
     "name": "stdout",
     "output_type": "stream",
     "text": [
      "Id = Student: {id:'13', firstname:'null', lastname:'null'}\n"
     ]
    }
   ],
   "source": [
    "Student student2 =  new Student() ;\n",
    "entityManager.getTransaction().begin() ;\n",
    "entityManager.persist(student2) ;\n",
    "entityManager.getTransaction().commit() ;\n",
    "\n",
    "System.out.println(\"Id = \" + student2);"
   ]
  },
  {
   "cell_type": "code",
   "execution_count": 24,
   "metadata": {},
   "outputs": [
    {
     "data": {
      "text/plain": [
       "Student: {id:'1', firstname:'null', lastname:'null'}"
      ]
     },
     "execution_count": 24,
     "metadata": {},
     "output_type": "execute_result"
    }
   ],
   "source": [
    "Student student = entityManager.find(Student.class,  1L) ;\n",
    "student;"
   ]
  },
  {
   "cell_type": "code",
   "execution_count": null,
   "metadata": {},
   "outputs": [],
   "source": []
  },
  {
   "cell_type": "markdown",
   "metadata": {},
   "source": [
    "## Fermeture"
   ]
  },
  {
   "cell_type": "code",
   "execution_count": null,
   "metadata": {},
   "outputs": [],
   "source": [
    "session.close();\n",
    "sessionFactory.close();"
   ]
  }
 ],
 "metadata": {
  "kernelspec": {
   "display_name": "Java",
   "language": "java",
   "name": "java"
  },
  "language_info": {
   "codemirror_mode": "java",
   "file_extension": ".jshell",
   "mimetype": "text/x-java-source",
   "name": "Java",
   "pygments_lexer": "java",
   "version": "15.0.1+9"
  }
 },
 "nbformat": 4,
 "nbformat_minor": 4
}
