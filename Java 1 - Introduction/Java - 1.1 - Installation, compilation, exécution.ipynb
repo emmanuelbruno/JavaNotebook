{
 "cells": [
  {
   "cell_type": "code",
   "execution_count": 9,
   "metadata": {},
   "outputs": [
    {
     "name": "stdout",
     "output_type": "stream",
     "text": [
      "JAVA_HOME /opt/java/openjdk\n",
      "PATH /usr/local/bin:/usr/local/sbin:/opt/java/openjdk/bin:/usr/sbin:/usr/bin:/sbin:/bin\n"
     ]
    }
   ],
   "source": [
    "echo \"JAVA_HOME \"$JAVA_HOME\n",
    "echo \"PATH\" $PATH"
   ]
  },
  {
   "cell_type": "code",
   "execution_count": 10,
   "metadata": {},
   "outputs": [
    {
     "name": "stdout",
     "output_type": "stream",
     "text": [
      "openjdk 14.0.2 2020-07-14\n",
      "OpenJDK Runtime Environment AdoptOpenJDK (build 14.0.2+12)\n",
      "OpenJDK 64-Bit Server VM AdoptOpenJDK (build 14.0.2+12, mixed mode, sharing)\n"
     ]
    }
   ],
   "source": [
    "java --version"
   ]
  },
  {
   "cell_type": "code",
   "execution_count": 11,
   "metadata": {},
   "outputs": [
    {
     "name": "stdout",
     "output_type": "stream",
     "text": [
      ".                                                                              \n",
      "├── build\n",
      "│   └── fr\n",
      "│       └── univtln\n",
      "│           └── bruno\n",
      "│               └── tp\n",
      "│                   └── tp1\n",
      "│                       └── HelloWorld.class\n",
      "├── monManifest\n",
      "└── src\n",
      "    └── fr\n",
      "        └── univtln\n",
      "            └── bruno\n",
      "                └── tp\n",
      "                    └── tp1\n",
      "                        └── HelloWorld.java\n",
      "\n",
      "12 directories, 3 files\n"
     ]
    }
   ],
   "source": [
    "cd '/notebooks/Java 1 - Introduction'/helloworld\n",
    "tree "
   ]
  },
  {
   "cell_type": "code",
   "execution_count": 12,
   "metadata": {},
   "outputs": [
    {
     "name": "stdout",
     "output_type": "stream",
     "text": [
      "                                                                               \r"
     ]
    }
   ],
   "source": [
    "javac -sourcepath src -d build src/fr/univtln/bruno/tp/tp1/HelloWorld.java"
   ]
  },
  {
   "cell_type": "code",
   "execution_count": 13,
   "metadata": {},
   "outputs": [
    {
     "name": "stdout",
     "output_type": "stream",
     "text": [
      "build\n",
      "└── fr\n",
      "    └── univtln\n",
      "        └── bruno\n",
      "            └── tp\n",
      "                └── tp1\n",
      "                    └── HelloWorld.class\n",
      "\n",
      "5 directories, 1 file\n"
     ]
    }
   ],
   "source": [
    "tree build"
   ]
  },
  {
   "cell_type": "code",
   "execution_count": 14,
   "metadata": {},
   "outputs": [
    {
     "name": "stdout",
     "output_type": "stream",
     "text": [
      "Bonjour Pierre\n"
     ]
    }
   ],
   "source": [
    "java -classpath build fr.univtln.bruno.tp.tp1.HelloWorld Pierre"
   ]
  },
  {
   "cell_type": "code",
   "execution_count": 15,
   "metadata": {},
   "outputs": [
    {
     "name": "stdout",
     "output_type": "stream",
     "text": [
      "Loading source files for package fr.univtln.bruno.tp.tp1...\n",
      "Constructing Javadoc information...\n",
      "Creating destination directory: \"doc/\"\n",
      "Standard Doclet version 14.0.2\n",
      "Building tree for all the packages and classes...\n",
      "Generating doc/fr/univtln/bruno/tp/tp1/HelloWorld.html...\n",
      "Generating doc/fr/univtln/bruno/tp/tp1/package-summary.html...\n",
      "Generating doc/fr/univtln/bruno/tp/tp1/package-tree.html...\n",
      "Generating doc/constant-values.html...\n",
      "Building index for all the packages and classes...\n",
      "Generating doc/overview-tree.html...\n",
      "Generating doc/deprecated-list.html...\n",
      "Generating doc/index-all.html...\n",
      "Building index for all classes...\n",
      "Generating doc/allclasses-index.html...\n",
      "Generating doc/allpackages-index.html...\n",
      "Generating doc/system-properties.html...\n",
      "Generating doc/index.html...\n",
      "Generating doc/help-doc.html...\n"
     ]
    }
   ],
   "source": [
    "javadoc -d doc -sourcepath src -subpackages fr.univtln.bruno.tp.tp1"
   ]
  },
  {
   "cell_type": "code",
   "execution_count": 16,
   "metadata": {},
   "outputs": [
    {
     "name": "stdout",
     "output_type": "stream",
     "text": [
      "added manifest                                                                 \n",
      "adding: fr/(in = 0) (out= 0)(stored 0%)\n",
      "adding: fr/univtln/(in = 0) (out= 0)(stored 0%)\n",
      "adding: fr/univtln/bruno/(in = 0) (out= 0)(stored 0%)\n",
      "adding: fr/univtln/bruno/tp/(in = 0) (out= 0)(stored 0%)\n",
      "adding: fr/univtln/bruno/tp/tp1/(in = 0) (out= 0)(stored 0%)\n",
      "adding: fr/univtln/bruno/tp/tp1/HelloWorld.class(in = 979) (out= 563)(deflated 42%)\n",
      "                                                                               \r"
     ]
    }
   ],
   "source": [
    "mkdir dist\n",
    "cd build\n",
    "jar cvf ../dist/tp.jar fr\n",
    "cd .."
   ]
  },
  {
   "cell_type": "code",
   "execution_count": 17,
   "metadata": {},
   "outputs": [
    {
     "name": "stdout",
     "output_type": "stream",
     "text": [
      "Bonjour Max\n"
     ]
    }
   ],
   "source": [
    "java -cp dist/tp.jar fr.univtln.bruno.tp.tp1.HelloWorld Max"
   ]
  },
  {
   "cell_type": "code",
   "execution_count": 18,
   "metadata": {},
   "outputs": [
    {
     "name": "stdout",
     "output_type": "stream",
     "text": [
      "added manifest                                                                 \n",
      "adding: fr/(in = 0) (out= 0)(stored 0%)\n",
      "adding: fr/univtln/(in = 0) (out= 0)(stored 0%)\n",
      "adding: fr/univtln/bruno/(in = 0) (out= 0)(stored 0%)\n",
      "adding: fr/univtln/bruno/tp/(in = 0) (out= 0)(stored 0%)\n",
      "adding: fr/univtln/bruno/tp/tp1/(in = 0) (out= 0)(stored 0%)\n",
      "adding: fr/univtln/bruno/tp/tp1/HelloWorld.class(in = 979) (out= 563)(deflated 42%)\n",
      "                                                                               \r"
     ]
    }
   ],
   "source": [
    "cd build\n",
    "jar cvfm ../dist/tp.jar ../monManifest fr\n",
    "cd .."
   ]
  },
  {
   "cell_type": "code",
   "execution_count": 19,
   "metadata": {},
   "outputs": [
    {
     "name": "stdout",
     "output_type": "stream",
     "text": [
      "Bonjour Pierre\n"
     ]
    }
   ],
   "source": [
    "java -jar dist/tp.jar Pierre"
   ]
  },
  {
   "cell_type": "code",
   "execution_count": 20,
   "metadata": {},
   "outputs": [
    {
     "name": "stdout",
     "output_type": "stream",
     "text": [
      "build  dist  doc  src  monManifest\n"
     ]
    }
   ],
   "source": []
  },
  {
   "cell_type": "code",
   "execution_count": null,
   "metadata": {},
   "outputs": [],
   "source": []
  },
  {
   "cell_type": "code",
   "execution_count": null,
   "metadata": {},
   "outputs": [],
   "source": []
  },
  {
   "cell_type": "code",
   "execution_count": null,
   "metadata": {},
   "outputs": [],
   "source": []
  }
 ],
 "metadata": {
  "kernelspec": {
   "display_name": "Z shell",
   "language": "zsh",
   "name": "zsh"
  },
  "language_info": {
   "codemirror_mode": "shell",
   "file_extension": ".zsh",
   "mimetype": "text/x-zsh",
   "name": "zsh",
   "pygments_lexer": "shell",
   "version": "5.7.1"
  }
 },
 "nbformat": 4,
 "nbformat_minor": 4
}
