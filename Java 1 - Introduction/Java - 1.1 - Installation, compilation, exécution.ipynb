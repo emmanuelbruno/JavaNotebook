{
 "cells": [
  {
   "cell_type": "markdown",
   "metadata": {},
   "source": [
    "# Java Installation et utilisation de base\n",
    "Pour installer et utiliser Java pour développer des applications il suffit de télécharger un jdk (https://adoptopenjdk.net/), de le décompresser dans un répertoire, de définir la variable `JAVA_HOME` et ajouter `$JAVA_HOME/bin` à la variable `PATH`.\n",
    "```bash\n",
    "export JAVA_HOME=/usr/local/jdk....\n",
    "export PATH=$JAVA_HOME/bin:$PATH\n",
    "```\n",
    "\n",
    " Pour une installation, rapide et simple de Java et Maven en autres, il est possible d’utiliser : L’outils SDKMain : http://sdkman.io/\n",
    "\n",
    "```bash\n",
    "curl -s “https://get.sdkman.io” | bash\n",
    "sdk install java 14.0.2.hs-adpt\n",
    "sdk install maven 3.6.3\n",
    "```\n"
   ]
  },
  {
   "cell_type": "code",
   "execution_count": 9,
   "metadata": {},
   "outputs": [
    {
     "name": "stdout",
     "output_type": "stream",
     "text": [
      "JAVA_HOME /opt/java/openjdk\n",
      "PATH /usr/local/bin:/usr/local/sbin:/opt/java/openjdk/bin:/usr/sbin:/usr/bin:/sbin:/bin\n"
     ]
    }
   ],
   "source": [
    "echo \"JAVA_HOME \"$JAVA_HOME\n",
    "echo \"PATH\" $PATH"
   ]
  },
  {
   "cell_type": "code",
   "execution_count": 3,
   "metadata": {},
   "outputs": [
    {
     "name": "stdout",
     "output_type": "stream",
     "text": [
      "openjdk 14.0.2 2020-07-14\n",
      "OpenJDK Runtime Environment AdoptOpenJDK (build 14.0.2+12)\n",
      "OpenJDK 64-Bit Server VM AdoptOpenJDK (build 14.0.2+12, mixed mode, sharing)\n",
      "\n",
      "javac 14.0.2\n"
     ]
    }
   ],
   "source": [
    "java --version\n",
    "echo \n",
    "javac --version"
   ]
  },
  {
   "cell_type": "markdown",
   "metadata": {},
   "source": [
    "## Compiler et exécuter une application\n",
    "A la racine de votre compte ajouter un répertoire `Projects/Java` (ce répertoire sera appelé répertoire de travail ou workspace, il contiendra tout vos projets). A l’intérieur de votre répertoire de travail ajouter le répertoire `helloworld` (appelé répertoire de projet). A l’intérieur de votre répertoire de projet ajouter les répertoires standards src, bin, doc, dist et lib.\n",
    "\n",
    "Dans le répertoire src, créer l’arborescence correspondant au paquetage : `fr.univtln.login.tp.tp1`. A l’intérieur de ce paquetage ajouter le programme Java [PremierProgramme.java](https://bruno.univ-tln.fr/_media/enseignement/m1/ssi3/tp1/premierprogramme.java.zip).\n",
    "\n",
    "Ouvrir et modifier ce programme pour que l’instruction package soit correcte en adaptant votre login. "
   ]
  },
  {
   "cell_type": "code",
   "execution_count": 10,
   "metadata": {},
   "outputs": [
    {
     "name": "stdout",
     "output_type": "stream",
     "text": [
      "/notebooks/Java 1 - Introduction/Projects/Java/helloworld                      \n",
      "├── bin\n",
      "│   └── fr\n",
      "│       └── univtln\n",
      "│           └── bruno\n",
      "│               └── tp\n",
      "│                   └── tp1\n",
      "│                       └── HelloWorld.class\n",
      "├── build\n",
      "│   └── fr\n",
      "│       └── univtln\n",
      "│           └── bruno\n",
      "│               └── tp\n",
      "│                   └── tp1\n",
      "│                       └── HelloWorld.class\n",
      "├── dist\n",
      "│   └── tp.jar\n",
      "├── doc\n",
      "│   ├── allclasses-index.html\n",
      "│   ├── allpackages-index.html\n",
      "│   ├── constant-values.html\n",
      "│   ├── deprecated-list.html\n",
      "│   ├── element-list\n",
      "│   ├── fr\n",
      "│   │   └── univtln\n",
      "│   │       └── bruno\n",
      "│   │           └── tp\n",
      "│   │               └── tp1\n",
      "│   │                   ├── HelloWorld.html\n",
      "│   │                   ├── package-summary.html\n",
      "│   │                   └── package-tree.html\n",
      "│   ├── help-doc.html\n",
      "│   ├── index-all.html\n",
      "│   ├── index.html\n",
      "│   ├── member-search-index.js\n",
      "│   ├── member-search-index.zip\n",
      "│   ├── overview-tree.html\n",
      "│   ├── package-search-index.js\n",
      "│   ├── package-search-index.zip\n",
      "│   ├── resources\n",
      "│   │   ├── glass.png\n",
      "│   │   └── x.png\n",
      "│   ├── script-dir\n",
      "│   │   ├── external\n",
      "│   │   │   └── jquery\n",
      "│   │   │       └── jquery.js\n",
      "│   │   ├── images\n",
      "│   │   │   ├── ui-bg_glass_55_fbf9ee_1x400.png\n",
      "│   │   │   ├── ui-bg_glass_65_dadada_1x400.png\n",
      "│   │   │   ├── ui-bg_glass_75_dadada_1x400.png\n",
      "│   │   │   ├── ui-bg_glass_75_e6e6e6_1x400.png\n",
      "│   │   │   ├── ui-bg_glass_95_fef1ec_1x400.png\n",
      "│   │   │   ├── ui-bg_highlight-soft_75_cccccc_1x100.png\n",
      "│   │   │   ├── ui-icons_222222_256x240.png\n",
      "│   │   │   ├── ui-icons_2e83ff_256x240.png\n",
      "│   │   │   ├── ui-icons_454545_256x240.png\n",
      "│   │   │   ├── ui-icons_888888_256x240.png\n",
      "│   │   │   └── ui-icons_cd0a0a_256x240.png\n",
      "│   │   ├── jquery-3.4.1.js\n",
      "│   │   ├── jquery-ui.css\n",
      "│   │   ├── jquery-ui.js\n",
      "│   │   ├── jquery-ui.min.css\n",
      "│   │   ├── jquery-ui.min.js\n",
      "│   │   ├── jquery-ui.structure.css\n",
      "│   │   ├── jquery-ui.structure.min.css\n",
      "│   │   ├── jszip\n",
      "│   │   │   └── dist\n",
      "│   │   │       ├── jszip.js\n",
      "│   │   │       └── jszip.min.js\n",
      "│   │   └── jszip-utils\n",
      "│   │       └── dist\n",
      "│   │           ├── jszip-utils-ie.js\n",
      "│   │           ├── jszip-utils-ie.min.js\n",
      "│   │           ├── jszip-utils.js\n",
      "│   │           └── jszip-utils.min.js\n",
      "│   ├── script.js\n",
      "│   ├── search.js\n",
      "│   ├── stylesheet.css\n",
      "│   ├── system-properties.html\n",
      "│   ├── type-search-index.js\n",
      "│   └── type-search-index.zip\n",
      "├── monManifest\n",
      "└── src\n",
      "    └── fr\n",
      "        └── univtln\n",
      "            └── bruno\n",
      "                └── tp\n",
      "                    └── tp1\n",
      "                        └── HelloWorld.java\n",
      "\n",
      "34 directories, 54 files\n"
     ]
    }
   ],
   "source": [
    "export JAVA_PROJECTS=\"/notebooks/Java 1 - Introduction/Projects/Java\"\n",
    "cd \"$JAVA_PROJECTS\"\n",
    "tree \"$JAVA_PROJECTS/helloworld\""
   ]
  },
  {
   "cell_type": "markdown",
   "metadata": {},
   "source": [
    "A partir de votre répertoire de projet, compiler le programme avec la commande suivante :"
   ]
  },
  {
   "cell_type": "code",
   "execution_count": 14,
   "metadata": {},
   "outputs": [
    {
     "name": "stdout",
     "output_type": "stream",
     "text": [
      "bin                                                                            \n",
      "└── fr\n",
      "    └── univtln\n",
      "        └── bruno\n",
      "            └── tp\n",
      "                └── tp1\n",
      "                    └── HelloWorld.class\n",
      "\n",
      "5 directories, 1 file\n"
     ]
    }
   ],
   "source": [
    "cd \"$JAVA_PROJECTS/helloworld\"\n",
    "javac -sourcepath src -d bin src/fr/univtln/bruno/tp/tp1/HelloWorld.java\n",
    "tree bin"
   ]
  },
  {
   "cell_type": "markdown",
   "metadata": {},
   "source": [
    "Pour exécuter le programme, depuis votre répertoire de projet ajouter le répertoire bin au classpath : "
   ]
  },
  {
   "cell_type": "code",
   "execution_count": 16,
   "metadata": {},
   "outputs": [
    {
     "name": "stdout",
     "output_type": "stream",
     "text": [
      "Bonjour Pierre\n"
     ]
    }
   ],
   "source": [
    "java -classpath bin fr.univtln.bruno.tp.tp1.HelloWorld Pierre"
   ]
  },
  {
   "cell_type": "markdown",
   "metadata": {},
   "source": [
    "## Générer la documentation\n",
    "### Précision sur la forme\n",
    "\n",
    "La commande `javadoc` produit de la documentation en partant de commentaires particuliers insérés dans le code source des classes (/** … */). On peut ainsi documenter les paquetages, classes ou interfaces, variables d’instance, méthodes,...\n",
    "\n",
    "Les commentaires peuvent contenir du texte simple et des balises HTML de mise en forme de texte (`<I>` italique, `<B>` caractère gras, ...). On peut utiliser la balise `<code>` pour inclure du code dans les commentaires. Des balises spéciaux appelées annotations qui commencent par le caractère @ (@author, @version, @param,... ) sont définies pour fixer des valeurs standards. Les commentaires doivent être placées juste avant ce qu’ils commentent. Lire cette page : https://docs.oracle.com/javase/8/docs/technotes/tools/unix/javadoc.html\n",
    "\n",
    "```java\n",
    "/**\n",
    " * A class representing a window on the screen.\n",
    " * For example:\n",
    " * <pre>\n",
    " *    Window win = new Window(parent);\n",
    " *    win.show();\n",
    " * </pre>\n",
    " *\n",
    " * @author  Sami Shaio\n",
    " * @version 1.13, 06/08/06\n",
    " * @see     java.awt.BaseWindow\n",
    " * @see     java.awt.Button\n",
    " */\n",
    "class Window extends BaseWindow {\n",
    "   \n",
    "    ...\n",
    "    \n",
    "    /**\n",
    "     * The X-coordinate of the component.\n",
    "     *\n",
    "     * @see #getLocation()\n",
    "     */\n",
    "    int x = 1263732; \n",
    "   \n",
    "    ...\n",
    "    \n",
    "   /**\n",
    "     * Returns the character at the specified index. An index \n",
    "     * ranges from <code>0</code> to <code>length() - 1</code>\n",
    "     *\n",
    "     * @param     index the index of the desired character.\n",
    "     * @return    the desired character.\n",
    "     * @exception StringIndexOutOfRangeException \n",
    "     *              if the index is not in the range <code>0</code> \n",
    "     *              to <code>length()-1</code>\n",
    "     * @see       java.lang.Character#charValue()\n",
    "     */\n",
    "    public char charAt(int index) {\n",
    "       ...\n",
    "    }\n",
    "        \n",
    "}\n",
    "```\n",
    "    \n",
    "    \n",
    "De plus, il est rappelé que le langage Java est entouré d’un ensemble de bonnes pratiques. Cette page présente les habitudes dans le cadre du langage java. Lire cette page : http://www.oracle.com/technetwork/java/javase/documentation/index-137868.html\n",
    "\n",
    "Ajouter les commentaires pour les packages (cf. package-info.java)\n",
    "\n",
    "### Génération\n",
    "\n",
    "A partir de maintenant, tous vos programmes seront commentés. Générer la documentation depuis votre répertoire de projet avec la commande: "
   ]
  },
  {
   "cell_type": "code",
   "execution_count": 18,
   "metadata": {},
   "outputs": [
    {
     "name": "stdout",
     "output_type": "stream",
     "text": [
      "Loading source files for package fr.univtln.bruno.tp.tp1...\n",
      "Constructing Javadoc information...\n",
      "Standard Doclet version 14.0.2\n",
      "Building tree for all the packages and classes...\n",
      "Generating doc/fr/univtln/bruno/tp/tp1/HelloWorld.html...\n",
      "Generating doc/fr/univtln/bruno/tp/tp1/package-summary.html...\n",
      "Generating doc/fr/univtln/bruno/tp/tp1/package-tree.html...\n",
      "Generating doc/constant-values.html...\n",
      "Building index for all the packages and classes...\n",
      "Generating doc/overview-tree.html...\n",
      "Generating doc/deprecated-list.html...\n",
      "Generating doc/index-all.html...\n",
      "Building index for all classes...\n",
      "Generating doc/allclasses-index.html...\n",
      "Generating doc/allpackages-index.html...\n",
      "Generating doc/system-properties.html...\n",
      "Generating doc/index.html...\n",
      "Generating doc/help-doc.html...\n"
     ]
    }
   ],
   "source": [
    "javadoc -d doc -sourcepath src -subpackages fr.univtln.bruno.tp.tp1"
   ]
  },
  {
   "cell_type": "markdown",
   "metadata": {},
   "source": [
    "## Générer et exécuter l’archive jar\n",
    "Génerer l’archive de votre projet depuis votre répertoire de projet avec la commande : "
   ]
  },
  {
   "cell_type": "code",
   "execution_count": 20,
   "metadata": {},
   "outputs": [
    {
     "name": "stdout",
     "output_type": "stream",
     "text": [
      "added manifest                                                                 \n",
      "adding: fr/(in = 0) (out= 0)(stored 0%)\n",
      "adding: fr/univtln/(in = 0) (out= 0)(stored 0%)\n",
      "adding: fr/univtln/bruno/(in = 0) (out= 0)(stored 0%)\n",
      "adding: fr/univtln/bruno/tp/(in = 0) (out= 0)(stored 0%)\n",
      "adding: fr/univtln/bruno/tp/tp1/(in = 0) (out= 0)(stored 0%)\n",
      "adding: fr/univtln/bruno/tp/tp1/HelloWorld.class(in = 979) (out= 563)(deflated 42%)\n",
      "                                                                               \r"
     ]
    }
   ],
   "source": [
    "mkdir dist\n",
    "cd build\n",
    "jar cvf ../dist/tp.jar fr\n",
    "cd .."
   ]
  },
  {
   "cell_type": "markdown",
   "metadata": {},
   "source": [
    "Exécuter le programme en ajoutant le jar au classpath et en indiquant la classe exécutable avec la commande suivante : "
   ]
  },
  {
   "cell_type": "code",
   "execution_count": 21,
   "metadata": {},
   "outputs": [
    {
     "name": "stdout",
     "output_type": "stream",
     "text": [
      "Bonjour Max\n"
     ]
    }
   ],
   "source": [
    "java -cp dist/tp.jar fr.univtln.bruno.tp.tp1.HelloWorld Max"
   ]
  },
  {
   "cell_type": "markdown",
   "metadata": {},
   "source": [
    "Il est possible de rendre le jar “exécutable” en créant un fichier manifest qui indique en particulier quelle est la classe exécutable.\n",
    "\n",
    "Copier le fichier monManifest de [monmanifest.zip](https://bruno.univ-tln.fr/_media/enseignement/m1/ssi3/monmanifest.zip) dans le répertoire de projet et regarder son contenu. Recréer le fichier .jar en précisant le manifeste à ajouter : "
   ]
  },
  {
   "cell_type": "code",
   "execution_count": 23,
   "metadata": {},
   "outputs": [
    {
     "name": "stdout",
     "output_type": "stream",
     "text": [
      "added manifest                                                                 \n",
      "adding: fr/(in = 0) (out= 0)(stored 0%)\n",
      "adding: fr/univtln/(in = 0) (out= 0)(stored 0%)\n",
      "adding: fr/univtln/bruno/(in = 0) (out= 0)(stored 0%)\n",
      "adding: fr/univtln/bruno/tp/(in = 0) (out= 0)(stored 0%)\n",
      "adding: fr/univtln/bruno/tp/tp1/(in = 0) (out= 0)(stored 0%)\n",
      "adding: fr/univtln/bruno/tp/tp1/HelloWorld.class(in = 979) (out= 563)(deflated 42%)\n",
      "                                                                               \r"
     ]
    }
   ],
   "source": [
    "cd build\n",
    "jar cvfm ../dist/tp.jar ../monManifest fr\n",
    "cd .."
   ]
  },
  {
   "cell_type": "markdown",
   "metadata": {},
   "source": [
    "Puis exécuter directement l’archive : "
   ]
  },
  {
   "cell_type": "code",
   "execution_count": 19,
   "metadata": {},
   "outputs": [
    {
     "name": "stdout",
     "output_type": "stream",
     "text": [
      "Bonjour Pierre\n"
     ]
    }
   ],
   "source": [
    "java -jar dist/tp.jar Pierre"
   ]
  }
 ],
 "metadata": {
  "kernelspec": {
   "display_name": "Z shell",
   "language": "zsh",
   "name": "zsh"
  },
  "language_info": {
   "codemirror_mode": "shell",
   "file_extension": ".zsh",
   "mimetype": "text/x-zsh",
   "name": "zsh",
   "pygments_lexer": "shell",
   "version": "5.7.1"
  }
 },
 "nbformat": 4,
 "nbformat_minor": 4
}
