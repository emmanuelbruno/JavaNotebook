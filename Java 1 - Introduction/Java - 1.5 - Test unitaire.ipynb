{
 "cells": [
  {
   "cell_type": "markdown",
   "metadata": {},
   "source": [
    "From https://github.com/junit-team/junit4/wiki/Getting-started"
   ]
  },
  {
   "cell_type": "code",
   "execution_count": 25,
   "metadata": {},
   "outputs": [
    {
     "name": "stdout",
     "output_type": "stream",
     "text": [
      "[\u001b[1;34mINFO\u001b[m] Scanning for projects...                                      \n",
      "[\u001b[1;34mINFO\u001b[m] \n",
      "[\u001b[1;34mINFO\u001b[m] \u001b[1m---------------------< \u001b[0;36mfr.univtln.bruno:JunitApp\u001b[0;1m >----------------------\u001b[m\n",
      "[\u001b[1;34mINFO\u001b[m] \u001b[1mBuilding JunitApp 1.0-SNAPSHOT\u001b[m\n",
      "[\u001b[1;34mINFO\u001b[m] \u001b[1m--------------------------------[ jar ]---------------------------------\u001b[m\n",
      "[\u001b[1;34mINFO\u001b[m] \n",
      "[\u001b[1;34mINFO\u001b[m] \u001b[1m--- \u001b[0;32mmaven-resources-plugin:3.0.2:resources\u001b[m \u001b[1m(default-resources)\u001b[m @ \u001b[36mJunitApp\u001b[0;1m ---\u001b[m\n",
      "[\u001b[1;34mINFO\u001b[m] Using 'UTF-8' encoding to copy filtered resources.\n",
      "[\u001b[1;34mINFO\u001b[m] skip non existing resourceDirectory /notebooks/Java 1 - Introduction/MyJunitApp/src/main/resources\n",
      "[\u001b[1;34mINFO\u001b[m] \n",
      "[\u001b[1;34mINFO\u001b[m] \u001b[1m--- \u001b[0;32mmaven-compiler-plugin:3.8.0:compile\u001b[m \u001b[1m(default-compile)\u001b[m @ \u001b[36mJunitApp\u001b[0;1m ---\u001b[m\n",
      "[\u001b[1;34mINFO\u001b[m] Changes detected - recompiling the module!\n",
      "[\u001b[1;34mINFO\u001b[m] Compiling 1 source file to /notebooks/Java 1 - Introduction/MyJunitApp/target/classes\n",
      "[\u001b[1;34mINFO\u001b[m] \n",
      "[\u001b[1;34mINFO\u001b[m] \u001b[1m--- \u001b[0;32mmaven-resources-plugin:3.0.2:testResources\u001b[m \u001b[1m(default-testResources)\u001b[m @ \u001b[36mJunitApp\u001b[0;1m ---\u001b[m\n",
      "[\u001b[1;34mINFO\u001b[m] Using 'UTF-8' encoding to copy filtered resources.\n",
      "[\u001b[1;34mINFO\u001b[m] skip non existing resourceDirectory /notebooks/Java 1 - Introduction/MyJunitApp/src/test/resources\n",
      "[\u001b[1;34mINFO\u001b[m] \n",
      "[\u001b[1;34mINFO\u001b[m] \u001b[1m--- \u001b[0;32mmaven-compiler-plugin:3.8.0:testCompile\u001b[m \u001b[1m(default-testCompile)\u001b[m @ \u001b[36mJunitApp\u001b[0;1m ---\u001b[m\n",
      "[\u001b[1;34mINFO\u001b[m] Changes detected - recompiling the module!\n",
      "[\u001b[1;34mINFO\u001b[m] Compiling 1 source file to /notebooks/Java 1 - Introduction/MyJunitApp/target/test-classes\n",
      "[\u001b[1;34mINFO\u001b[m] \n",
      "[\u001b[1;34mINFO\u001b[m] \u001b[1m--- \u001b[0;32mmaven-surefire-plugin:2.22.1:test\u001b[m \u001b[1m(default-test)\u001b[m @ \u001b[36mJunitApp\u001b[0;1m ---\u001b[m\n",
      "[\u001b[1;34mINFO\u001b[m] \n",
      "[\u001b[1;34mINFO\u001b[m] -------------------------------------------------------\n",
      "[\u001b[1;34mINFO\u001b[m]  T E S T S\n",
      "[\u001b[1;34mINFO\u001b[m] -------------------------------------------------------\n",
      "[\u001b[1;34mINFO\u001b[m] Running fr.univtln.bruno.\u001b[1mCalculatorTest\u001b[m\n",
      "[\u001b[1;34mINFO\u001b[m] \u001b[1;32mTests run: \u001b[0;1;32m1\u001b[m, Failures: 0, Errors: 0, Skipped: 0, Time elapsed: 0.033 s - in fr.univtln.bruno.\u001b[1mCalculatorTest\u001b[m\n",
      "[\u001b[1;34mINFO\u001b[m] \n",
      "[\u001b[1;34mINFO\u001b[m] Results:\n",
      "[\u001b[1;34mINFO\u001b[m] \n",
      "[\u001b[1;34mINFO\u001b[m] \u001b[1;32mTests run: 1, Failures: 0, Errors: 0, Skipped: 0\u001b[m\n",
      "[\u001b[1;34mINFO\u001b[m] \n",
      "[\u001b[1;34mINFO\u001b[m] \u001b[1m------------------------------------------------------------------------\u001b[m\n",
      "[\u001b[1;34mINFO\u001b[m] \u001b[1;32mBUILD SUCCESS\u001b[m\n",
      "[\u001b[1;34mINFO\u001b[m] \u001b[1m------------------------------------------------------------------------\u001b[m\n",
      "[\u001b[1;34mINFO\u001b[m] Total time:  2.489 s\n",
      "[\u001b[1;34mINFO\u001b[m] Finished at: 2020-10-14T21:57:15Z\n",
      "[\u001b[1;34mINFO\u001b[m] \u001b[1m------------------------------------------------------------------------\u001b[m\n"
     ]
    }
   ],
   "source": [
    "export JAVA_PROJECTS=\"/notebooks/Java 1 - Introduction/MyJunitApp\"\n",
    "cd \"$JAVA_PROJECTS\"\n",
    "\\cp Calculator.java src/main/java/fr/univtln/bruno/Calculator.java\n",
    "\\cp CalculatorTest.java src/test/java/fr/univtln/bruno/CalculatorTest.java    \n",
    "mvn -ntp test"
   ]
  },
  {
   "cell_type": "code",
   "execution_count": 26,
   "metadata": {},
   "outputs": [
    {
     "name": "stdout",
     "output_type": "stream",
     "text": [
      "[\u001b[1;34mINFO\u001b[m] Scanning for projects...                                      \n",
      "[\u001b[1;34mINFO\u001b[m] \n",
      "[\u001b[1;34mINFO\u001b[m] \u001b[1m---------------------< \u001b[0;36mfr.univtln.bruno:JunitApp\u001b[0;1m >----------------------\u001b[m\n",
      "[\u001b[1;34mINFO\u001b[m] \u001b[1mBuilding JunitApp 1.0-SNAPSHOT\u001b[m\n",
      "[\u001b[1;34mINFO\u001b[m] \u001b[1m--------------------------------[ jar ]---------------------------------\u001b[m\n",
      "[\u001b[1;34mINFO\u001b[m] \n",
      "[\u001b[1;34mINFO\u001b[m] \u001b[1m--- \u001b[0;32mmaven-resources-plugin:3.0.2:resources\u001b[m \u001b[1m(default-resources)\u001b[m @ \u001b[36mJunitApp\u001b[0;1m ---\u001b[m\n",
      "[\u001b[1;34mINFO\u001b[m] Using 'UTF-8' encoding to copy filtered resources.\n",
      "[\u001b[1;34mINFO\u001b[m] skip non existing resourceDirectory /notebooks/Java 1 - Introduction/MyJunitApp/src/main/resources\n",
      "[\u001b[1;34mINFO\u001b[m] \n",
      "[\u001b[1;34mINFO\u001b[m] \u001b[1m--- \u001b[0;32mmaven-compiler-plugin:3.8.0:compile\u001b[m \u001b[1m(default-compile)\u001b[m @ \u001b[36mJunitApp\u001b[0;1m ---\u001b[m\n",
      "[\u001b[1;34mINFO\u001b[m] Changes detected - recompiling the module!\n",
      "[\u001b[1;34mINFO\u001b[m] Compiling 1 source file to /notebooks/Java 1 - Introduction/MyJunitApp/target/classes\n",
      "[\u001b[1;34mINFO\u001b[m] \n",
      "[\u001b[1;34mINFO\u001b[m] \u001b[1m--- \u001b[0;32mmaven-resources-plugin:3.0.2:testResources\u001b[m \u001b[1m(default-testResources)\u001b[m @ \u001b[36mJunitApp\u001b[0;1m ---\u001b[m\n",
      "[\u001b[1;34mINFO\u001b[m] Using 'UTF-8' encoding to copy filtered resources.\n",
      "[\u001b[1;34mINFO\u001b[m] skip non existing resourceDirectory /notebooks/Java 1 - Introduction/MyJunitApp/src/test/resources\n",
      "[\u001b[1;34mINFO\u001b[m] \n",
      "[\u001b[1;34mINFO\u001b[m] \u001b[1m--- \u001b[0;32mmaven-compiler-plugin:3.8.0:testCompile\u001b[m \u001b[1m(default-testCompile)\u001b[m @ \u001b[36mJunitApp\u001b[0;1m ---\u001b[m\n",
      "[\u001b[1;34mINFO\u001b[m] Nothing to compile - all classes are up to date\n",
      "[\u001b[1;34mINFO\u001b[m] \n",
      "[\u001b[1;34mINFO\u001b[m] \u001b[1m--- \u001b[0;32mmaven-surefire-plugin:2.22.1:test\u001b[m \u001b[1m(default-test)\u001b[m @ \u001b[36mJunitApp\u001b[0;1m ---\u001b[m\n",
      "[\u001b[1;34mINFO\u001b[m] \n",
      "[\u001b[1;34mINFO\u001b[m] -------------------------------------------------------\n",
      "[\u001b[1;34mINFO\u001b[m]  T E S T S\n",
      "[\u001b[1;34mINFO\u001b[m] -------------------------------------------------------\n",
      "[\u001b[1;34mINFO\u001b[m] Running fr.univtln.bruno.\u001b[1mCalculatorTest\u001b[m\n",
      "[\u001b[1;31mERROR\u001b[m] \u001b[1;31mTests \u001b[0;1mrun: \u001b[0;1m1\u001b[m, \u001b[1;31mFailures: \u001b[0;1;31m1\u001b[m, Errors: 0, Skipped: 0, Time elapsed: 0.044 s\u001b[1;31m <<< FAILURE!\u001b[m - in fr.univtln.bruno.\u001b[1mCalculatorTest\u001b[m\n",
      "[\u001b[1;31mERROR\u001b[m] evaluatesExpression(fr.univtln.bruno.CalculatorTest)  Time elapsed: 0.007 s  <<< FAILURE!\n",
      "java.lang.AssertionError: expected:<6> but was:<-6>\n",
      "\tat fr.univtln.bruno.CalculatorTest.evaluatesExpression(CalculatorTest.java:11)\n",
      "\n",
      "[\u001b[1;34mINFO\u001b[m] \n",
      "[\u001b[1;34mINFO\u001b[m] Results:\n",
      "[\u001b[1;34mINFO\u001b[m] \n",
      "[\u001b[1;31mERROR\u001b[m] \u001b[1;31mFailures: \u001b[m\n",
      "[\u001b[1;31mERROR\u001b[m] \u001b[1;31m  CalculatorTest.evaluatesExpression:11 expected:<6> but was:<-6>\u001b[m\n",
      "[\u001b[1;34mINFO\u001b[m] \n",
      "[\u001b[1;31mERROR\u001b[m] \u001b[1;31mTests run: 1, Failures: 1, Errors: 0, Skipped: 0\u001b[m\n",
      "[\u001b[1;34mINFO\u001b[m] \n",
      "[\u001b[1;34mINFO\u001b[m] \u001b[1m------------------------------------------------------------------------\u001b[m\n",
      "[\u001b[1;34mINFO\u001b[m] \u001b[1;31mBUILD FAILURE\u001b[m\n",
      "[\u001b[1;34mINFO\u001b[m] \u001b[1m------------------------------------------------------------------------\u001b[m\n",
      "[\u001b[1;34mINFO\u001b[m] Total time:  2.328 s\n",
      "[\u001b[1;34mINFO\u001b[m] Finished at: 2020-10-14T21:57:36Z\n",
      "[\u001b[1;34mINFO\u001b[m] \u001b[1m------------------------------------------------------------------------\u001b[m\n",
      "[\u001b[1;31mERROR\u001b[m] Failed to execute goal \u001b[32morg.apache.maven.plugins:maven-surefire-plugin:2.22.1:test\u001b[m \u001b[1m(default-test)\u001b[m on project \u001b[36mJunitApp\u001b[m: \u001b[1;31mThere are test failures.\u001b[m\n",
      "[\u001b[1;31mERROR\u001b[m] \u001b[1;31m\u001b[m\n",
      "[\u001b[1;31mERROR\u001b[m] \u001b[1;31mPlease refer to /notebooks/Java 1 - Introduction/MyJunitApp/target/surefire-reports for the individual test results.\u001b[m\n",
      "[\u001b[1;31mERROR\u001b[m] \u001b[1;31mPlease refer to dump files (if any exist) [date].dump, [date]-jvmRun[N].dump and [date].dumpstream.\u001b[m\n",
      "[\u001b[1;31mERROR\u001b[m] -> \u001b[1m[Help 1]\u001b[m\n",
      "[\u001b[1;31mERROR\u001b[m] \n",
      "[\u001b[1;31mERROR\u001b[m] To see the full stack trace of the errors, re-run Maven with the \u001b[1m-e\u001b[m switch.\n",
      "[\u001b[1;31mERROR\u001b[m] Re-run Maven using the \u001b[1m-X\u001b[m switch to enable full debug logging.\n",
      "[\u001b[1;31mERROR\u001b[m] \n",
      "[\u001b[1;31mERROR\u001b[m] For more information about the errors and possible solutions, please read the following articles:\n",
      "[\u001b[1;31mERROR\u001b[m] \u001b[1m[Help 1]\u001b[m http://cwiki.apache.org/confluence/display/MAVEN/MojoFailureException\n"
     ]
    }
   ],
   "source": [
    "cd \"$JAVA_PROJECTS\"\n",
    "\\cp Calculator-with-error.java src/main/java/fr/univtln/bruno/Calculator.java    \n",
    "mvn -ntp test"
   ]
  },
  {
   "cell_type": "code",
   "execution_count": 27,
   "metadata": {},
   "outputs": [
    {
     "name": "stdout",
     "output_type": "stream",
     "text": [
      "[\u001b[1;34mINFO\u001b[m] Scanning for projects...                                      \n",
      "[\u001b[1;34mINFO\u001b[m] \n",
      "[\u001b[1;34mINFO\u001b[m] \u001b[1m---------------------< \u001b[0;36mfr.univtln.bruno:JunitApp\u001b[0;1m >----------------------\u001b[m\n",
      "[\u001b[1;34mINFO\u001b[m] \u001b[1mBuilding JunitApp 1.0-SNAPSHOT\u001b[m\n",
      "[\u001b[1;34mINFO\u001b[m] \u001b[1m--------------------------------[ jar ]---------------------------------\u001b[m\n",
      "[\u001b[1;34mINFO\u001b[m] \n",
      "[\u001b[1;34mINFO\u001b[m] \u001b[1m--- \u001b[0;32mmaven-resources-plugin:3.0.2:resources\u001b[m \u001b[1m(default-resources)\u001b[m @ \u001b[36mJunitApp\u001b[0;1m ---\u001b[m\n",
      "[\u001b[1;34mINFO\u001b[m] Using 'UTF-8' encoding to copy filtered resources.\n",
      "[\u001b[1;34mINFO\u001b[m] skip non existing resourceDirectory /notebooks/Java 1 - Introduction/MyJunitApp/src/main/resources\n",
      "[\u001b[1;34mINFO\u001b[m] \n",
      "[\u001b[1;34mINFO\u001b[m] \u001b[1m--- \u001b[0;32mmaven-compiler-plugin:3.8.0:compile\u001b[m \u001b[1m(default-compile)\u001b[m @ \u001b[36mJunitApp\u001b[0;1m ---\u001b[m\n",
      "[\u001b[1;34mINFO\u001b[m] Changes detected - recompiling the module!\n",
      "[\u001b[1;34mINFO\u001b[m] Compiling 1 source file to /notebooks/Java 1 - Introduction/MyJunitApp/target/classes\n",
      "[\u001b[1;34mINFO\u001b[m] \n",
      "[\u001b[1;34mINFO\u001b[m] \u001b[1m--- \u001b[0;32mmaven-resources-plugin:3.0.2:testResources\u001b[m \u001b[1m(default-testResources)\u001b[m @ \u001b[36mJunitApp\u001b[0;1m ---\u001b[m\n",
      "[\u001b[1;34mINFO\u001b[m] Using 'UTF-8' encoding to copy filtered resources.\n",
      "[\u001b[1;34mINFO\u001b[m] skip non existing resourceDirectory /notebooks/Java 1 - Introduction/MyJunitApp/src/test/resources\n",
      "[\u001b[1;34mINFO\u001b[m] \n",
      "[\u001b[1;34mINFO\u001b[m] \u001b[1m--- \u001b[0;32mmaven-compiler-plugin:3.8.0:testCompile\u001b[m \u001b[1m(default-testCompile)\u001b[m @ \u001b[36mJunitApp\u001b[0;1m ---\u001b[m\n",
      "[\u001b[1;34mINFO\u001b[m] Changes detected - recompiling the module!\n",
      "[\u001b[1;34mINFO\u001b[m] Compiling 1 source file to /notebooks/Java 1 - Introduction/MyJunitApp/target/test-classes\n",
      "[\u001b[1;34mINFO\u001b[m] \n",
      "[\u001b[1;34mINFO\u001b[m] \u001b[1m--- \u001b[0;32mmaven-surefire-plugin:2.22.1:test\u001b[m \u001b[1m(default-test)\u001b[m @ \u001b[36mJunitApp\u001b[0;1m ---\u001b[m\n",
      "[\u001b[1;34mINFO\u001b[m] \n",
      "[\u001b[1;34mINFO\u001b[m] -------------------------------------------------------\n",
      "[\u001b[1;34mINFO\u001b[m]  T E S T S\n",
      "[\u001b[1;34mINFO\u001b[m] -------------------------------------------------------\n",
      "[\u001b[1;34mINFO\u001b[m] Running fr.univtln.bruno.\u001b[1mCalculatorTest\u001b[m\n",
      "Using @BeforeClass, executed before all test cases.\n",
      "Using @Before, executed before each test case.\n",
      "Using @Test(expected) ,it will check for specified exception during its execution\n",
      "Using @After, executed after each test case.\n",
      "Using @Before, executed before each test case.\n",
      "Test 2\n",
      "Using @After, executed after each test case.\n",
      "Using @Before, executed before each test case.\n",
      "Test 3\n",
      "Using @After, executed after each test case.\n",
      "Using @Before, executed before each test case.\n",
      "Using @After, executed after each test case.\n",
      "Using @AfterClass, executed after all test cases.\n",
      "[\u001b[1;33mWARNING\u001b[m] \u001b[1;33mTests \u001b[0;1mrun: \u001b[0;1m5\u001b[m, Failures: 0, Errors: 0, \u001b[1;33mSkipped: \u001b[0;1;33m1\u001b[m, Time elapsed: 0.039 s - in fr.univtln.bruno.\u001b[1mCalculatorTest\u001b[m\n",
      "[\u001b[1;34mINFO\u001b[m] \n",
      "[\u001b[1;34mINFO\u001b[m] Results:\n",
      "[\u001b[1;34mINFO\u001b[m] \n",
      "[\u001b[1;33mWARNING\u001b[m] \u001b[1;33mTests run: 5, Failures: 0, Errors: 0, Skipped: 1\u001b[m\n",
      "[\u001b[1;34mINFO\u001b[m] \n",
      "[\u001b[1;34mINFO\u001b[m] \u001b[1m------------------------------------------------------------------------\u001b[m\n",
      "[\u001b[1;34mINFO\u001b[m] \u001b[1;32mBUILD SUCCESS\u001b[m\n",
      "[\u001b[1;34mINFO\u001b[m] \u001b[1m------------------------------------------------------------------------\u001b[m\n",
      "[\u001b[1;34mINFO\u001b[m] Total time:  2.494 s\n",
      "[\u001b[1;34mINFO\u001b[m] Finished at: 2020-10-14T21:57:45Z\n",
      "[\u001b[1;34mINFO\u001b[m] \u001b[1m------------------------------------------------------------------------\u001b[m\n"
     ]
    }
   ],
   "source": [
    "cd \"$JAVA_PROJECTS\"\n",
    "\\cp Calculator.java src/main/java/fr/univtln/bruno/Calculator.java    \n",
    "\\cp CalculatorTest-advanced.java src/test/java/fr/univtln/bruno/CalculatorTest.java    \n",
    "mvn -ntp test"
   ]
  },
  {
   "cell_type": "code",
   "execution_count": null,
   "metadata": {},
   "outputs": [],
   "source": []
  },
  {
   "cell_type": "code",
   "execution_count": null,
   "metadata": {},
   "outputs": [],
   "source": []
  }
 ],
 "metadata": {
  "kernelspec": {
   "display_name": "Z shell",
   "language": "zsh",
   "name": "zsh"
  },
  "language_info": {
   "codemirror_mode": "shell",
   "file_extension": ".zsh",
   "mimetype": "text/x-zsh",
   "name": "zsh",
   "pygments_lexer": "shell",
   "version": "5.7.1"
  }
 },
 "nbformat": 4,
 "nbformat_minor": 4
}
