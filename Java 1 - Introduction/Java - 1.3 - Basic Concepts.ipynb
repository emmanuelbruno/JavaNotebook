{
 "cells": [
  {
   "cell_type": "code",
   "execution_count": 56,
   "metadata": {},
   "outputs": [],
   "source": [
    "%load /magics/UML.jshell\n",
    "%load /magics/SHELL.jshell"
   ]
  },
  {
   "cell_type": "markdown",
   "metadata": {},
   "source": [
    "- Le langage Java est fortement typé\n",
    "  - Toute expression a un type connu au moment de la compilation.\n",
    "- On distingue deux familles de types :\n",
    "  - Les types primitifs\n",
    "    - Booléen : boolean (1 bit)\n",
    "    - Entier : byte (1 octet), short (2 octets), int (4 octets), long (8 octets)\n",
    "    - Flottant : float (4 octets), double (8 octets)\n",
    "    - Caractère : char (2 octets, codage unicode)\n",
    "- Les références\n",
    "  - Elles indiquent des objets\n",
    "  - Elles comprennent les classes, les interfaces et les tableaux."
   ]
  },
  {
   "cell_type": "code",
   "execution_count": 22,
   "metadata": {},
   "outputs": [],
   "source": [
    "boolean b=false;\n",
    "byte by=1;\n",
    "short s=128;\n",
    "int i=123;\n",
    "long l=123;\n",
    "float f=123.4F;\n",
    "double d=123.4;\n",
    "char c='π';\n",
    "\n",
    "Object o=null;"
   ]
  },
  {
   "cell_type": "code",
   "execution_count": 37,
   "metadata": {},
   "outputs": [
    {
     "data": {
      "image/svg+xml": [
       "<?xml version=\"1.0\" encoding=\"UTF-8\" standalone=\"no\"?><svg xmlns=\"http://www.w3.org/2000/svg\" xmlns:xlink=\"http://www.w3.org/1999/xlink\" contentScriptType=\"application/ecmascript\" contentStyleType=\"text/css\" height=\"107px\" preserveAspectRatio=\"none\" style=\"width:181px;height:107px;\" version=\"1.1\" viewBox=\"0 0 181 107\" width=\"181px\" zoomAndPan=\"magnify\"><defs><filter height=\"300%\" id=\"fhr834ml49cbb\" width=\"300%\" x=\"-1\" y=\"-1\"><feGaussianBlur result=\"blurOut\" stdDeviation=\"2.0\"/><feColorMatrix in=\"blurOut\" result=\"blurOut2\" type=\"matrix\" values=\"0 0 0 0 0 0 0 0 0 0 0 0 0 0 0 0 0 0 .4 0\"/><feOffset dx=\"4.0\" dy=\"4.0\" in=\"blurOut2\" result=\"blurOut3\"/><feBlend in=\"SourceGraphic\" in2=\"blurOut3\" mode=\"normal\"/></filter></defs><g><!--MD5=[1d3308a050e4b472ad871965582028ae]\n",
       "class Voiture--><rect codeLine=\"1\" fill=\"#FEFECE\" filter=\"url(#fhr834ml49cbb)\" height=\"86.4141\" id=\"Voiture\" style=\"stroke: #A80036; stroke-width: 1.5;\" width=\"160\" x=\"7\" y=\"7\"/><ellipse cx=\"60.25\" cy=\"23\" fill=\"#ADD1B2\" rx=\"11\" ry=\"11\" style=\"stroke: #A80036; stroke-width: 1.0;\"/><path d=\"M63.2188,28.6406 Q62.6406,28.9375 62,29.0781 Q61.3594,29.2344 60.6563,29.2344 Q58.1563,29.2344 56.8281,27.5938 Q55.5156,25.9375 55.5156,22.8125 Q55.5156,19.6875 56.8281,18.0313 Q58.1563,16.375 60.6563,16.375 Q61.3594,16.375 62,16.5313 Q62.6563,16.6875 63.2188,16.9844 L63.2188,19.7031 Q62.5938,19.125 62,18.8594 Q61.4063,18.5781 60.7813,18.5781 Q59.4375,18.5781 58.75,19.6563 Q58.0625,20.7188 58.0625,22.8125 Q58.0625,24.9063 58.75,25.9844 Q59.4375,27.0469 60.7813,27.0469 Q61.4063,27.0469 62,26.7813 Q62.5938,26.5 63.2188,25.9219 L63.2188,28.6406 Z \"/><text fill=\"#000000\" font-family=\"sans-serif\" font-size=\"12\" lengthAdjust=\"spacingAndGlyphs\" textLength=\"45\" x=\"80.75\" y=\"27.1543\">Voiture</text><line style=\"stroke: #A80036; stroke-width: 1.5;\" x1=\"8\" x2=\"166\" y1=\"39\" y2=\"39\"/><rect fill=\"none\" height=\"6\" style=\"stroke: #C82930; stroke-width: 1.0;\" width=\"6\" x=\"15\" y=\"47\"/><text fill=\"#000000\" font-family=\"sans-serif\" font-size=\"11\" lengthAdjust=\"spacingAndGlyphs\" textLength=\"134\" x=\"27\" y=\"53.2104\">immatriculation : String</text><rect fill=\"none\" height=\"6\" style=\"stroke: #C82930; stroke-width: 1.0;\" width=\"6\" x=\"15\" y=\"59.8047\"/><text fill=\"#000000\" font-family=\"sans-serif\" font-size=\"11\" lengthAdjust=\"spacingAndGlyphs\" textLength=\"90\" x=\"27\" y=\"66.0151\">marque : String</text><rect fill=\"none\" height=\"6\" style=\"stroke: #C82930; stroke-width: 1.0;\" width=\"6\" x=\"15\" y=\"72.6094\"/><text fill=\"#000000\" font-family=\"sans-serif\" font-size=\"11\" lengthAdjust=\"spacingAndGlyphs\" textLength=\"101\" x=\"27\" y=\"78.8198\">enMarche : String</text><line style=\"stroke: #A80036; stroke-width: 1.5;\" x1=\"8\" x2=\"166\" y1=\"85.4141\" y2=\"85.4141\"/><!--MD5=[e35bc9fbbb45a42d2120d9fc1fa0a5b6]\n",
       "@startuml\r\n",
       "class Voiture {\r\n",
       "    - immatriculation : String\r\n",
       "    - marque : String\r\n",
       "    - enMarche : String\r\n",
       "}    \r\n",
       "@enduml\r\n",
       "\n",
       "PlantUML version 1.2020.19(Mon Oct 12 15:10:01 GMT 2020)\n",
       "(GPL source distribution)\n",
       "Java Runtime: OpenJDK Runtime Environment\n",
       "JVM: OpenJDK 64-Bit Server VM\n",
       "Default Encoding: UTF-8\n",
       "Language: en\n",
       "Country: US\n",
       "--></g></svg>"
      ],
      "text/plain": [
       "<?xml version=\"1.0\" encoding=\"UTF-8\" standalone=\"no\"?><svg xmlns=\"http://www.w3.org/2000/svg\" xmlns:xlink=\"http://www.w3.org/1999/xlink\" contentScriptType=\"application/ecmascript\" contentStyleType=\"text/css\" height=\"107px\" preserveAspectRatio=\"none\" style=\"width:181px;height:107px;\" version=\"1.1\" viewBox=\"0 0 181 107\" width=\"181px\" zoomAndPan=\"magnify\"><defs><filter height=\"300%\" id=\"fhr834ml49cbb\" width=\"300%\" x=\"-1\" y=\"-1\"><feGaussianBlur result=\"blurOut\" stdDeviation=\"2.0\"/><feColorMatrix in=\"blurOut\" result=\"blurOut2\" type=\"matrix\" values=\"0 0 0 0 0 0 0 0 0 0 0 0 0 0 0 0 0 0 .4 0\"/><feOffset dx=\"4.0\" dy=\"4.0\" in=\"blurOut2\" result=\"blurOut3\"/><feBlend in=\"SourceGraphic\" in2=\"blurOut3\" mode=\"normal\"/></filter></defs><g><!--MD5=[1d3308a050e4b472ad871965582028ae]\n",
       "class Voiture--><rect codeLine=\"1\" fill=\"#FEFECE\" filter=\"url(#fhr834ml49cbb)\" height=\"86.4141\" id=\"Voiture\" style=\"stroke: #A80036; stroke-width: 1.5;\" width=\"160\" x=\"7\" y=\"7\"/><ellipse cx=\"60.25\" cy=\"23\" fill=\"#ADD1B2\" rx=\"11\" ry=\"11\" style=\"stroke: #A80036; stroke-width: 1.0;\"/><path d=\"M63.2188,28.6406 Q62.6406,28.9375 62,29.0781 Q61.3594,29.2344 60.6563,29.2344 Q58.1563,29.2344 56.8281,27.5938 Q55.5156,25.9375 55.5156,22.8125 Q55.5156,19.6875 56.8281,18.0313 Q58.1563,16.375 60.6563,16.375 Q61.3594,16.375 62,16.5313 Q62.6563,16.6875 63.2188,16.9844 L63.2188,19.7031 Q62.5938,19.125 62,18.8594 Q61.4063,18.5781 60.7813,18.5781 Q59.4375,18.5781 58.75,19.6563 Q58.0625,20.7188 58.0625,22.8125 Q58.0625,24.9063 58.75,25.9844 Q59.4375,27.0469 60.7813,27.0469 Q61.4063,27.0469 62,26.7813 Q62.5938,26.5 63.2188,25.9219 L63.2188,28.6406 Z \"/><text fill=\"#000000\" font-family=\"sans-serif\" font-size=\"12\" lengthAdjust=\"spacingAndGlyphs\" textLength=\"45\" x=\"80.75\" y=\"27.1543\">Voiture</text><line style=\"stroke: #A80036; stroke-width: 1.5;\" x1=\"8\" x2=\"166\" y1=\"39\" y2=\"39\"/><rect fill=\"none\" height=\"6\" style=\"stroke: #C82930; stroke-width: 1.0;\" width=\"6\" x=\"15\" y=\"47\"/><text fill=\"#000000\" font-family=\"sans-serif\" font-size=\"11\" lengthAdjust=\"spacingAndGlyphs\" textLength=\"134\" x=\"27\" y=\"53.2104\">immatriculation : String</text><rect fill=\"none\" height=\"6\" style=\"stroke: #C82930; stroke-width: 1.0;\" width=\"6\" x=\"15\" y=\"59.8047\"/><text fill=\"#000000\" font-family=\"sans-serif\" font-size=\"11\" lengthAdjust=\"spacingAndGlyphs\" textLength=\"90\" x=\"27\" y=\"66.0151\">marque : String</text><rect fill=\"none\" height=\"6\" style=\"stroke: #C82930; stroke-width: 1.0;\" width=\"6\" x=\"15\" y=\"72.6094\"/><text fill=\"#000000\" font-family=\"sans-serif\" font-size=\"11\" lengthAdjust=\"spacingAndGlyphs\" textLength=\"101\" x=\"27\" y=\"78.8198\">enMarche : String</text><line style=\"stroke: #A80036; stroke-width: 1.5;\" x1=\"8\" x2=\"166\" y1=\"85.4141\" y2=\"85.4141\"/><!--MD5=[e35bc9fbbb45a42d2120d9fc1fa0a5b6]\n",
       "@startuml\r\n",
       "class Voiture {\r\n",
       "    - immatriculation : String\r\n",
       "    - marque : String\r\n",
       "    - enMarche : String\r\n",
       "}    \r\n",
       "@enduml\r\n",
       "\n",
       "PlantUML version 1.2020.19(Mon Oct 12 15:10:01 GMT 2020)\n",
       "(GPL source distribution)\n",
       "Java Runtime: OpenJDK Runtime Environment\n",
       "JVM: OpenJDK 64-Bit Server VM\n",
       "Default Encoding: UTF-8\n",
       "Language: en\n",
       "Country: US\n",
       "--></g></svg>"
      ]
     },
     "metadata": {},
     "output_type": "display_data"
    },
    {
     "data": {
      "image/svg+xml": [
       "<?xml version=\"1.0\" encoding=\"UTF-8\" standalone=\"no\"?><svg xmlns=\"http://www.w3.org/2000/svg\" xmlns:xlink=\"http://www.w3.org/1999/xlink\" contentScriptType=\"application/ecmascript\" contentStyleType=\"text/css\" height=\"107px\" preserveAspectRatio=\"none\" style=\"width:181px;height:107px;\" version=\"1.1\" viewBox=\"0 0 181 107\" width=\"181px\" zoomAndPan=\"magnify\"><defs><filter height=\"300%\" id=\"fhr834ml49cbb\" width=\"300%\" x=\"-1\" y=\"-1\"><feGaussianBlur result=\"blurOut\" stdDeviation=\"2.0\"/><feColorMatrix in=\"blurOut\" result=\"blurOut2\" type=\"matrix\" values=\"0 0 0 0 0 0 0 0 0 0 0 0 0 0 0 0 0 0 .4 0\"/><feOffset dx=\"4.0\" dy=\"4.0\" in=\"blurOut2\" result=\"blurOut3\"/><feBlend in=\"SourceGraphic\" in2=\"blurOut3\" mode=\"normal\"/></filter></defs><g><!--MD5=[1d3308a050e4b472ad871965582028ae]\n",
       "class Voiture--><rect codeLine=\"1\" fill=\"#FEFECE\" filter=\"url(#fhr834ml49cbb)\" height=\"86.4141\" id=\"Voiture\" style=\"stroke: #A80036; stroke-width: 1.5;\" width=\"160\" x=\"7\" y=\"7\"/><ellipse cx=\"60.25\" cy=\"23\" fill=\"#ADD1B2\" rx=\"11\" ry=\"11\" style=\"stroke: #A80036; stroke-width: 1.0;\"/><path d=\"M63.2188,28.6406 Q62.6406,28.9375 62,29.0781 Q61.3594,29.2344 60.6563,29.2344 Q58.1563,29.2344 56.8281,27.5938 Q55.5156,25.9375 55.5156,22.8125 Q55.5156,19.6875 56.8281,18.0313 Q58.1563,16.375 60.6563,16.375 Q61.3594,16.375 62,16.5313 Q62.6563,16.6875 63.2188,16.9844 L63.2188,19.7031 Q62.5938,19.125 62,18.8594 Q61.4063,18.5781 60.7813,18.5781 Q59.4375,18.5781 58.75,19.6563 Q58.0625,20.7188 58.0625,22.8125 Q58.0625,24.9063 58.75,25.9844 Q59.4375,27.0469 60.7813,27.0469 Q61.4063,27.0469 62,26.7813 Q62.5938,26.5 63.2188,25.9219 L63.2188,28.6406 Z \"/><text fill=\"#000000\" font-family=\"sans-serif\" font-size=\"12\" lengthAdjust=\"spacingAndGlyphs\" textLength=\"45\" x=\"80.75\" y=\"27.1543\">Voiture</text><line style=\"stroke: #A80036; stroke-width: 1.5;\" x1=\"8\" x2=\"166\" y1=\"39\" y2=\"39\"/><rect fill=\"none\" height=\"6\" style=\"stroke: #C82930; stroke-width: 1.0;\" width=\"6\" x=\"15\" y=\"47\"/><text fill=\"#000000\" font-family=\"sans-serif\" font-size=\"11\" lengthAdjust=\"spacingAndGlyphs\" textLength=\"134\" x=\"27\" y=\"53.2104\">immatriculation : String</text><rect fill=\"none\" height=\"6\" style=\"stroke: #C82930; stroke-width: 1.0;\" width=\"6\" x=\"15\" y=\"59.8047\"/><text fill=\"#000000\" font-family=\"sans-serif\" font-size=\"11\" lengthAdjust=\"spacingAndGlyphs\" textLength=\"90\" x=\"27\" y=\"66.0151\">marque : String</text><rect fill=\"none\" height=\"6\" style=\"stroke: #C82930; stroke-width: 1.0;\" width=\"6\" x=\"15\" y=\"72.6094\"/><text fill=\"#000000\" font-family=\"sans-serif\" font-size=\"11\" lengthAdjust=\"spacingAndGlyphs\" textLength=\"101\" x=\"27\" y=\"78.8198\">enMarche : String</text><line style=\"stroke: #A80036; stroke-width: 1.5;\" x1=\"8\" x2=\"166\" y1=\"85.4141\" y2=\"85.4141\"/><!--MD5=[e35bc9fbbb45a42d2120d9fc1fa0a5b6]\n",
       "@startuml\r\n",
       "class Voiture {\r\n",
       "    - immatriculation : String\r\n",
       "    - marque : String\r\n",
       "    - enMarche : String\r\n",
       "}    \r\n",
       "@enduml\r\n",
       "\n",
       "PlantUML version 1.2020.19(Mon Oct 12 15:10:01 GMT 2020)\n",
       "(GPL source distribution)\n",
       "Java Runtime: OpenJDK Runtime Environment\n",
       "JVM: OpenJDK 64-Bit Server VM\n",
       "Default Encoding: UTF-8\n",
       "Language: en\n",
       "Country: US\n",
       "--></g></svg>"
      ],
      "text/plain": [
       "<?xml version=\"1.0\" encoding=\"UTF-8\" standalone=\"no\"?><svg xmlns=\"http://www.w3.org/2000/svg\" xmlns:xlink=\"http://www.w3.org/1999/xlink\" contentScriptType=\"application/ecmascript\" contentStyleType=\"text/css\" height=\"107px\" preserveAspectRatio=\"none\" style=\"width:181px;height:107px;\" version=\"1.1\" viewBox=\"0 0 181 107\" width=\"181px\" zoomAndPan=\"magnify\"><defs><filter height=\"300%\" id=\"fhr834ml49cbb\" width=\"300%\" x=\"-1\" y=\"-1\"><feGaussianBlur result=\"blurOut\" stdDeviation=\"2.0\"/><feColorMatrix in=\"blurOut\" result=\"blurOut2\" type=\"matrix\" values=\"0 0 0 0 0 0 0 0 0 0 0 0 0 0 0 0 0 0 .4 0\"/><feOffset dx=\"4.0\" dy=\"4.0\" in=\"blurOut2\" result=\"blurOut3\"/><feBlend in=\"SourceGraphic\" in2=\"blurOut3\" mode=\"normal\"/></filter></defs><g><!--MD5=[1d3308a050e4b472ad871965582028ae]\n",
       "class Voiture--><rect codeLine=\"1\" fill=\"#FEFECE\" filter=\"url(#fhr834ml49cbb)\" height=\"86.4141\" id=\"Voiture\" style=\"stroke: #A80036; stroke-width: 1.5;\" width=\"160\" x=\"7\" y=\"7\"/><ellipse cx=\"60.25\" cy=\"23\" fill=\"#ADD1B2\" rx=\"11\" ry=\"11\" style=\"stroke: #A80036; stroke-width: 1.0;\"/><path d=\"M63.2188,28.6406 Q62.6406,28.9375 62,29.0781 Q61.3594,29.2344 60.6563,29.2344 Q58.1563,29.2344 56.8281,27.5938 Q55.5156,25.9375 55.5156,22.8125 Q55.5156,19.6875 56.8281,18.0313 Q58.1563,16.375 60.6563,16.375 Q61.3594,16.375 62,16.5313 Q62.6563,16.6875 63.2188,16.9844 L63.2188,19.7031 Q62.5938,19.125 62,18.8594 Q61.4063,18.5781 60.7813,18.5781 Q59.4375,18.5781 58.75,19.6563 Q58.0625,20.7188 58.0625,22.8125 Q58.0625,24.9063 58.75,25.9844 Q59.4375,27.0469 60.7813,27.0469 Q61.4063,27.0469 62,26.7813 Q62.5938,26.5 63.2188,25.9219 L63.2188,28.6406 Z \"/><text fill=\"#000000\" font-family=\"sans-serif\" font-size=\"12\" lengthAdjust=\"spacingAndGlyphs\" textLength=\"45\" x=\"80.75\" y=\"27.1543\">Voiture</text><line style=\"stroke: #A80036; stroke-width: 1.5;\" x1=\"8\" x2=\"166\" y1=\"39\" y2=\"39\"/><rect fill=\"none\" height=\"6\" style=\"stroke: #C82930; stroke-width: 1.0;\" width=\"6\" x=\"15\" y=\"47\"/><text fill=\"#000000\" font-family=\"sans-serif\" font-size=\"11\" lengthAdjust=\"spacingAndGlyphs\" textLength=\"134\" x=\"27\" y=\"53.2104\">immatriculation : String</text><rect fill=\"none\" height=\"6\" style=\"stroke: #C82930; stroke-width: 1.0;\" width=\"6\" x=\"15\" y=\"59.8047\"/><text fill=\"#000000\" font-family=\"sans-serif\" font-size=\"11\" lengthAdjust=\"spacingAndGlyphs\" textLength=\"90\" x=\"27\" y=\"66.0151\">marque : String</text><rect fill=\"none\" height=\"6\" style=\"stroke: #C82930; stroke-width: 1.0;\" width=\"6\" x=\"15\" y=\"72.6094\"/><text fill=\"#000000\" font-family=\"sans-serif\" font-size=\"11\" lengthAdjust=\"spacingAndGlyphs\" textLength=\"101\" x=\"27\" y=\"78.8198\">enMarche : String</text><line style=\"stroke: #A80036; stroke-width: 1.5;\" x1=\"8\" x2=\"166\" y1=\"85.4141\" y2=\"85.4141\"/><!--MD5=[e35bc9fbbb45a42d2120d9fc1fa0a5b6]\n",
       "@startuml\r\n",
       "class Voiture {\r\n",
       "    - immatriculation : String\r\n",
       "    - marque : String\r\n",
       "    - enMarche : String\r\n",
       "}    \r\n",
       "@enduml\r\n",
       "\n",
       "PlantUML version 1.2020.19(Mon Oct 12 15:10:01 GMT 2020)\n",
       "(GPL source distribution)\n",
       "Java Runtime: OpenJDK Runtime Environment\n",
       "JVM: OpenJDK 64-Bit Server VM\n",
       "Default Encoding: UTF-8\n",
       "Language: en\n",
       "Country: US\n",
       "--></g></svg>"
      ]
     },
     "metadata": {},
     "output_type": "display_data"
    }
   ],
   "source": [
    "%%plantUMLFile\n",
    "UML/Voiture.uml"
   ]
  },
  {
   "cell_type": "code",
   "execution_count": 23,
   "metadata": {},
   "outputs": [],
   "source": [
    "public class Voiture {\n",
    "// Variables d'instances\n",
    " private String immatriculation = \"\";\n",
    " private String marque = \"\";\n",
    " private boolean enMarche;\n",
    "// Constructeur\n",
    " public Voiture(String immatriculation, String marque) { \n",
    "  this.immatriculation = immatriculation;\n",
    "  this.marque = marque;\n",
    " }\n",
    " public Voiture(String immatriculation) {\n",
    "  this(immatriculation, \"\");\n",
    "}\n",
    "//Modificateur \n",
    " public void setMarque(String marque){\n",
    "  this.marque = marque;\n",
    " }\n",
    "// Accesseur\n",
    " public String getMarque() {\n",
    "  return marque;\n",
    "}\n",
    "//Methodes\n",
    " public void demarrer() { }\n",
    " public void arreter() {}\n",
    "}"
   ]
  },
  {
   "cell_type": "code",
   "execution_count": 43,
   "metadata": {},
   "outputs": [
    {
     "data": {
      "image/svg+xml": [
       "<?xml version=\"1.0\" encoding=\"UTF-8\" standalone=\"no\"?><svg xmlns=\"http://www.w3.org/2000/svg\" xmlns:xlink=\"http://www.w3.org/1999/xlink\" contentScriptType=\"application/ecmascript\" contentStyleType=\"text/css\" height=\"145px\" preserveAspectRatio=\"none\" style=\"width:181px;height:145px;\" version=\"1.1\" viewBox=\"0 0 181 145\" width=\"181px\" zoomAndPan=\"magnify\"><defs><filter height=\"300%\" id=\"facsegtegi4jh\" width=\"300%\" x=\"-1\" y=\"-1\"><feGaussianBlur result=\"blurOut\" stdDeviation=\"2.0\"/><feColorMatrix in=\"blurOut\" result=\"blurOut2\" type=\"matrix\" values=\"0 0 0 0 0 0 0 0 0 0 0 0 0 0 0 0 0 0 .4 0\"/><feOffset dx=\"4.0\" dy=\"4.0\" in=\"blurOut2\" result=\"blurOut3\"/><feBlend in=\"SourceGraphic\" in2=\"blurOut3\" mode=\"normal\"/></filter></defs><g><!--MD5=[e47291784b0760b66e32fe4e4ebc95b5]\n",
       "class Chien--><rect codeLine=\"1\" fill=\"#FEFECE\" filter=\"url(#facsegtegi4jh)\" height=\"124.8281\" id=\"Chien\" style=\"stroke: #A80036; stroke-width: 1.5;\" width=\"160\" x=\"7\" y=\"7\"/><ellipse cx=\"65.25\" cy=\"23\" fill=\"#ADD1B2\" rx=\"11\" ry=\"11\" style=\"stroke: #A80036; stroke-width: 1.0;\"/><path d=\"M68.2188,28.6406 Q67.6406,28.9375 67,29.0781 Q66.3594,29.2344 65.6563,29.2344 Q63.1563,29.2344 61.8281,27.5938 Q60.5156,25.9375 60.5156,22.8125 Q60.5156,19.6875 61.8281,18.0313 Q63.1563,16.375 65.6563,16.375 Q66.3594,16.375 67,16.5313 Q67.6563,16.6875 68.2188,16.9844 L68.2188,19.7031 Q67.5938,19.125 67,18.8594 Q66.4063,18.5781 65.7813,18.5781 Q64.4375,18.5781 63.75,19.6563 Q63.0625,20.7188 63.0625,22.8125 Q63.0625,24.9063 63.75,25.9844 Q64.4375,27.0469 65.7813,27.0469 Q66.4063,27.0469 67,26.7813 Q67.5938,26.5 68.2188,25.9219 L68.2188,28.6406 Z \"/><text fill=\"#000000\" font-family=\"sans-serif\" font-size=\"12\" lengthAdjust=\"spacingAndGlyphs\" textLength=\"35\" x=\"85.75\" y=\"27.1543\">Chien</text><line style=\"stroke: #A80036; stroke-width: 1.5;\" x1=\"8\" x2=\"166\" y1=\"39\" y2=\"39\"/><rect fill=\"none\" height=\"6\" style=\"stroke: #C82930; stroke-width: 1.0;\" width=\"6\" x=\"15\" y=\"47\"/><text fill=\"#000000\" font-family=\"sans-serif\" font-size=\"11\" lengthAdjust=\"spacingAndGlyphs\" textLength=\"96\" x=\"27\" y=\"53.2104\">tatouage : String</text><rect fill=\"none\" height=\"6\" style=\"stroke: #C82930; stroke-width: 1.0;\" width=\"6\" x=\"15\" y=\"59.8047\"/><text fill=\"#000000\" font-family=\"sans-serif\" font-size=\"11\" lengthAdjust=\"spacingAndGlyphs\" textLength=\"71\" x=\"27\" y=\"66.0151\">nom : String</text><text fill=\"#000000\" font-family=\"sans-serif\" font-size=\"11\" lengthAdjust=\"spacingAndGlyphs\" textLength=\"0\" x=\"31\" y=\"78.8198\"/><rect fill=\"none\" height=\"6\" style=\"stroke: #C82930; stroke-width: 1.0;\" width=\"6\" x=\"15\" y=\"85.4141\"/><text fill=\"#000000\" font-family=\"sans-serif\" font-size=\"11\" lengthAdjust=\"spacingAndGlyphs\" text-decoration=\"underline\" textLength=\"79\" x=\"27\" y=\"91.6245\">nbChiens : int</text><rect fill=\"none\" height=\"6\" style=\"stroke: #C82930; stroke-width: 1.0;\" width=\"6\" x=\"15\" y=\"98.2188\"/><text fill=\"#000000\" font-family=\"sans-serif\" font-size=\"11\" lengthAdjust=\"spacingAndGlyphs\" text-decoration=\"underline\" textLength=\"100\" x=\"27\" y=\"104.4292\">NB_REFUGES : int</text><rect fill=\"none\" height=\"6\" style=\"stroke: #C82930; stroke-width: 1.0;\" width=\"6\" x=\"15\" y=\"111.0234\"/><text fill=\"#000000\" font-family=\"sans-serif\" font-size=\"11\" lengthAdjust=\"spacingAndGlyphs\" text-decoration=\"underline\" textLength=\"134\" x=\"27\" y=\"117.2339\">occupationRefuge : int[]</text><line style=\"stroke: #A80036; stroke-width: 1.5;\" x1=\"8\" x2=\"166\" y1=\"123.8281\" y2=\"123.8281\"/><!--MD5=[f5d7372a93ed6d78232adfd055fde105]\n",
       "@startuml\r\n",
       "class Chien {\r\n",
       "    - tatouage : String\r\n",
       "    - nom : String\r\n",
       "    \r\n",
       "    - {static} nbChiens : int\r\n",
       "    - {static} NB_REFUGES : int\r\n",
       "    - {static} occupationRefuge : int[]\r\n",
       "        \r\n",
       "}    \r\n",
       "@enduml\r\n",
       "\n",
       "PlantUML version 1.2020.19(Mon Oct 12 15:10:01 GMT 2020)\n",
       "(GPL source distribution)\n",
       "Java Runtime: OpenJDK Runtime Environment\n",
       "JVM: OpenJDK 64-Bit Server VM\n",
       "Default Encoding: UTF-8\n",
       "Language: en\n",
       "Country: US\n",
       "--></g></svg>"
      ],
      "text/plain": [
       "<?xml version=\"1.0\" encoding=\"UTF-8\" standalone=\"no\"?><svg xmlns=\"http://www.w3.org/2000/svg\" xmlns:xlink=\"http://www.w3.org/1999/xlink\" contentScriptType=\"application/ecmascript\" contentStyleType=\"text/css\" height=\"145px\" preserveAspectRatio=\"none\" style=\"width:181px;height:145px;\" version=\"1.1\" viewBox=\"0 0 181 145\" width=\"181px\" zoomAndPan=\"magnify\"><defs><filter height=\"300%\" id=\"facsegtegi4jh\" width=\"300%\" x=\"-1\" y=\"-1\"><feGaussianBlur result=\"blurOut\" stdDeviation=\"2.0\"/><feColorMatrix in=\"blurOut\" result=\"blurOut2\" type=\"matrix\" values=\"0 0 0 0 0 0 0 0 0 0 0 0 0 0 0 0 0 0 .4 0\"/><feOffset dx=\"4.0\" dy=\"4.0\" in=\"blurOut2\" result=\"blurOut3\"/><feBlend in=\"SourceGraphic\" in2=\"blurOut3\" mode=\"normal\"/></filter></defs><g><!--MD5=[e47291784b0760b66e32fe4e4ebc95b5]\n",
       "class Chien--><rect codeLine=\"1\" fill=\"#FEFECE\" filter=\"url(#facsegtegi4jh)\" height=\"124.8281\" id=\"Chien\" style=\"stroke: #A80036; stroke-width: 1.5;\" width=\"160\" x=\"7\" y=\"7\"/><ellipse cx=\"65.25\" cy=\"23\" fill=\"#ADD1B2\" rx=\"11\" ry=\"11\" style=\"stroke: #A80036; stroke-width: 1.0;\"/><path d=\"M68.2188,28.6406 Q67.6406,28.9375 67,29.0781 Q66.3594,29.2344 65.6563,29.2344 Q63.1563,29.2344 61.8281,27.5938 Q60.5156,25.9375 60.5156,22.8125 Q60.5156,19.6875 61.8281,18.0313 Q63.1563,16.375 65.6563,16.375 Q66.3594,16.375 67,16.5313 Q67.6563,16.6875 68.2188,16.9844 L68.2188,19.7031 Q67.5938,19.125 67,18.8594 Q66.4063,18.5781 65.7813,18.5781 Q64.4375,18.5781 63.75,19.6563 Q63.0625,20.7188 63.0625,22.8125 Q63.0625,24.9063 63.75,25.9844 Q64.4375,27.0469 65.7813,27.0469 Q66.4063,27.0469 67,26.7813 Q67.5938,26.5 68.2188,25.9219 L68.2188,28.6406 Z \"/><text fill=\"#000000\" font-family=\"sans-serif\" font-size=\"12\" lengthAdjust=\"spacingAndGlyphs\" textLength=\"35\" x=\"85.75\" y=\"27.1543\">Chien</text><line style=\"stroke: #A80036; stroke-width: 1.5;\" x1=\"8\" x2=\"166\" y1=\"39\" y2=\"39\"/><rect fill=\"none\" height=\"6\" style=\"stroke: #C82930; stroke-width: 1.0;\" width=\"6\" x=\"15\" y=\"47\"/><text fill=\"#000000\" font-family=\"sans-serif\" font-size=\"11\" lengthAdjust=\"spacingAndGlyphs\" textLength=\"96\" x=\"27\" y=\"53.2104\">tatouage : String</text><rect fill=\"none\" height=\"6\" style=\"stroke: #C82930; stroke-width: 1.0;\" width=\"6\" x=\"15\" y=\"59.8047\"/><text fill=\"#000000\" font-family=\"sans-serif\" font-size=\"11\" lengthAdjust=\"spacingAndGlyphs\" textLength=\"71\" x=\"27\" y=\"66.0151\">nom : String</text><text fill=\"#000000\" font-family=\"sans-serif\" font-size=\"11\" lengthAdjust=\"spacingAndGlyphs\" textLength=\"0\" x=\"31\" y=\"78.8198\"/><rect fill=\"none\" height=\"6\" style=\"stroke: #C82930; stroke-width: 1.0;\" width=\"6\" x=\"15\" y=\"85.4141\"/><text fill=\"#000000\" font-family=\"sans-serif\" font-size=\"11\" lengthAdjust=\"spacingAndGlyphs\" text-decoration=\"underline\" textLength=\"79\" x=\"27\" y=\"91.6245\">nbChiens : int</text><rect fill=\"none\" height=\"6\" style=\"stroke: #C82930; stroke-width: 1.0;\" width=\"6\" x=\"15\" y=\"98.2188\"/><text fill=\"#000000\" font-family=\"sans-serif\" font-size=\"11\" lengthAdjust=\"spacingAndGlyphs\" text-decoration=\"underline\" textLength=\"100\" x=\"27\" y=\"104.4292\">NB_REFUGES : int</text><rect fill=\"none\" height=\"6\" style=\"stroke: #C82930; stroke-width: 1.0;\" width=\"6\" x=\"15\" y=\"111.0234\"/><text fill=\"#000000\" font-family=\"sans-serif\" font-size=\"11\" lengthAdjust=\"spacingAndGlyphs\" text-decoration=\"underline\" textLength=\"134\" x=\"27\" y=\"117.2339\">occupationRefuge : int[]</text><line style=\"stroke: #A80036; stroke-width: 1.5;\" x1=\"8\" x2=\"166\" y1=\"123.8281\" y2=\"123.8281\"/><!--MD5=[f5d7372a93ed6d78232adfd055fde105]\n",
       "@startuml\r\n",
       "class Chien {\r\n",
       "    - tatouage : String\r\n",
       "    - nom : String\r\n",
       "    \r\n",
       "    - {static} nbChiens : int\r\n",
       "    - {static} NB_REFUGES : int\r\n",
       "    - {static} occupationRefuge : int[]\r\n",
       "        \r\n",
       "}    \r\n",
       "@enduml\r\n",
       "\n",
       "PlantUML version 1.2020.19(Mon Oct 12 15:10:01 GMT 2020)\n",
       "(GPL source distribution)\n",
       "Java Runtime: OpenJDK Runtime Environment\n",
       "JVM: OpenJDK 64-Bit Server VM\n",
       "Default Encoding: UTF-8\n",
       "Language: en\n",
       "Country: US\n",
       "--></g></svg>"
      ]
     },
     "metadata": {},
     "output_type": "display_data"
    },
    {
     "data": {
      "image/svg+xml": [
       "<?xml version=\"1.0\" encoding=\"UTF-8\" standalone=\"no\"?><svg xmlns=\"http://www.w3.org/2000/svg\" xmlns:xlink=\"http://www.w3.org/1999/xlink\" contentScriptType=\"application/ecmascript\" contentStyleType=\"text/css\" height=\"145px\" preserveAspectRatio=\"none\" style=\"width:181px;height:145px;\" version=\"1.1\" viewBox=\"0 0 181 145\" width=\"181px\" zoomAndPan=\"magnify\"><defs><filter height=\"300%\" id=\"facsegtegi4jh\" width=\"300%\" x=\"-1\" y=\"-1\"><feGaussianBlur result=\"blurOut\" stdDeviation=\"2.0\"/><feColorMatrix in=\"blurOut\" result=\"blurOut2\" type=\"matrix\" values=\"0 0 0 0 0 0 0 0 0 0 0 0 0 0 0 0 0 0 .4 0\"/><feOffset dx=\"4.0\" dy=\"4.0\" in=\"blurOut2\" result=\"blurOut3\"/><feBlend in=\"SourceGraphic\" in2=\"blurOut3\" mode=\"normal\"/></filter></defs><g><!--MD5=[e47291784b0760b66e32fe4e4ebc95b5]\n",
       "class Chien--><rect codeLine=\"1\" fill=\"#FEFECE\" filter=\"url(#facsegtegi4jh)\" height=\"124.8281\" id=\"Chien\" style=\"stroke: #A80036; stroke-width: 1.5;\" width=\"160\" x=\"7\" y=\"7\"/><ellipse cx=\"65.25\" cy=\"23\" fill=\"#ADD1B2\" rx=\"11\" ry=\"11\" style=\"stroke: #A80036; stroke-width: 1.0;\"/><path d=\"M68.2188,28.6406 Q67.6406,28.9375 67,29.0781 Q66.3594,29.2344 65.6563,29.2344 Q63.1563,29.2344 61.8281,27.5938 Q60.5156,25.9375 60.5156,22.8125 Q60.5156,19.6875 61.8281,18.0313 Q63.1563,16.375 65.6563,16.375 Q66.3594,16.375 67,16.5313 Q67.6563,16.6875 68.2188,16.9844 L68.2188,19.7031 Q67.5938,19.125 67,18.8594 Q66.4063,18.5781 65.7813,18.5781 Q64.4375,18.5781 63.75,19.6563 Q63.0625,20.7188 63.0625,22.8125 Q63.0625,24.9063 63.75,25.9844 Q64.4375,27.0469 65.7813,27.0469 Q66.4063,27.0469 67,26.7813 Q67.5938,26.5 68.2188,25.9219 L68.2188,28.6406 Z \"/><text fill=\"#000000\" font-family=\"sans-serif\" font-size=\"12\" lengthAdjust=\"spacingAndGlyphs\" textLength=\"35\" x=\"85.75\" y=\"27.1543\">Chien</text><line style=\"stroke: #A80036; stroke-width: 1.5;\" x1=\"8\" x2=\"166\" y1=\"39\" y2=\"39\"/><rect fill=\"none\" height=\"6\" style=\"stroke: #C82930; stroke-width: 1.0;\" width=\"6\" x=\"15\" y=\"47\"/><text fill=\"#000000\" font-family=\"sans-serif\" font-size=\"11\" lengthAdjust=\"spacingAndGlyphs\" textLength=\"96\" x=\"27\" y=\"53.2104\">tatouage : String</text><rect fill=\"none\" height=\"6\" style=\"stroke: #C82930; stroke-width: 1.0;\" width=\"6\" x=\"15\" y=\"59.8047\"/><text fill=\"#000000\" font-family=\"sans-serif\" font-size=\"11\" lengthAdjust=\"spacingAndGlyphs\" textLength=\"71\" x=\"27\" y=\"66.0151\">nom : String</text><text fill=\"#000000\" font-family=\"sans-serif\" font-size=\"11\" lengthAdjust=\"spacingAndGlyphs\" textLength=\"0\" x=\"31\" y=\"78.8198\"/><rect fill=\"none\" height=\"6\" style=\"stroke: #C82930; stroke-width: 1.0;\" width=\"6\" x=\"15\" y=\"85.4141\"/><text fill=\"#000000\" font-family=\"sans-serif\" font-size=\"11\" lengthAdjust=\"spacingAndGlyphs\" text-decoration=\"underline\" textLength=\"79\" x=\"27\" y=\"91.6245\">nbChiens : int</text><rect fill=\"none\" height=\"6\" style=\"stroke: #C82930; stroke-width: 1.0;\" width=\"6\" x=\"15\" y=\"98.2188\"/><text fill=\"#000000\" font-family=\"sans-serif\" font-size=\"11\" lengthAdjust=\"spacingAndGlyphs\" text-decoration=\"underline\" textLength=\"100\" x=\"27\" y=\"104.4292\">NB_REFUGES : int</text><rect fill=\"none\" height=\"6\" style=\"stroke: #C82930; stroke-width: 1.0;\" width=\"6\" x=\"15\" y=\"111.0234\"/><text fill=\"#000000\" font-family=\"sans-serif\" font-size=\"11\" lengthAdjust=\"spacingAndGlyphs\" text-decoration=\"underline\" textLength=\"134\" x=\"27\" y=\"117.2339\">occupationRefuge : int[]</text><line style=\"stroke: #A80036; stroke-width: 1.5;\" x1=\"8\" x2=\"166\" y1=\"123.8281\" y2=\"123.8281\"/><!--MD5=[f5d7372a93ed6d78232adfd055fde105]\n",
       "@startuml\r\n",
       "class Chien {\r\n",
       "    - tatouage : String\r\n",
       "    - nom : String\r\n",
       "    \r\n",
       "    - {static} nbChiens : int\r\n",
       "    - {static} NB_REFUGES : int\r\n",
       "    - {static} occupationRefuge : int[]\r\n",
       "        \r\n",
       "}    \r\n",
       "@enduml\r\n",
       "\n",
       "PlantUML version 1.2020.19(Mon Oct 12 15:10:01 GMT 2020)\n",
       "(GPL source distribution)\n",
       "Java Runtime: OpenJDK Runtime Environment\n",
       "JVM: OpenJDK 64-Bit Server VM\n",
       "Default Encoding: UTF-8\n",
       "Language: en\n",
       "Country: US\n",
       "--></g></svg>"
      ],
      "text/plain": [
       "<?xml version=\"1.0\" encoding=\"UTF-8\" standalone=\"no\"?><svg xmlns=\"http://www.w3.org/2000/svg\" xmlns:xlink=\"http://www.w3.org/1999/xlink\" contentScriptType=\"application/ecmascript\" contentStyleType=\"text/css\" height=\"145px\" preserveAspectRatio=\"none\" style=\"width:181px;height:145px;\" version=\"1.1\" viewBox=\"0 0 181 145\" width=\"181px\" zoomAndPan=\"magnify\"><defs><filter height=\"300%\" id=\"facsegtegi4jh\" width=\"300%\" x=\"-1\" y=\"-1\"><feGaussianBlur result=\"blurOut\" stdDeviation=\"2.0\"/><feColorMatrix in=\"blurOut\" result=\"blurOut2\" type=\"matrix\" values=\"0 0 0 0 0 0 0 0 0 0 0 0 0 0 0 0 0 0 .4 0\"/><feOffset dx=\"4.0\" dy=\"4.0\" in=\"blurOut2\" result=\"blurOut3\"/><feBlend in=\"SourceGraphic\" in2=\"blurOut3\" mode=\"normal\"/></filter></defs><g><!--MD5=[e47291784b0760b66e32fe4e4ebc95b5]\n",
       "class Chien--><rect codeLine=\"1\" fill=\"#FEFECE\" filter=\"url(#facsegtegi4jh)\" height=\"124.8281\" id=\"Chien\" style=\"stroke: #A80036; stroke-width: 1.5;\" width=\"160\" x=\"7\" y=\"7\"/><ellipse cx=\"65.25\" cy=\"23\" fill=\"#ADD1B2\" rx=\"11\" ry=\"11\" style=\"stroke: #A80036; stroke-width: 1.0;\"/><path d=\"M68.2188,28.6406 Q67.6406,28.9375 67,29.0781 Q66.3594,29.2344 65.6563,29.2344 Q63.1563,29.2344 61.8281,27.5938 Q60.5156,25.9375 60.5156,22.8125 Q60.5156,19.6875 61.8281,18.0313 Q63.1563,16.375 65.6563,16.375 Q66.3594,16.375 67,16.5313 Q67.6563,16.6875 68.2188,16.9844 L68.2188,19.7031 Q67.5938,19.125 67,18.8594 Q66.4063,18.5781 65.7813,18.5781 Q64.4375,18.5781 63.75,19.6563 Q63.0625,20.7188 63.0625,22.8125 Q63.0625,24.9063 63.75,25.9844 Q64.4375,27.0469 65.7813,27.0469 Q66.4063,27.0469 67,26.7813 Q67.5938,26.5 68.2188,25.9219 L68.2188,28.6406 Z \"/><text fill=\"#000000\" font-family=\"sans-serif\" font-size=\"12\" lengthAdjust=\"spacingAndGlyphs\" textLength=\"35\" x=\"85.75\" y=\"27.1543\">Chien</text><line style=\"stroke: #A80036; stroke-width: 1.5;\" x1=\"8\" x2=\"166\" y1=\"39\" y2=\"39\"/><rect fill=\"none\" height=\"6\" style=\"stroke: #C82930; stroke-width: 1.0;\" width=\"6\" x=\"15\" y=\"47\"/><text fill=\"#000000\" font-family=\"sans-serif\" font-size=\"11\" lengthAdjust=\"spacingAndGlyphs\" textLength=\"96\" x=\"27\" y=\"53.2104\">tatouage : String</text><rect fill=\"none\" height=\"6\" style=\"stroke: #C82930; stroke-width: 1.0;\" width=\"6\" x=\"15\" y=\"59.8047\"/><text fill=\"#000000\" font-family=\"sans-serif\" font-size=\"11\" lengthAdjust=\"spacingAndGlyphs\" textLength=\"71\" x=\"27\" y=\"66.0151\">nom : String</text><text fill=\"#000000\" font-family=\"sans-serif\" font-size=\"11\" lengthAdjust=\"spacingAndGlyphs\" textLength=\"0\" x=\"31\" y=\"78.8198\"/><rect fill=\"none\" height=\"6\" style=\"stroke: #C82930; stroke-width: 1.0;\" width=\"6\" x=\"15\" y=\"85.4141\"/><text fill=\"#000000\" font-family=\"sans-serif\" font-size=\"11\" lengthAdjust=\"spacingAndGlyphs\" text-decoration=\"underline\" textLength=\"79\" x=\"27\" y=\"91.6245\">nbChiens : int</text><rect fill=\"none\" height=\"6\" style=\"stroke: #C82930; stroke-width: 1.0;\" width=\"6\" x=\"15\" y=\"98.2188\"/><text fill=\"#000000\" font-family=\"sans-serif\" font-size=\"11\" lengthAdjust=\"spacingAndGlyphs\" text-decoration=\"underline\" textLength=\"100\" x=\"27\" y=\"104.4292\">NB_REFUGES : int</text><rect fill=\"none\" height=\"6\" style=\"stroke: #C82930; stroke-width: 1.0;\" width=\"6\" x=\"15\" y=\"111.0234\"/><text fill=\"#000000\" font-family=\"sans-serif\" font-size=\"11\" lengthAdjust=\"spacingAndGlyphs\" text-decoration=\"underline\" textLength=\"134\" x=\"27\" y=\"117.2339\">occupationRefuge : int[]</text><line style=\"stroke: #A80036; stroke-width: 1.5;\" x1=\"8\" x2=\"166\" y1=\"123.8281\" y2=\"123.8281\"/><!--MD5=[f5d7372a93ed6d78232adfd055fde105]\n",
       "@startuml\r\n",
       "class Chien {\r\n",
       "    - tatouage : String\r\n",
       "    - nom : String\r\n",
       "    \r\n",
       "    - {static} nbChiens : int\r\n",
       "    - {static} NB_REFUGES : int\r\n",
       "    - {static} occupationRefuge : int[]\r\n",
       "        \r\n",
       "}    \r\n",
       "@enduml\r\n",
       "\n",
       "PlantUML version 1.2020.19(Mon Oct 12 15:10:01 GMT 2020)\n",
       "(GPL source distribution)\n",
       "Java Runtime: OpenJDK Runtime Environment\n",
       "JVM: OpenJDK 64-Bit Server VM\n",
       "Default Encoding: UTF-8\n",
       "Language: en\n",
       "Country: US\n",
       "--></g></svg>"
      ]
     },
     "metadata": {},
     "output_type": "display_data"
    }
   ],
   "source": [
    "%%plantUMLFile\n",
    "UML/Chien.uml"
   ]
  },
  {
   "cell_type": "code",
   "execution_count": 44,
   "metadata": {},
   "outputs": [],
   "source": [
    "public class Chien {\n",
    "  private String tatouage;\n",
    "  private String nom;\n",
    " \n",
    "  private static int nbChiens = 0;\n",
    "  private static final int NB_REFUGES = 3;\n",
    "  private static int[] occupationRefuge = \n",
    "    new int[NB_REFUGES];\n",
    "  // Constructeur\n",
    "  public Chien(String t, String n) {\n",
    "    tatouage = t;nom = n;nbChiens++;\n",
    "  }\n",
    "  // Methode statique de gestion des instances\n",
    "  public static int getNbChiens() {\n",
    "    return nbChiens;\n",
    "  }\n",
    "  \n",
    "  // Bloc statique d'initialisation\n",
    "  static {\n",
    "    for (int i = 0; i < NB_REFUGES; i++) {\n",
    "      occupationRefuge[i] = -1;\n",
    "    }\n",
    "  }\n",
    "}\n"
   ]
  },
  {
   "cell_type": "markdown",
   "metadata": {},
   "source": [
    "- Un programme Java est un ensemble de classes dont au moins une est\n",
    "executable\n",
    "  - On ajoute la méthode de classe `void main(String args[])`\n",
    "- Pour exécuter ce programme :\n",
    "  - On compile : `javac BonjourATous.java`, cela produit le fichier `BonjourATous.class`\n",
    "  - On execute (la classe, pas le fichier .class) : `java BonjourATous`"
   ]
  },
  {
   "cell_type": "code",
   "execution_count": 47,
   "metadata": {},
   "outputs": [],
   "source": [
    "/** \n",
    " * Cette application Java affiche simplement \"Bonjour a tous !\"\n",
    " * sur la sortie standard.\n",
    " */\n",
    "class BonjourATous {\n",
    "    public static void main(String[] args) {\n",
    "      //Affichage du texte\n",
    "      System.out.println(\"Bonjour a tous !\"); \n",
    "    }\n",
    "}"
   ]
  },
  {
   "cell_type": "markdown",
   "metadata": {},
   "source": [
    "Dans les notebook, nous appellerons directement la méthode `main()`."
   ]
  },
  {
   "cell_type": "code",
   "execution_count": 51,
   "metadata": {},
   "outputs": [
    {
     "name": "stdout",
     "output_type": "stream",
     "text": [
      "Bonjour a tous !\n"
     ]
    }
   ],
   "source": [
    "BonjourATous.main(new String[0])"
   ]
  },
  {
   "cell_type": "markdown",
   "metadata": {},
   "source": [
    "- Pour créer une nouvelle instance d’une classe on utilise un de ses\n",
    "constructeurs\n",
    "- Ils servent aussi à initialiser l’état interne du nouvel objet\n",
    "- Un constructeur :\n",
    "  - possède le même nom que la classe\n",
    "  - n’a pas de type de retour\n",
    "  - peut être surchargé\n",
    "  - est invoqué avec l’opérateur new\n",
    "  \n",
    "- Si aucun constructeur n’est donné :\n",
    " - un constructeur par défaut sans paramètres et ayant la même accessibilité\n",
    "que la classe est créé sinon le constructeur sans paramètre n’est pas créé\n",
    "implicitement\n",
    " - Une autre constructeur peut être invoqué avec la méthode this et les\n",
    "paramètres correspondants"
   ]
  },
  {
   "cell_type": "code",
   "execution_count": 55,
   "metadata": {},
   "outputs": [
    {
     "name": "stdout",
     "output_type": "stream",
     "text": [
      "uneVoiture est une Rolls-Royce\n",
      "Il y a 4 chiens\n"
     ]
    }
   ],
   "source": [
    "/**\n",
    " * Un exemple de programme qui\n",
    " * instancie une Voiture et deux Chiens\n",
    " * @author Emmanuel Bruno\n",
    " * @version 0.1\n",
    " * @see Voiture, Chien\n",
    " */\n",
    "public class Instanciation {\n",
    " public static void main(String[] args) {\n",
    "  Voiture uneVoiture = new Voiture(\"1234 AB 83\");\n",
    "  uneVoiture.setMarque(\"Rolls-Royce\");\n",
    "  uneVoiture.demarrer();\n",
    "  System.out.println(\"uneVoiture est une \"+uneVoiture.getMarque());\n",
    "     \n",
    "  Chien c1 = new Chien(\"C1\",\"Rex\"); \n",
    "  Chien c2; c2 = new Chien(\"C2\",\"Medor\");\n",
    "  System.out.println(\"Il y a \"+Chien.getNbChiens()+\" chiens\");\n",
    "  }\n",
    "}\n",
    "\n",
    "Instanciation.main(new String[0])"
   ]
  },
  {
   "cell_type": "code",
   "execution_count": 45,
   "metadata": {},
   "outputs": [
    {
     "name": "stdout",
     "output_type": "stream",
     "text": [
      "Java - 1.1 - Installation, compilation, exécution.ipynb\n",
      "Java - 1.2 - Maven introduction.ipynb\n",
      "Java - 1.3 - Basic Concepts.ipynb\n",
      "Java - 1.4 - Exceptions.ipynb\n",
      "MyApp\n",
      "MyPowerApp\n",
      "Projects\n",
      "sample-pom.xml\n",
      "settings.xml\n",
      "UML\n"
     ]
    }
   ],
   "source": [
    "%%shell\n",
    "ls"
   ]
  },
  {
   "cell_type": "code",
   "execution_count": null,
   "metadata": {},
   "outputs": [],
   "source": []
  }
 ],
 "metadata": {
  "kernelspec": {
   "display_name": "Java",
   "language": "java",
   "name": "java"
  },
  "language_info": {
   "codemirror_mode": "java",
   "file_extension": ".jshell",
   "mimetype": "text/x-java-source",
   "name": "Java",
   "pygments_lexer": "java",
   "version": "14.0.2+12"
  }
 },
 "nbformat": 4,
 "nbformat_minor": 4
}
