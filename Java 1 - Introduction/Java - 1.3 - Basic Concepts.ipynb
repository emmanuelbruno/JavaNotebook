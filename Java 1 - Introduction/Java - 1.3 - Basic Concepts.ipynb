{
 "cells": [
  {
   "cell_type": "code",
   "execution_count": 1,
   "metadata": {},
   "outputs": [],
   "source": [
    "%load /magics/UML.jshell"
   ]
  },
  {
   "cell_type": "code",
   "execution_count": 2,
   "metadata": {},
   "outputs": [
    {
     "data": {
      "image/svg+xml": [
       "<?xml version=\"1.0\" encoding=\"UTF-8\" standalone=\"no\"?><svg xmlns=\"http://www.w3.org/2000/svg\" xmlns:xlink=\"http://www.w3.org/1999/xlink\" contentScriptType=\"application/ecmascript\" contentStyleType=\"text/css\" height=\"150px\" preserveAspectRatio=\"none\" style=\"width:188px;height:150px;\" version=\"1.1\" viewBox=\"0 0 188 150\" width=\"188px\" zoomAndPan=\"magnify\"><defs><filter height=\"300%\" id=\"fipx2vfob91cl\" width=\"300%\" x=\"-1\" y=\"-1\"><feGaussianBlur result=\"blurOut\" stdDeviation=\"2.0\"/><feColorMatrix in=\"blurOut\" result=\"blurOut2\" type=\"matrix\" values=\"0 0 0 0 0 0 0 0 0 0 0 0 0 0 0 0 0 0 .4 0\"/><feOffset dx=\"4.0\" dy=\"4.0\" in=\"blurOut2\" result=\"blurOut3\"/><feBlend in=\"SourceGraphic\" in2=\"blurOut3\" mode=\"normal\"/></filter></defs><g><!--MD5=[8e95c13453fed63b2e6aa0fa1b4fbd98]\n",
       "class Film--><rect fill=\"#FEFECE\" filter=\"url(#fipx2vfob91cl)\" height=\"124.8281\" id=\"Film\" style=\"stroke: #A80036; stroke-width: 1.5;\" width=\"162\" x=\"7\" y=\"7\"/><ellipse cx=\"71.75\" cy=\"23\" fill=\"#ADD1B2\" rx=\"11\" ry=\"11\" style=\"stroke: #A80036; stroke-width: 1.0;\"/><path d=\"M74.7188,28.6406 Q74.1406,28.9375 73.5,29.0781 Q72.8594,29.2344 72.1563,29.2344 Q69.6563,29.2344 68.3281,27.5938 Q67.0156,25.9375 67.0156,22.8125 Q67.0156,19.6875 68.3281,18.0313 Q69.6563,16.375 72.1563,16.375 Q72.8594,16.375 73.5,16.5313 Q74.1563,16.6875 74.7188,16.9844 L74.7188,19.7031 Q74.0938,19.125 73.5,18.8594 Q72.9063,18.5781 72.2813,18.5781 Q70.9375,18.5781 70.25,19.6563 Q69.5625,20.7188 69.5625,22.8125 Q69.5625,24.9063 70.25,25.9844 Q70.9375,27.0469 72.2813,27.0469 Q72.9063,27.0469 73.5,26.7813 Q74.0938,26.5 74.7188,25.9219 L74.7188,28.6406 Z \"/><text fill=\"#000000\" font-family=\"sans-serif\" font-size=\"12\" lengthAdjust=\"spacingAndGlyphs\" textLength=\"24\" x=\"92.25\" y=\"27.1543\">Film</text><line style=\"stroke: #A80036; stroke-width: 1.5;\" x1=\"8\" x2=\"168\" y1=\"39\" y2=\"39\"/><rect fill=\"none\" height=\"6\" style=\"stroke: #C82930; stroke-width: 1.0;\" width=\"6\" x=\"15\" y=\"47\"/><text fill=\"#000000\" font-family=\"sans-serif\" font-size=\"11\" lengthAdjust=\"spacingAndGlyphs\" textLength=\"67\" x=\"27\" y=\"53.2104\">title : String</text><rect fill=\"none\" height=\"6\" style=\"stroke: #C82930; stroke-width: 1.0;\" width=\"6\" x=\"15\" y=\"59.8047\"/><text fill=\"#000000\" font-family=\"sans-serif\" font-size=\"11\" lengthAdjust=\"spacingAndGlyphs\" textLength=\"95\" x=\"27\" y=\"66.0151\">releaseYear : int</text><rect fill=\"none\" height=\"6\" style=\"stroke: #C82930; stroke-width: 1.0;\" width=\"6\" x=\"15\" y=\"72.6094\"/><text fill=\"#000000\" font-family=\"sans-serif\" font-size=\"11\" lengthAdjust=\"spacingAndGlyphs\" textLength=\"109\" x=\"27\" y=\"78.8198\">description : String</text><line style=\"stroke: #A80036; stroke-width: 1.5;\" x1=\"8\" x2=\"168\" y1=\"85.4141\" y2=\"85.4141\"/><ellipse cx=\"18\" cy=\"96.4141\" fill=\"#84BE84\" rx=\"3\" ry=\"3\" style=\"stroke: #038048; stroke-width: 1.0;\"/><text fill=\"#000000\" font-family=\"sans-serif\" font-size=\"11\" lengthAdjust=\"spacingAndGlyphs\" textLength=\"100\" x=\"27\" y=\"99.6245\">get Title() : String</text><ellipse cx=\"18\" cy=\"109.2188\" fill=\"#84BE84\" rx=\"3\" ry=\"3\" style=\"stroke: #038048; stroke-width: 1.0;\"/><text fill=\"#000000\" font-family=\"sans-serif\" font-size=\"11\" lengthAdjust=\"spacingAndGlyphs\" textLength=\"123\" x=\"27\" y=\"112.4292\">getReleaseYear() : int</text><ellipse cx=\"18\" cy=\"122.0234\" fill=\"#84BE84\" rx=\"3\" ry=\"3\" style=\"stroke: #038048; stroke-width: 1.0;\"/><text fill=\"#000000\" font-family=\"sans-serif\" font-size=\"11\" lengthAdjust=\"spacingAndGlyphs\" textLength=\"136\" x=\"27\" y=\"125.2339\">getDescription() : String</text><!--MD5=[aec408d476c20f75546500896a9d5019]\n",
       "@startuml\r\n",
       "class Film {\r\n",
       "    - title : String\r\n",
       "    - releaseYear : int\r\n",
       "    - description : String\r\n",
       "    + get Title() : String\r\n",
       "    + getReleaseYear() : int\r\n",
       "    + getDescription() : String\r\n",
       "}    \r\n",
       "@enduml\r\n",
       "\n",
       "PlantUML version 1.2020.15(Sun Jun 28 11:39:45 GMT 2020)\n",
       "(GPL source distribution)\n",
       "Java Runtime: OpenJDK Runtime Environment\n",
       "JVM: OpenJDK 64-Bit Server VM\n",
       "Default Encoding: UTF-8\n",
       "Language: en\n",
       "Country: US\n",
       "--></g></svg>"
      ],
      "text/plain": [
       "<?xml version=\"1.0\" encoding=\"UTF-8\" standalone=\"no\"?><svg xmlns=\"http://www.w3.org/2000/svg\" xmlns:xlink=\"http://www.w3.org/1999/xlink\" contentScriptType=\"application/ecmascript\" contentStyleType=\"text/css\" height=\"150px\" preserveAspectRatio=\"none\" style=\"width:188px;height:150px;\" version=\"1.1\" viewBox=\"0 0 188 150\" width=\"188px\" zoomAndPan=\"magnify\"><defs><filter height=\"300%\" id=\"fipx2vfob91cl\" width=\"300%\" x=\"-1\" y=\"-1\"><feGaussianBlur result=\"blurOut\" stdDeviation=\"2.0\"/><feColorMatrix in=\"blurOut\" result=\"blurOut2\" type=\"matrix\" values=\"0 0 0 0 0 0 0 0 0 0 0 0 0 0 0 0 0 0 .4 0\"/><feOffset dx=\"4.0\" dy=\"4.0\" in=\"blurOut2\" result=\"blurOut3\"/><feBlend in=\"SourceGraphic\" in2=\"blurOut3\" mode=\"normal\"/></filter></defs><g><!--MD5=[8e95c13453fed63b2e6aa0fa1b4fbd98]\n",
       "class Film--><rect fill=\"#FEFECE\" filter=\"url(#fipx2vfob91cl)\" height=\"124.8281\" id=\"Film\" style=\"stroke: #A80036; stroke-width: 1.5;\" width=\"162\" x=\"7\" y=\"7\"/><ellipse cx=\"71.75\" cy=\"23\" fill=\"#ADD1B2\" rx=\"11\" ry=\"11\" style=\"stroke: #A80036; stroke-width: 1.0;\"/><path d=\"M74.7188,28.6406 Q74.1406,28.9375 73.5,29.0781 Q72.8594,29.2344 72.1563,29.2344 Q69.6563,29.2344 68.3281,27.5938 Q67.0156,25.9375 67.0156,22.8125 Q67.0156,19.6875 68.3281,18.0313 Q69.6563,16.375 72.1563,16.375 Q72.8594,16.375 73.5,16.5313 Q74.1563,16.6875 74.7188,16.9844 L74.7188,19.7031 Q74.0938,19.125 73.5,18.8594 Q72.9063,18.5781 72.2813,18.5781 Q70.9375,18.5781 70.25,19.6563 Q69.5625,20.7188 69.5625,22.8125 Q69.5625,24.9063 70.25,25.9844 Q70.9375,27.0469 72.2813,27.0469 Q72.9063,27.0469 73.5,26.7813 Q74.0938,26.5 74.7188,25.9219 L74.7188,28.6406 Z \"/><text fill=\"#000000\" font-family=\"sans-serif\" font-size=\"12\" lengthAdjust=\"spacingAndGlyphs\" textLength=\"24\" x=\"92.25\" y=\"27.1543\">Film</text><line style=\"stroke: #A80036; stroke-width: 1.5;\" x1=\"8\" x2=\"168\" y1=\"39\" y2=\"39\"/><rect fill=\"none\" height=\"6\" style=\"stroke: #C82930; stroke-width: 1.0;\" width=\"6\" x=\"15\" y=\"47\"/><text fill=\"#000000\" font-family=\"sans-serif\" font-size=\"11\" lengthAdjust=\"spacingAndGlyphs\" textLength=\"67\" x=\"27\" y=\"53.2104\">title : String</text><rect fill=\"none\" height=\"6\" style=\"stroke: #C82930; stroke-width: 1.0;\" width=\"6\" x=\"15\" y=\"59.8047\"/><text fill=\"#000000\" font-family=\"sans-serif\" font-size=\"11\" lengthAdjust=\"spacingAndGlyphs\" textLength=\"95\" x=\"27\" y=\"66.0151\">releaseYear : int</text><rect fill=\"none\" height=\"6\" style=\"stroke: #C82930; stroke-width: 1.0;\" width=\"6\" x=\"15\" y=\"72.6094\"/><text fill=\"#000000\" font-family=\"sans-serif\" font-size=\"11\" lengthAdjust=\"spacingAndGlyphs\" textLength=\"109\" x=\"27\" y=\"78.8198\">description : String</text><line style=\"stroke: #A80036; stroke-width: 1.5;\" x1=\"8\" x2=\"168\" y1=\"85.4141\" y2=\"85.4141\"/><ellipse cx=\"18\" cy=\"96.4141\" fill=\"#84BE84\" rx=\"3\" ry=\"3\" style=\"stroke: #038048; stroke-width: 1.0;\"/><text fill=\"#000000\" font-family=\"sans-serif\" font-size=\"11\" lengthAdjust=\"spacingAndGlyphs\" textLength=\"100\" x=\"27\" y=\"99.6245\">get Title() : String</text><ellipse cx=\"18\" cy=\"109.2188\" fill=\"#84BE84\" rx=\"3\" ry=\"3\" style=\"stroke: #038048; stroke-width: 1.0;\"/><text fill=\"#000000\" font-family=\"sans-serif\" font-size=\"11\" lengthAdjust=\"spacingAndGlyphs\" textLength=\"123\" x=\"27\" y=\"112.4292\">getReleaseYear() : int</text><ellipse cx=\"18\" cy=\"122.0234\" fill=\"#84BE84\" rx=\"3\" ry=\"3\" style=\"stroke: #038048; stroke-width: 1.0;\"/><text fill=\"#000000\" font-family=\"sans-serif\" font-size=\"11\" lengthAdjust=\"spacingAndGlyphs\" textLength=\"136\" x=\"27\" y=\"125.2339\">getDescription() : String</text><!--MD5=[aec408d476c20f75546500896a9d5019]\n",
       "@startuml\r\n",
       "class Film {\r\n",
       "    - title : String\r\n",
       "    - releaseYear : int\r\n",
       "    - description : String\r\n",
       "    + get Title() : String\r\n",
       "    + getReleaseYear() : int\r\n",
       "    + getDescription() : String\r\n",
       "}    \r\n",
       "@enduml\r\n",
       "\n",
       "PlantUML version 1.2020.15(Sun Jun 28 11:39:45 GMT 2020)\n",
       "(GPL source distribution)\n",
       "Java Runtime: OpenJDK Runtime Environment\n",
       "JVM: OpenJDK 64-Bit Server VM\n",
       "Default Encoding: UTF-8\n",
       "Language: en\n",
       "Country: US\n",
       "--></g></svg>"
      ]
     },
     "metadata": {},
     "output_type": "display_data"
    }
   ],
   "source": [
    "%%plantUML\n",
    "@startuml\n",
    "class Film {\n",
    "    - title : String\n",
    "    - releaseYear : int\n",
    "    - description : String\n",
    "    + get Title() : String\n",
    "    + getReleaseYear() : int\n",
    "    + getDescription() : String\n",
    "}    \n",
    "@enduml"
   ]
  },
  {
   "cell_type": "code",
   "execution_count": 3,
   "metadata": {},
   "outputs": [],
   "source": [
    "//package fr.univtln.bruno.java;\n",
    "public class Film {\n",
    "    private String title;\n",
    "    private int releaseYear;\n",
    "    private String description;\n",
    "\n",
    "    public String getTitle() {\n",
    "        return title;\n",
    "    }\n",
    "\n",
    "    public void setTitle(String title) {\n",
    "        this.title = title;\n",
    "    }\n",
    "\n",
    "    public int getReleaseYear() {\n",
    "        return releaseYear;\n",
    "    }\n",
    "\n",
    "    public void setReleaseYear(int releaseYear) {\n",
    "        this.releaseYear = releaseYear;\n",
    "    }\n",
    "    \n",
    "    public String getDescription() {\n",
    "        return description;\n",
    "    }\n",
    "\n",
    "    public void setDescription(String description) {\n",
    "        this.description = description;\n",
    "    }\n",
    "}"
   ]
  },
  {
   "cell_type": "code",
   "execution_count": 4,
   "metadata": {},
   "outputs": [],
   "source": [
    "//package fr.univtln.bruno.java;\n",
    "public class Test1 { \n",
    "    public static void main(String args[]) {\n",
    "        Film film1 = new Film();\n",
    "        film1.setTitle(\"Academy Dinosaur\");\n",
    "        film1.setReleaseYear(2006);\n",
    "        System.out.println(\"Film 1: \"+film1.getTitle()+\" (\"+film1.getReleaseYear()+\")\");\n",
    "    }\n",
    "};\n"
   ]
  },
  {
   "cell_type": "code",
   "execution_count": 5,
   "metadata": {},
   "outputs": [
    {
     "name": "stdout",
     "output_type": "stream",
     "text": [
      "Film 1: Academy Dinosaur (2006)\n"
     ]
    }
   ],
   "source": [
    "Test1.main(null);"
   ]
  },
  {
   "cell_type": "code",
   "execution_count": 6,
   "metadata": {},
   "outputs": [],
   "source": [
    "public class Film {\n",
    "    private String title;\n",
    "    private int releaseYear;\n",
    "    private String description;\n",
    "\n",
    "    public String getTitle() {\n",
    "        return title;\n",
    "    }\n",
    "\n",
    "    public void setTitle(String title) {\n",
    "        this.title = title;\n",
    "    }\n",
    "\n",
    "    public int getReleaseYear() {\n",
    "        return releaseYear;\n",
    "    }\n",
    "\n",
    "    public void setReleaseYear(int releaseYear) {\n",
    "        this.releaseYear = releaseYear;\n",
    "    }\n",
    "\n",
    "    public String getDescription() {\n",
    "        return description;\n",
    "    }\n",
    "\n",
    "    public void setDescription(String description) {\n",
    "        this.description = description;\n",
    "    }\n",
    "    \n",
    "    public Film(String title, int releaseYear) {\n",
    "        this.title = title;\n",
    "        this.releaseYear = releaseYear;\n",
    "    }\n",
    "    \n",
    "    public Film(String title, int releaseYear, String description) {\n",
    "        this(title, releaseYear);\n",
    "        this.description = description;\n",
    "    }\n",
    "}"
   ]
  },
  {
   "cell_type": "code",
   "execution_count": 7,
   "metadata": {},
   "outputs": [
    {
     "name": "stdout",
     "output_type": "stream",
     "text": [
      "Film 1: Academy Dinosaur (2006) A Epic Drama of a Feminist And a Mad Scientist who must Battle a Teacher in The Canadian Rockies\n"
     ]
    }
   ],
   "source": [
    "Film film1 = new Film(\"Academy Dinosaur\",2006, \"A Epic Drama of a Feminist And a Mad Scientist who must Battle a Teacher in The Canadian Rockies\");\n",
    "System.out.println(\"Film 1: \"+film1.getTitle()+\" (\"+film1.getReleaseYear()+\") \"+film1.getDescription());"
   ]
  },
  {
   "cell_type": "code",
   "execution_count": null,
   "metadata": {},
   "outputs": [],
   "source": []
  },
  {
   "cell_type": "code",
   "execution_count": 8,
   "metadata": {},
   "outputs": [],
   "source": [
    "%load /magics/SHELL.jshell"
   ]
  },
  {
   "cell_type": "code",
   "execution_count": 9,
   "metadata": {},
   "outputs": [
    {
     "name": "stdout",
     "output_type": "stream",
     "text": [
      "helloworld\n",
      "Java - 1.1 - First Steps.ipynb\n",
      "Java - 1.2 - Maven introduction.ipynb\n",
      "Java - 1.3 - Basic Concepts.ipynb\n",
      "MyApp\n",
      "sample-pom.xml\n"
     ]
    }
   ],
   "source": [
    "%%shell\n",
    "ls"
   ]
  },
  {
   "cell_type": "code",
   "execution_count": null,
   "metadata": {},
   "outputs": [],
   "source": []
  }
 ],
 "metadata": {
  "kernelspec": {
   "display_name": "Java",
   "language": "java",
   "name": "java"
  },
  "language_info": {
   "codemirror_mode": "java",
   "file_extension": ".jshell",
   "mimetype": "text/x-java-source",
   "name": "Java",
   "pygments_lexer": "java",
   "version": "14.0.1+7"
  }
 },
 "nbformat": 4,
 "nbformat_minor": 4
}
