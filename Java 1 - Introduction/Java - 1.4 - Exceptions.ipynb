{
 "cells": [
  {
   "cell_type": "markdown",
   "metadata": {},
   "source": [
    "# Les exceptions"
   ]
  },
  {
   "cell_type": "markdown",
   "metadata": {},
   "source": [
    "- Dans notre contexte sécuriser un programme c’est :\n",
    " - Prévoir les erreurs\n",
    " - les détecter\n",
    " - et réagir\n",
    "\n",
    "- L’un des objectifs du le langage Java est la sécurité\n",
    " - Il propose un mécanisme dédié : les exceptions"
   ]
  },
  {
   "cell_type": "markdown",
   "metadata": {},
   "source": [
    "- Pour les langages qui ne proposent pas de traitement spécifique des erreurs :\n",
    " - Les cas d’erreur doivent être prévus (analyse du code, de l’utilisation, . . .)\n",
    " - Des procédures de test sont mises en place (manuelles et automatiques)\n",
    " - Des réactions aux erreurs sont prévues\n",
    "   - Traiter : Avertissement, correction dynamique, arrêt contrôlé, . . .\n",
    "   - Mais aussi remonter l’erreur vers le code appelant.\n",
    "- Le code de test est confondu avec celui de l’application\n",
    " - Difficile à lire\n",
    " - Difficile à maintenir\n",
    " - Qui traite l’erreur l’appelant ou l’appelé ?"
   ]
  },
  {
   "cell_type": "code",
   "execution_count": 6,
   "metadata": {},
   "outputs": [],
   "source": [
    "public class Chien { }\n",
    "\n",
    "public class Traineau {\n",
    "  public final int capacite ;\n",
    "  protected int occupation = 0 ;\n",
    "  protected Chien[] contenu ;\n",
    " \n",
    "  public Traineau(int capacite) {\n",
    "    this.capacite = capacite ;\n",
    "    contenu = new Chien[capacite] ;\n",
    "  }\n",
    "  public boolean estComplet() {\n",
    "    return occupation == capacite;\n",
    "  }\n",
    "  public boolean estVide() {\n",
    "      return occupation == 0; \n",
    "  }\n",
    "  public void ajouter (Chien c) {\n",
    "    if (!estComplet()) contenu[occupation++] = c;\n",
    "    else System.out.println(\"Traineau complet !\");\n",
    "  }\n",
    "  public void liberer() {\n",
    "    if (!estVide()) contenu[--occupation] = null;\n",
    "    else System.out.println(\"Traineau vide !\");\n",
    "  }\n",
    "}"
   ]
  },
  {
   "cell_type": "code",
   "execution_count": 7,
   "metadata": {},
   "outputs": [],
   "source": [
    "public class Test {\n",
    "  public static void main ( String [ ] args ) {\n",
    "  Traineau t ;\n",
    "  int nbChiens ;\n",
    "  //Creation d’un traineau de taille donnee\n",
    "  t = new Traineau(Integer.parseInt(args[0])) ;\n",
    "  //Nb de chiens\n",
    "  nbChiens = Integer.parseInt(args[1]);\n",
    "  int i = nbChiens ;\n",
    "  while ( i-- > 0 && !t.estComplet() )\n",
    "  t.ajouter(new Chien());\n",
    "  i = nbChiens;\n",
    "  System.out.println(\" occupation : \"+100*nbChiens/t.capacite);\n",
    "  while (i-- > 0 && ! t.estVide())\n",
    "    t.liberer();\n",
    "  }\n",
    "}\n",
    "\n"
   ]
  },
  {
   "cell_type": "code",
   "execution_count": 9,
   "metadata": {},
   "outputs": [
    {
     "name": "stdout",
     "output_type": "stream",
     "text": [
      " occupation : 40\n"
     ]
    }
   ],
   "source": [
    "Test.main(new String[]{\"5\",\"2\"});"
   ]
  },
  {
   "cell_type": "markdown",
   "metadata": {},
   "source": [
    "Dans le programme précédent\n",
    "- Le programme teste et réagit à la même erreur plusieurs endroits\n",
    "- que se passe-t-il si :\n",
    "  - Il n’y a pas assez de paramètres\n",
    "  - Les paramètres (des chaı̂nes) ne représentent pas nombres\n",
    "  - Le premier paramètre vaut 0\n",
    "- Pour traiter cela, java propose :\n",
    "  - un mécanisme le bloc try...catch...finally\n",
    "    - On exécute et on réagit éventuellement : mécanisme implicite\n",
    "    - Séparation du code et du traitement des erreurs\n",
    "    - Erreurs classiques : Division par zéro, dépassement de tableaux, . . .\n",
    "    - Extensibilité des erreurs\n",
    "  - une hiérarchie de classe pour les erreurs"
   ]
  },
  {
   "cell_type": "code",
   "execution_count": 8,
   "metadata": {},
   "outputs": [
    {
     "ename": "EvalException",
     "evalue": "Index 0 out of bounds for length 0",
     "output_type": "error",
     "traceback": [
      "\u001b[1m\u001b[31m---------------------------------------------------------------------------\u001b[0m",
      "\u001b[1m\u001b[31mjava.lang.ArrayIndexOutOfBoundsException: Index 0 out of bounds for length 0\u001b[0m",
      "\u001b[1m\u001b[31m\tat Test.main(#18:6)\u001b[0m",
      "\u001b[1m\u001b[31m\tat .(#19:1)\u001b[0m"
     ]
    }
   ],
   "source": [
    "Test.main(new String[0]);"
   ]
  },
  {
   "cell_type": "code",
   "execution_count": 10,
   "metadata": {},
   "outputs": [
    {
     "ename": "EvalException",
     "evalue": "/ by zero",
     "output_type": "error",
     "traceback": [
      "\u001b[1m\u001b[31m---------------------------------------------------------------------------\u001b[0m",
      "\u001b[1m\u001b[31mjava.lang.ArithmeticException: / by zero\u001b[0m",
      "\u001b[1m\u001b[31m\tat Test.main(#18:13)\u001b[0m",
      "\u001b[1m\u001b[31m\tat .(#21:1)\u001b[0m"
     ]
    }
   ],
   "source": [
    "Test.main(new String[]{\"0\",\"5\"});"
   ]
  },
  {
   "cell_type": "markdown",
   "metadata": {},
   "source": [
    "Toutes les erreurs potentielles doivent être traitées par l’appelant\n",
    "Sauf celles de type RuntimeException :"
   ]
  },
  {
   "cell_type": "markdown",
   "metadata": {},
   "source": [
    "- La première réaction possible a une erreur c’est de la transmettre au programme appelant\n",
    "- En Java, on utilise l’instruction `throw exception`\n",
    "  - dans le corps d’un programme (par exemple dans un catch)\n",
    "- C’est le comportement par défaut pour les `RuntimeException`\n",
    "- Toute erreur est interceptée au plus tard par le programme principal encadré par défaut par :\n",
    "\n",
    "```java\n",
    "try\n",
    "...\n",
    "catch(Throwable t)\n",
    "System.err.println(t.printStackTrace());\n",
    "```"
   ]
  },
  {
   "cell_type": "code",
   "execution_count": 13,
   "metadata": {},
   "outputs": [],
   "source": [
    "public class TestErreur {\n",
    "  public static void main(String[] args) {\n",
    "    Traineau t = null ;\n",
    "    int nbChiens = 0 ;\n",
    "    try {\n",
    "      t = new Traineau(Integer.parseInt(args[0])) ;\n",
    "      nbChiens = Integer.parseInt(args[1]) ;\n",
    "      int i = nbChiens ;\n",
    "      while (i-->0 && !t.estComplet()) t.ajouter(new Chien()) ;\n",
    "      i = nbChiens ;\n",
    "      while (i-->0 && !t.estVide()) t.liberer();\n",
    "    } catch (ArrayIndexOutOfBoundsException e) {\n",
    "    System.out.println(\" Test exception < TailleTraineau > < nbChiens > \");\n",
    "  } catch (NumberFormatException e) {System.out.println(\" Parametres non numeriques ! \"); }\n",
    " }\n",
    "}"
   ]
  },
  {
   "cell_type": "code",
   "execution_count": 14,
   "metadata": {},
   "outputs": [
    {
     "name": "stdout",
     "output_type": "stream",
     "text": [
      " Test exception < TailleTraineau > < nbChiens > \n"
     ]
    }
   ],
   "source": [
    "TestErreur.main(new String[0]);"
   ]
  },
  {
   "cell_type": "code",
   "execution_count": 17,
   "metadata": {},
   "outputs": [],
   "source": [
    "public class TraineauThrows extends Traineau {\n",
    "  public TraineauThrows (int capacite) {super (capacite); }\n",
    "  public int getRatioOccupation() {\n",
    "    try {\n",
    "      return 100*occupation/capacite ;\n",
    "    } catch (ArithmeticException e) {return -1;}\n",
    "   }\n",
    "    \n",
    " public int getRatioOccupationSur() {\n",
    "  try {\n",
    "    return 100*occupation/capacite ;\n",
    "  } catch (ArithmeticException e) {\n",
    "    System.out.println(\" Ratio non calculable \");\n",
    "    throw e ; }\n",
    " }\n",
    "}"
   ]
  },
  {
   "cell_type": "code",
   "execution_count": 20,
   "metadata": {},
   "outputs": [
    {
     "name": "stdout",
     "output_type": "stream",
     "text": [
      " Ratio non calculable \n"
     ]
    },
    {
     "ename": "EvalException",
     "evalue": "/ by zero",
     "output_type": "error",
     "traceback": [
      "\u001b[1m\u001b[31m---------------------------------------------------------------------------\u001b[0m",
      "\u001b[1m\u001b[31mjava.lang.ArithmeticException: / by zero\u001b[0m",
      "\u001b[1m\u001b[31m\tat TraineauThrows.getRatioOccupationSur(#26:11)\u001b[0m",
      "\u001b[1m\u001b[31m\tat .(#30:1)\u001b[0m"
     ]
    }
   ],
   "source": [
    "TraineauThrows traineauThrows = new TraineauThrows(0);\n",
    "traineauThrows.getRatioOccupationSur()"
   ]
  },
  {
   "cell_type": "code",
   "execution_count": null,
   "metadata": {},
   "outputs": [],
   "source": [
    "Pour traiter les cas d’erreur particulier à une application :\n",
    " - On étend la classe Exception\n",
    " - Ces erreurs devront être traitées par l’utilisateur\n",
    " - Quand une méthode peut émettre une erreur, on l’indique dans la déclaration avec la directive `throws`\n",
    " - Pour l’émettre, on crée une instance qui est émise pas throw"
   ]
  },
  {
   "cell_type": "code",
   "execution_count": 21,
   "metadata": {},
   "outputs": [],
   "source": [
    "public class TraineauVideException extends Exception {\n",
    "}\n",
    "\n",
    "public class TraineauPleinException extends Exception {\n",
    "}"
   ]
  },
  {
   "cell_type": "code",
   "execution_count": 22,
   "metadata": {},
   "outputs": [],
   "source": [
    "public class TraineauErreur extends TraineauThrows {\n",
    "\n",
    "    public TraineauErreur(int capacite) {\n",
    "        super (capacite) ;\n",
    "    }\n",
    "    public void ajouterSur(Chien c) throws TraineauPleinException {\n",
    "        if (!estComplet()) contenu[occupation++] = c;\n",
    "        else throw new TraineauPleinException();\n",
    "    }\n",
    "    public void libererSur() throws TraineauVideException {\n",
    "        if (!estVide()) contenu[--occupation] = null ;\n",
    "    else throw new TraineauVideException() ;\n",
    " }\n",
    "}"
   ]
  },
  {
   "cell_type": "code",
   "execution_count": 32,
   "metadata": {},
   "outputs": [],
   "source": [
    "public class TestErreur2 {\n",
    "  public static void main (String[] args ) {\n",
    "    TraineauErreur t = null ;\n",
    "    int nbChiens = 0 ;\n",
    "    try {\n",
    "        t = new TraineauErreur(Integer.parseInt(args[0]));\n",
    "        nbChiens = Integer.parseInt(args[1]); //Nb de chiens\n",
    "        int i = nbChiens; \n",
    "    \n",
    "        try {\n",
    "          while (i-- > 0) t.ajouterSur(new Chien());\n",
    "        } catch (TraineauPleinException e) {\n",
    "          System.out.println(\" Le traineau est trop petit ! \" ); \n",
    "        }\n",
    "    \n",
    "        System.out.println(\" occup .: \"+t.getRatioOccupationSur()) ;\n",
    "        i=nbChiens;\n",
    "        try {\n",
    "            while (i-- > 0 && !t.estVide())\n",
    "            t.libererSur();\n",
    "        } catch ( TraineauVideException e) {\n",
    "          System.out.println(\" Il n ’y a plus de chiens ! \"); }\n",
    "        } catch ( ArrayIndexOutOfBoundsException e ) {\n",
    "          System.out.println(\" TestExcep < TTraineau > < nbChiens > \" ) ;\n",
    "        } catch ( NumberFormatException e) {\n",
    "          System.out.println (\" Parametres non numeriques ! \");\n",
    "        }\n",
    "  }\n",
    "}"
   ]
  },
  {
   "cell_type": "code",
   "execution_count": 36,
   "metadata": {},
   "outputs": [
    {
     "name": "stdout",
     "output_type": "stream",
     "text": [
      " Le traineau est trop petit ! \n",
      " Ratio non calculable \n"
     ]
    },
    {
     "ename": "EvalException",
     "evalue": "/ by zero",
     "output_type": "error",
     "traceback": [
      "\u001b[1m\u001b[31m---------------------------------------------------------------------------\u001b[0m",
      "\u001b[1m\u001b[31mjava.lang.ArithmeticException: / by zero\u001b[0m",
      "\u001b[1m\u001b[31m\tat TraineauThrows.getRatioOccupationSur(#26:11)\u001b[0m",
      "\u001b[1m\u001b[31m\tat TestErreur2.main(#37:16)\u001b[0m",
      "\u001b[1m\u001b[31m\tat .(#45:1)\u001b[0m"
     ]
    }
   ],
   "source": [
    "TestErreur2.main(new String[]{\"0\",\"2\"});"
   ]
  },
  {
   "cell_type": "code",
   "execution_count": 35,
   "metadata": {},
   "outputs": [
    {
     "name": "stdout",
     "output_type": "stream",
     "text": [
      " Parametres non numeriques ! \n"
     ]
    }
   ],
   "source": [
    "TestErreur2.main(new String[]{\"X\",\"2\"});"
   ]
  },
  {
   "cell_type": "code",
   "execution_count": null,
   "metadata": {},
   "outputs": [],
   "source": [
    "Dans certains, cas le traitement de erreur peut être utilisé pour vérifier que le programme fonctionne dans un état prévu :\n",
    "  - On vérifie que les variables restent dans des domaines précis\n",
    "  - C’est lourd à mettre en place et à maintenir\n",
    "  - Java 5 propose les assertions\n",
    "  - Cela permet de vérifier dynamiquement que des conditions sont toujours vraies\n",
    "  - Quand ce n’est pas le cas, une exception est levée"
   ]
  },
  {
   "cell_type": "code",
   "execution_count": 1,
   "metadata": {},
   "outputs": [],
   "source": [
    "public class VehiculeAvecAssertion {\n",
    "  int vitesse =0; /* la vitesse en km/s */\n",
    "  public static void main(String args[]) {\n",
    "    VehiculeAvecAssertion v =\n",
    "    new VehiculeAvecAssertion();\n",
    "    v.vitesse=-3;\n",
    "    v.vitesse=400000;\n",
    "    assert v.vitesse >= 0 && v.vitesse <= 300000;\n",
    "  }\n",
    "}"
   ]
  },
  {
   "cell_type": "code",
   "execution_count": null,
   "metadata": {},
   "outputs": [],
   "source": []
  }
 ],
 "metadata": {
  "kernelspec": {
   "display_name": "Java",
   "language": "java",
   "name": "java"
  },
  "language_info": {
   "codemirror_mode": "java",
   "file_extension": ".jshell",
   "mimetype": "text/x-java-source",
   "name": "Java",
   "pygments_lexer": "java",
   "version": "14.0.2+12"
  }
 },
 "nbformat": 4,
 "nbformat_minor": 4
}
