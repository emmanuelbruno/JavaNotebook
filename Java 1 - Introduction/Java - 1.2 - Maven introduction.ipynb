{
 "cells": [
  {
   "cell_type": "markdown",
   "metadata": {},
   "source": [
    "# Introduction à Maven\n",
    "Maven est un outil de gestion de projet Java. Il permet de gérer la compilation, la documentation, les dépendances, les systèmes de gestion de version de code source, les release et la distributions.\n",
    "\n",
    "Les objets manipulés par maven (bibliothèques java,modèles de projets, plugin de maven, ...) sont appelés des artefacts. Ils sont indiqués par des coordonnées composées d'un groupId (qui regroupe fonctionnellement des artefacts), d'un artefactId et d'une version."
   ]
  },
  {
   "cell_type": "markdown",
   "metadata": {},
   "source": [
    "## Création d'un projet Maven\n",
    "Un projet maven peut être créé à partir d'un Archetype Maven.  Les options `archetypeGroupId`, `archetypeArtifactId` et `archetypeVersion` indiquent les coordonnées du modèle. Les options `groupId`, `artifactId` et `version` indique les coordonnées du projets qui va être créé.\n",
    "\n",
    "Dans l'exemple ci-dessous le modèle est un projet Java de base."
   ]
  },
  {
   "cell_type": "code",
   "execution_count": 1,
   "metadata": {},
   "outputs": [
    {
     "name": "stdout",
     "output_type": "stream",
     "text": [
      "[INFO] Scanning for projects...                                                \n",
      "[INFO] Downloading from bintray-dptinfoutln-public: https://dl.bintray.com/dptinfoutln/public/org/codehaus/mojo/maven-metadata.xml\n",
      "[INFO] Downloading from bintray-dptinfoutln-public: https://dl.bintray.com/dptinfoutln/public/org/apache/maven/plugins/maven-metadata.xml\n",
      "[INFO] Downloading from bintray-dptinfoutln-public: https://dl.bintray.com/dptinfoutln/public/org/apache/maven/plugins/maven-archetype-plugin/maven-metadata.xml\n",
      "[INFO] \n",
      "[INFO] ------------------< org.apache.maven:standalone-pom >-------------------\n",
      "[INFO] Building Maven Stub Project (No POM) 1\n",
      "[INFO] --------------------------------[ pom ]---------------------------------\n",
      "[INFO] \n",
      "[INFO] >>> maven-archetype-plugin:3.1.2:generate (default-cli) > generate-sources @ standalone-pom >>>\n",
      "[INFO] \n",
      "[INFO] <<< maven-archetype-plugin:3.1.2:generate (default-cli) < generate-sources @ standalone-pom <<<\n",
      "[INFO] \n",
      "[INFO] \n",
      "[INFO] --- maven-archetype-plugin:3.1.2:generate (default-cli) @ standalone-pom ---\n",
      "[INFO] Generating project in Batch mode\n",
      "[INFO] Archetype repository not defined. Using the one from [org.apache.maven.archetypes:maven-archetype-quickstart:1.4] found in catalog remote\n",
      "[INFO] ----------------------------------------------------------------------------\n",
      "[INFO] Using following parameters for creating project from Archetype: maven-archetype-quickstart:1.4\n",
      "[INFO] ----------------------------------------------------------------------------\n",
      "[INFO] Parameter: groupId, Value: fr.univtln.bruno\n",
      "[INFO] Parameter: artifactId, Value: MyApp\n",
      "[INFO] Parameter: version, Value: 1.0-SNAPSHOT\n",
      "[INFO] Parameter: package, Value: fr.univtln.bruno\n",
      "[INFO] Parameter: packageInPathFormat, Value: fr/univtln/bruno\n",
      "[INFO] Parameter: package, Value: fr.univtln.bruno\n",
      "[INFO] Parameter: groupId, Value: fr.univtln.bruno\n",
      "[INFO] Parameter: artifactId, Value: MyApp\n",
      "[INFO] Parameter: version, Value: 1.0-SNAPSHOT\n",
      "[INFO] Project created from Archetype in dir: /notebooks/Java 1 - Introduction/MyApp\n",
      "[INFO] ------------------------------------------------------------------------\n",
      "[INFO] BUILD SUCCESS\n",
      "[INFO] ------------------------------------------------------------------------\n",
      "[INFO] Total time:  17.551 s\n",
      "[INFO] Finished at: 2020-10-14T11:12:41Z\n",
      "[INFO] ------------------------------------------------------------------------\n"
     ]
    }
   ],
   "source": [
    "cd '/notebooks/Java 1 - Introduction'\n",
    "# Removes the project if necessary\n",
    "rm -rf MyApp || true\n",
    "\n",
    "# Create a new project from a Maven Archetype\n",
    "mvn archetype:generate -B \\\n",
    " -DarchetypeGroupId=org.apache.maven.archetypes \\\n",
    " -DarchetypeArtifactId=maven-archetype-quickstart \\\n",
    " -DarchetypeVersion=1.4 \\\n",
    " -DgroupId=fr.univtln.bruno \\\n",
    " -DartifactId=MyApp \\\n",
    " -Dversion=1.0-SNAPSHOT"
   ]
  },
  {
   "cell_type": "code",
   "execution_count": 2,
   "metadata": {},
   "outputs": [
    {
     "name": "stdout",
     "output_type": "stream",
     "text": [
      "/notebooks/Java 1 - Introduction/MyApp\n",
      "├── pom.xml\n",
      "└── src\n",
      "    ├── main\n",
      "    │   └── java\n",
      "    │       └── fr\n",
      "    │           └── univtln\n",
      "    │               └── bruno\n",
      "    │                   └── App.java\n",
      "    └── test\n",
      "        └── java\n",
      "            └── fr\n",
      "                └── univtln\n",
      "                    └── bruno\n",
      "                        └── AppTest.java\n",
      "\n",
      "11 directories, 3 files\n"
     ]
    }
   ],
   "source": [
    "tree '/notebooks/Java 1 - Introduction/MyApp'"
   ]
  },
  {
   "cell_type": "code",
   "execution_count": 3,
   "metadata": {},
   "outputs": [
    {
     "name": "stdout",
     "output_type": "stream",
     "text": [
      "[\u001b[1;34mINFO\u001b[m] Scanning for projects...                                      \n",
      "[\u001b[1;34mINFO\u001b[m] \n",
      "[\u001b[1;34mINFO\u001b[m] \u001b[1m-----------------------< \u001b[0;36mfr.univtln.bruno:MyApp\u001b[0;1m >-----------------------\u001b[m\n",
      "[\u001b[1;34mINFO\u001b[m] \u001b[1mBuilding MyApp 1.0-SNAPSHOT\u001b[m\n",
      "[\u001b[1;34mINFO\u001b[m] \u001b[1m--------------------------------[ jar ]---------------------------------\u001b[m\n",
      "[\u001b[1;34mINFO\u001b[m] \n",
      "[\u001b[1;34mINFO\u001b[m] \u001b[1m--- \u001b[0;32mmaven-resources-plugin:3.0.2:resources\u001b[m \u001b[1m(default-resources)\u001b[m @ \u001b[36mMyApp\u001b[0;1m ---\u001b[m\n",
      "[\u001b[1;34mINFO\u001b[m] Using 'UTF-8' encoding to copy filtered resources.\n",
      "[\u001b[1;34mINFO\u001b[m] skip non existing resourceDirectory /notebooks/Java 1 - Introduction/MyApp/src/main/resources\n",
      "[\u001b[1;34mINFO\u001b[m] \n",
      "[\u001b[1;34mINFO\u001b[m] \u001b[1m--- \u001b[0;32mmaven-compiler-plugin:3.8.0:compile\u001b[m \u001b[1m(default-compile)\u001b[m @ \u001b[36mMyApp\u001b[0;1m ---\u001b[m\n",
      "[\u001b[1;34mINFO\u001b[m] Changes detected - recompiling the module!\n",
      "[\u001b[1;34mINFO\u001b[m] Compiling 1 source file to /notebooks/Java 1 - Introduction/MyApp/target/classes\n",
      "[\u001b[1;34mINFO\u001b[m] \u001b[1m------------------------------------------------------------------------\u001b[m\n",
      "[\u001b[1;34mINFO\u001b[m] \u001b[1;32mBUILD SUCCESS\u001b[m\n",
      "[\u001b[1;34mINFO\u001b[m] \u001b[1m------------------------------------------------------------------------\u001b[m\n",
      "[\u001b[1;34mINFO\u001b[m] Total time:  2.019 s\n",
      "[\u001b[1;34mINFO\u001b[m] Finished at: 2020-10-13T21:20:51Z\n",
      "[\u001b[1;34mINFO\u001b[m] \u001b[1m------------------------------------------------------------------------\u001b[m\n",
      "Hello World!\n"
     ]
    }
   ],
   "source": [
    "cd MyApp\n",
    "mvn compile\n",
    "java -cp target/classes fr.univtln.bruno.App"
   ]
  },
  {
   "cell_type": "code",
   "execution_count": 4,
   "metadata": {},
   "outputs": [
    {
     "name": "stdout",
     "output_type": "stream",
     "text": [
      "[\u001b[1;34mINFO\u001b[m] Scanning for projects...\n",
      "[\u001b[1;34mINFO\u001b[m] \n",
      "[\u001b[1;34mINFO\u001b[m] \u001b[1m-----------------------< \u001b[0;36mfr.univtln.bruno:MyApp\u001b[0;1m >-----------------------\u001b[m\n",
      "[\u001b[1;34mINFO\u001b[m] \u001b[1mBuilding MyApp 1.0-SNAPSHOT\u001b[m\n",
      "[\u001b[1;34mINFO\u001b[m] \u001b[1m--------------------------------[ jar ]---------------------------------\u001b[m\n",
      "[\u001b[1;34mINFO\u001b[m] \n",
      "[\u001b[1;34mINFO\u001b[m] \u001b[1m--- \u001b[0;32mmaven-resources-plugin:3.0.2:resources\u001b[m \u001b[1m(default-resources)\u001b[m @ \u001b[36mMyApp\u001b[0;1m ---\u001b[m\n",
      "[\u001b[1;34mINFO\u001b[m] Using 'UTF-8' encoding to copy filtered resources.\n",
      "[\u001b[1;34mINFO\u001b[m] skip non existing resourceDirectory /notebooks/Java 1 - Introduction/MyApp/src/main/resources\n",
      "[\u001b[1;34mINFO\u001b[m] \n",
      "[\u001b[1;34mINFO\u001b[m] \u001b[1m--- \u001b[0;32mmaven-compiler-plugin:3.8.0:compile\u001b[m \u001b[1m(default-compile)\u001b[m @ \u001b[36mMyApp\u001b[0;1m ---\u001b[m\n",
      "[\u001b[1;34mINFO\u001b[m] Nothing to compile - all classes are up to date\n",
      "[\u001b[1;34mINFO\u001b[m] \n",
      "[\u001b[1;34mINFO\u001b[m] \u001b[1m--- \u001b[0;32mmaven-resources-plugin:3.0.2:testResources\u001b[m \u001b[1m(default-testResources)\u001b[m @ \u001b[36mMyApp\u001b[0;1m ---\u001b[m\n",
      "[\u001b[1;34mINFO\u001b[m] Using 'UTF-8' encoding to copy filtered resources.\n",
      "[\u001b[1;34mINFO\u001b[m] skip non existing resourceDirectory /notebooks/Java 1 - Introduction/MyApp/src/test/resources\n",
      "[\u001b[1;34mINFO\u001b[m] \n",
      "[\u001b[1;34mINFO\u001b[m] \u001b[1m--- \u001b[0;32mmaven-compiler-plugin:3.8.0:testCompile\u001b[m \u001b[1m(default-testCompile)\u001b[m @ \u001b[36mMyApp\u001b[0;1m ---\u001b[m\n",
      "[\u001b[1;34mINFO\u001b[m] Changes detected - recompiling the module!\n",
      "[\u001b[1;34mINFO\u001b[m] Compiling 1 source file to /notebooks/Java 1 - Introduction/MyApp/target/test-classes\n",
      "[\u001b[1;34mINFO\u001b[m] \n",
      "[\u001b[1;34mINFO\u001b[m] \u001b[1m--- \u001b[0;32mmaven-surefire-plugin:2.22.1:test\u001b[m \u001b[1m(default-test)\u001b[m @ \u001b[36mMyApp\u001b[0;1m ---\u001b[m\n",
      "[\u001b[1;34mINFO\u001b[m] \n",
      "[\u001b[1;34mINFO\u001b[m] -------------------------------------------------------\n",
      "[\u001b[1;34mINFO\u001b[m]  T E S T S\n",
      "[\u001b[1;34mINFO\u001b[m] -------------------------------------------------------\n",
      "[\u001b[1;34mINFO\u001b[m] Running fr.univtln.bruno.\u001b[1mAppTest\u001b[m\n",
      "[\u001b[1;34mINFO\u001b[m] \u001b[1;32mTests run: \u001b[0;1;32m1\u001b[m, Failures: 0, Errors: 0, Skipped: 0, Time elapsed: 0.079 s - in fr.univtln.bruno.\u001b[1mAppTest\u001b[m\n",
      "[\u001b[1;34mINFO\u001b[m] \n",
      "[\u001b[1;34mINFO\u001b[m] Results:\n",
      "[\u001b[1;34mINFO\u001b[m] \n",
      "[\u001b[1;34mINFO\u001b[m] \u001b[1;32mTests run: 1, Failures: 0, Errors: 0, Skipped: 0\u001b[m\n",
      "[\u001b[1;34mINFO\u001b[m] \n",
      "[\u001b[1;34mINFO\u001b[m] \n",
      "[\u001b[1;34mINFO\u001b[m] \u001b[1m--- \u001b[0;32mmaven-jar-plugin:3.0.2:jar\u001b[m \u001b[1m(default-jar)\u001b[m @ \u001b[36mMyApp\u001b[0;1m ---\u001b[m\n",
      "[\u001b[1;34mINFO\u001b[m] Building jar: /notebooks/Java 1 - Introduction/MyApp/target/MyApp-1.0-SNAPSHOT.jar\n",
      "[\u001b[1;34mINFO\u001b[m] \u001b[1m------------------------------------------------------------------------\u001b[m\n",
      "[\u001b[1;34mINFO\u001b[m] \u001b[1;32mBUILD SUCCESS\u001b[m\n",
      "[\u001b[1;34mINFO\u001b[m] \u001b[1m------------------------------------------------------------------------\u001b[m\n",
      "[\u001b[1;34mINFO\u001b[m] Total time:  3.992 s\n",
      "[\u001b[1;34mINFO\u001b[m] Finished at: 2020-10-13T21:20:57Z\n",
      "[\u001b[1;34mINFO\u001b[m] \u001b[1m------------------------------------------------------------------------\u001b[m\n",
      "Hello World!\n"
     ]
    }
   ],
   "source": [
    "mvn package\n",
    "java -cp target/MyApp-1.0-SNAPSHOT.jar fr.univtln.bruno.App"
   ]
  },
  {
   "cell_type": "code",
   "execution_count": 5,
   "metadata": {},
   "outputs": [
    {
     "name": "stdout",
     "output_type": "stream",
     "text": [
      "[\u001b[1;34mINFO\u001b[m] Scanning for projects...\n",
      "[\u001b[1;34mINFO\u001b[m] \n",
      "[\u001b[1;34mINFO\u001b[m] \u001b[1m-----------------------< \u001b[0;36mfr.univtln.bruno:MyApp\u001b[0;1m >-----------------------\u001b[m\n",
      "[\u001b[1;34mINFO\u001b[m] \u001b[1mBuilding MyApp 1.0-SNAPSHOT\u001b[m\n",
      "[\u001b[1;34mINFO\u001b[m] \u001b[1m--------------------------------[ jar ]---------------------------------\u001b[m\n",
      "[\u001b[1;34mINFO\u001b[m] \n",
      "[\u001b[1;34mINFO\u001b[m] \u001b[1m--- \u001b[0;32mexec-maven-plugin:1.6.0:java\u001b[m \u001b[1m(default-cli)\u001b[m @ \u001b[36mMyApp\u001b[0;1m ---\u001b[m\n",
      "Hello World!\n",
      "[\u001b[1;34mINFO\u001b[m] \u001b[1m------------------------------------------------------------------------\u001b[m\n",
      "[\u001b[1;34mINFO\u001b[m] \u001b[1;32mBUILD SUCCESS\u001b[m\n",
      "[\u001b[1;34mINFO\u001b[m] \u001b[1m------------------------------------------------------------------------\u001b[m\n",
      "[\u001b[1;34mINFO\u001b[m] Total time:  1.219 s\n",
      "[\u001b[1;34mINFO\u001b[m] Finished at: 2020-10-13T21:21:00Z\n",
      "[\u001b[1;34mINFO\u001b[m] \u001b[1m------------------------------------------------------------------------\u001b[m\n"
     ]
    }
   ],
   "source": [
    "mvn exec:java  -Dexec.mainClass=\"fr.univtln.bruno.App\" "
   ]
  },
  {
   "cell_type": "code",
   "execution_count": 6,
   "metadata": {},
   "outputs": [
    {
     "name": "stdout",
     "output_type": "stream",
     "text": [
      "  minor version: 0                                                             \n",
      "  major version: 51\n"
     ]
    }
   ],
   "source": [
    "# Get bytecode version\n",
    "javap -v -c target/classes/fr/univtln/bruno/App.class | grep version"
   ]
  },
  {
   "cell_type": "code",
   "execution_count": 7,
   "metadata": {},
   "outputs": [
    {
     "name": "stdout",
     "output_type": "stream",
     "text": [
      "  minor version: 0                                                             \n",
      "  major version: 55\n"
     ]
    }
   ],
   "source": [
    "# Use a new pom.xml, package and check the bytecode version\n",
    "# upgrade bytecode version\n",
    "# build a executable jar with all dependencies\n",
    "\\cp '/notebooks/Java 1 - Introduction/sample-pom.xml' '/notebooks/Java 1 - Introduction/MyApp/pom.xml'\n",
    "mvn -ntp -q clean package\n",
    "javap -v -c target/classes/fr/univtln/bruno/App.class|grep version"
   ]
  },
  {
   "cell_type": "code",
   "execution_count": 8,
   "metadata": {},
   "outputs": [
    {
     "name": "stdout",
     "output_type": "stream",
     "text": [
      "Hello World!\n"
     ]
    }
   ],
   "source": [
    "java -jar target/MyApp-1.0-SNAPSHOT-jar-with-dependencies.jar"
   ]
  },
  {
   "cell_type": "code",
   "execution_count": null,
   "metadata": {},
   "outputs": [],
   "source": []
  },
  {
   "cell_type": "code",
   "execution_count": null,
   "metadata": {},
   "outputs": [],
   "source": []
  },
  {
   "cell_type": "code",
   "execution_count": null,
   "metadata": {},
   "outputs": [],
   "source": []
  }
 ],
 "metadata": {
  "kernelspec": {
   "display_name": "Z shell",
   "language": "zsh",
   "name": "zsh"
  },
  "language_info": {
   "codemirror_mode": "shell",
   "file_extension": ".zsh",
   "mimetype": "text/x-zsh",
   "name": "zsh",
   "pygments_lexer": "shell",
   "version": "5.7.1"
  }
 },
 "nbformat": 4,
 "nbformat_minor": 4
}
