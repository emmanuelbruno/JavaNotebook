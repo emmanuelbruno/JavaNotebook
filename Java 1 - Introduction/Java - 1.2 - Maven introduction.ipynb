{
 "cells": [
  {
   "cell_type": "markdown",
   "metadata": {},
   "source": [
    "# Introduction à Maven\n",
    "Maven est un outil de gestion de projet Java. Il permet de gérer la compilation, la documentation, les dépendances, les systèmes de gestion de version de code source, les release et la distributions.\n",
    "\n",
    "Les objets manipulés par maven (bibliothèques java,modèles de projets, plugin de maven, ...) sont appelés des artefacts. Ils sont indiqués par des coordonnées composées d'un groupId (qui regroupe fonctionnellement des artefacts), d'un artefactId et d'une version."
   ]
  },
  {
   "cell_type": "markdown",
   "metadata": {},
   "source": [
    "## Création d'un projet Maven\n",
    "Un projet maven peut être créé à partir d'un Archetype Maven.  Les options `archetypeGroupId`, `archetypeArtifactId` et `archetypeVersion` indiquent les coordonnées du modèle. Les options `groupId`, `artifactId` et `version` indique les coordonnées du projets qui va être créé.\n",
    "\n",
    "Dans l'exemple ci-dessous le modèle est un projet Java de base."
   ]
  },
  {
   "cell_type": "code",
   "execution_count": 13,
   "metadata": {},
   "outputs": [
    {
     "name": "stdout",
     "output_type": "stream",
     "text": [
      "[INFO] Scanning for projects...                                                \n",
      "[INFO] \n",
      "[INFO] ------------------< org.apache.maven:standalone-pom >-------------------\n",
      "[INFO] Building Maven Stub Project (No POM) 1\n",
      "[INFO] --------------------------------[ pom ]---------------------------------\n",
      "[INFO] \n",
      "[INFO] >>> maven-archetype-plugin:3.1.2:generate (default-cli) > generate-sources @ standalone-pom >>>\n",
      "[INFO] \n",
      "[INFO] <<< maven-archetype-plugin:3.1.2:generate (default-cli) < generate-sources @ standalone-pom <<<\n",
      "[INFO] \n",
      "[INFO] \n",
      "[INFO] --- maven-archetype-plugin:3.1.2:generate (default-cli) @ standalone-pom ---\n",
      "[INFO] Generating project in Batch mode\n",
      "[INFO] Archetype repository not defined. Using the one from [org.apache.maven.archetypes:maven-archetype-quickstart:1.4] found in catalog remote\n",
      "[INFO] ----------------------------------------------------------------------------\n",
      "[INFO] Using following parameters for creating project from Archetype: maven-archetype-quickstart:1.4\n",
      "[INFO] ----------------------------------------------------------------------------\n",
      "[INFO] Parameter: groupId, Value: fr.univtln.bruno\n",
      "[INFO] Parameter: artifactId, Value: MyApp\n",
      "[INFO] Parameter: version, Value: 1.0-SNAPSHOT\n",
      "[INFO] Parameter: package, Value: fr.univtln.bruno\n",
      "[INFO] Parameter: packageInPathFormat, Value: fr/univtln/bruno\n",
      "[INFO] Parameter: package, Value: fr.univtln.bruno\n",
      "[INFO] Parameter: groupId, Value: fr.univtln.bruno\n",
      "[INFO] Parameter: artifactId, Value: MyApp\n",
      "[INFO] Parameter: version, Value: 1.0-SNAPSHOT\n",
      "[INFO] Project created from Archetype in dir: /notebooks/Java 1 - Introduction/MyApp\n",
      "[INFO] ------------------------------------------------------------------------\n",
      "[INFO] BUILD SUCCESS\n",
      "[INFO] ------------------------------------------------------------------------\n",
      "[INFO] Total time:  12.178 s\n",
      "[INFO] Finished at: 2020-10-14T15:49:18Z\n",
      "[INFO] ------------------------------------------------------------------------\n"
     ]
    }
   ],
   "source": [
    "cd '/notebooks/Java 1 - Introduction'\n",
    "# Removes the project if necessary\n",
    "rm -rf MyApp || true\n",
    "\n",
    "# Create a new project from a Maven Archetype\n",
    "mvn archetype:generate -B \\\n",
    " -DarchetypeGroupId=org.apache.maven.archetypes \\\n",
    " -DarchetypeArtifactId=maven-archetype-quickstart \\\n",
    " -DarchetypeVersion=1.4 \\\n",
    " -DgroupId=fr.univtln.bruno \\\n",
    " -DartifactId=MyApp \\\n",
    " -Dversion=1.0-SNAPSHOT"
   ]
  },
  {
   "cell_type": "code",
   "execution_count": 14,
   "metadata": {},
   "outputs": [
    {
     "name": "stdout",
     "output_type": "stream",
     "text": [
      "/notebooks/Java 1 - Introduction/MyApp\n",
      "├── pom.xml\n",
      "└── src\n",
      "    ├── main\n",
      "    │   └── java\n",
      "    │       └── fr\n",
      "    │           └── univtln\n",
      "    │               └── bruno\n",
      "    │                   └── App.java\n",
      "    └── test\n",
      "        └── java\n",
      "            └── fr\n",
      "                └── univtln\n",
      "                    └── bruno\n",
      "                        └── AppTest.java\n",
      "\n",
      "11 directories, 3 files\n"
     ]
    }
   ],
   "source": [
    "tree '/notebooks/Java 1 - Introduction/MyApp'"
   ]
  },
  {
   "cell_type": "markdown",
   "metadata": {},
   "source": [
    " On peut ensuite compiler le projet depuis l'intérieur du projet (le dossier contenant le fichier `pom.xml`). Les classes sont produites dans le sous-répertoire `target/classes`. Le programme peut être exécuté avec la commande `java` en ajoutant ce répertoire au classpath si aucun dépendance externe n'est nécessaire."
   ]
  },
  {
   "cell_type": "code",
   "execution_count": 15,
   "metadata": {},
   "outputs": [
    {
     "name": "stdout",
     "output_type": "stream",
     "text": [
      "[\u001b[1;34mINFO\u001b[m] Scanning for projects...                                      \n",
      "[\u001b[1;34mINFO\u001b[m] \n",
      "[\u001b[1;34mINFO\u001b[m] \u001b[1m-----------------------< \u001b[0;36mfr.univtln.bruno:MyApp\u001b[0;1m >-----------------------\u001b[m\n",
      "[\u001b[1;34mINFO\u001b[m] \u001b[1mBuilding MyApp 1.0-SNAPSHOT\u001b[m\n",
      "[\u001b[1;34mINFO\u001b[m] \u001b[1m--------------------------------[ jar ]---------------------------------\u001b[m\n",
      "[\u001b[1;34mINFO\u001b[m] \n",
      "[\u001b[1;34mINFO\u001b[m] \u001b[1m--- \u001b[0;32mmaven-resources-plugin:3.0.2:resources\u001b[m \u001b[1m(default-resources)\u001b[m @ \u001b[36mMyApp\u001b[0;1m ---\u001b[m\n",
      "[\u001b[1;34mINFO\u001b[m] Using 'UTF-8' encoding to copy filtered resources.\n",
      "[\u001b[1;34mINFO\u001b[m] skip non existing resourceDirectory /notebooks/Java 1 - Introduction/MyApp/src/main/resources\n",
      "[\u001b[1;34mINFO\u001b[m] \n",
      "[\u001b[1;34mINFO\u001b[m] \u001b[1m--- \u001b[0;32mmaven-compiler-plugin:3.8.0:compile\u001b[m \u001b[1m(default-compile)\u001b[m @ \u001b[36mMyApp\u001b[0;1m ---\u001b[m\n",
      "[\u001b[1;34mINFO\u001b[m] Changes detected - recompiling the module!\n",
      "[\u001b[1;34mINFO\u001b[m] Compiling 1 source file to /notebooks/Java 1 - Introduction/MyApp/target/classes\n",
      "[\u001b[1;34mINFO\u001b[m] \u001b[1m------------------------------------------------------------------------\u001b[m\n",
      "[\u001b[1;34mINFO\u001b[m] \u001b[1;32mBUILD SUCCESS\u001b[m\n",
      "[\u001b[1;34mINFO\u001b[m] \u001b[1m------------------------------------------------------------------------\u001b[m\n",
      "[\u001b[1;34mINFO\u001b[m] Total time:  1.442 s\n",
      "[\u001b[1;34mINFO\u001b[m] Finished at: 2020-10-14T15:49:20Z\n",
      "[\u001b[1;34mINFO\u001b[m] \u001b[1m------------------------------------------------------------------------\u001b[m\n",
      "Hello World!\n"
     ]
    }
   ],
   "source": [
    "cd MyApp\n",
    "mvn compile\n",
    "java -cp target/classes fr.univtln.bruno.App"
   ]
  },
  {
   "cell_type": "markdown",
   "metadata": {},
   "source": [
    "Il est aussi possible d'en faire une archive java (fichier .jar) dans le sous-répertoire `target`."
   ]
  },
  {
   "cell_type": "code",
   "execution_count": 6,
   "metadata": {},
   "outputs": [
    {
     "name": "stdout",
     "output_type": "stream",
     "text": [
      "[\u001b[1;34mINFO\u001b[m] Scanning for projects...\n",
      "[\u001b[1;34mINFO\u001b[m] \n",
      "[\u001b[1;34mINFO\u001b[m] \u001b[1m-----------------------< \u001b[0;36mfr.univtln.bruno:MyApp\u001b[0;1m >-----------------------\u001b[m\n",
      "[\u001b[1;34mINFO\u001b[m] \u001b[1mBuilding MyApp 1.0-SNAPSHOT\u001b[m\n",
      "[\u001b[1;34mINFO\u001b[m] \u001b[1m--------------------------------[ jar ]---------------------------------\u001b[m\n",
      "[\u001b[1;34mINFO\u001b[m] \n",
      "[\u001b[1;34mINFO\u001b[m] \u001b[1m--- \u001b[0;32mmaven-resources-plugin:3.0.2:resources\u001b[m \u001b[1m(default-resources)\u001b[m @ \u001b[36mMyApp\u001b[0;1m ---\u001b[m\n",
      "[\u001b[1;34mINFO\u001b[m] Using 'UTF-8' encoding to copy filtered resources.\n",
      "[\u001b[1;34mINFO\u001b[m] skip non existing resourceDirectory /notebooks/Java 1 - Introduction/MyApp/src/main/resources\n",
      "[\u001b[1;34mINFO\u001b[m] \n",
      "[\u001b[1;34mINFO\u001b[m] \u001b[1m--- \u001b[0;32mmaven-compiler-plugin:3.8.0:compile\u001b[m \u001b[1m(default-compile)\u001b[m @ \u001b[36mMyApp\u001b[0;1m ---\u001b[m\n",
      "[\u001b[1;34mINFO\u001b[m] Nothing to compile - all classes are up to date\n",
      "[\u001b[1;34mINFO\u001b[m] \n",
      "[\u001b[1;34mINFO\u001b[m] \u001b[1m--- \u001b[0;32mmaven-resources-plugin:3.0.2:testResources\u001b[m \u001b[1m(default-testResources)\u001b[m @ \u001b[36mMyApp\u001b[0;1m ---\u001b[m\n",
      "[\u001b[1;34mINFO\u001b[m] Using 'UTF-8' encoding to copy filtered resources.\n",
      "[\u001b[1;34mINFO\u001b[m] skip non existing resourceDirectory /notebooks/Java 1 - Introduction/MyApp/src/test/resources\n",
      "[\u001b[1;34mINFO\u001b[m] \n",
      "[\u001b[1;34mINFO\u001b[m] \u001b[1m--- \u001b[0;32mmaven-compiler-plugin:3.8.0:testCompile\u001b[m \u001b[1m(default-testCompile)\u001b[m @ \u001b[36mMyApp\u001b[0;1m ---\u001b[m\n",
      "[\u001b[1;34mINFO\u001b[m] Nothing to compile - all classes are up to date\n",
      "[\u001b[1;34mINFO\u001b[m] \n",
      "[\u001b[1;34mINFO\u001b[m] \u001b[1m--- \u001b[0;32mmaven-surefire-plugin:2.22.1:test\u001b[m \u001b[1m(default-test)\u001b[m @ \u001b[36mMyApp\u001b[0;1m ---\u001b[m\n",
      "[\u001b[1;34mINFO\u001b[m] \n",
      "[\u001b[1;34mINFO\u001b[m] -------------------------------------------------------\n",
      "[\u001b[1;34mINFO\u001b[m]  T E S T S\n",
      "[\u001b[1;34mINFO\u001b[m] -------------------------------------------------------\n",
      "[\u001b[1;34mINFO\u001b[m] Running fr.univtln.bruno.\u001b[1mAppTest\u001b[m\n",
      "[\u001b[1;34mINFO\u001b[m] \u001b[1;32mTests run: \u001b[0;1;32m1\u001b[m, Failures: 0, Errors: 0, Skipped: 0, Time elapsed: 0.038 s - in fr.univtln.bruno.\u001b[1mAppTest\u001b[m\n",
      "[\u001b[1;34mINFO\u001b[m] \n",
      "[\u001b[1;34mINFO\u001b[m] Results:\n",
      "[\u001b[1;34mINFO\u001b[m] \n",
      "[\u001b[1;34mINFO\u001b[m] \u001b[1;32mTests run: 1, Failures: 0, Errors: 0, Skipped: 0\u001b[m\n",
      "[\u001b[1;34mINFO\u001b[m] \n",
      "[\u001b[1;34mINFO\u001b[m] \n",
      "[\u001b[1;34mINFO\u001b[m] \u001b[1m--- \u001b[0;32mmaven-jar-plugin:3.0.2:jar\u001b[m \u001b[1m(default-jar)\u001b[m @ \u001b[36mMyApp\u001b[0;1m ---\u001b[m\n",
      "[\u001b[1;34mINFO\u001b[m] \u001b[1m------------------------------------------------------------------------\u001b[m\n",
      "[\u001b[1;34mINFO\u001b[m] \u001b[1;32mBUILD SUCCESS\u001b[m\n",
      "[\u001b[1;34mINFO\u001b[m] \u001b[1m------------------------------------------------------------------------\u001b[m\n",
      "[\u001b[1;34mINFO\u001b[m] Total time:  1.929 s\n",
      "[\u001b[1;34mINFO\u001b[m] Finished at: 2020-10-14T15:21:34Z\n",
      "[\u001b[1;34mINFO\u001b[m] \u001b[1m------------------------------------------------------------------------\u001b[m\n",
      "Hello World!\n"
     ]
    }
   ],
   "source": [
    "mvn package\n",
    "java -cp target/MyApp-1.0-SNAPSHOT.jar fr.univtln.bruno.App"
   ]
  },
  {
   "cell_type": "markdown",
   "metadata": {},
   "source": [
    "Maven permet aussi d'exécuter une classe Java en prenant en charge automatiquement le classpath y compris les dépendances."
   ]
  },
  {
   "cell_type": "code",
   "execution_count": 5,
   "metadata": {},
   "outputs": [
    {
     "name": "stdout",
     "output_type": "stream",
     "text": [
      "[\u001b[1;34mINFO\u001b[m] Scanning for projects...\n",
      "[\u001b[1;34mINFO\u001b[m] \n",
      "[\u001b[1;34mINFO\u001b[m] \u001b[1m-----------------------< \u001b[0;36mfr.univtln.bruno:MyApp\u001b[0;1m >-----------------------\u001b[m\n",
      "[\u001b[1;34mINFO\u001b[m] \u001b[1mBuilding MyApp 1.0-SNAPSHOT\u001b[m\n",
      "[\u001b[1;34mINFO\u001b[m] \u001b[1m--------------------------------[ jar ]---------------------------------\u001b[m\n",
      "[\u001b[1;34mINFO\u001b[m] \n",
      "[\u001b[1;34mINFO\u001b[m] \u001b[1m--- \u001b[0;32mexec-maven-plugin:1.6.0:java\u001b[m \u001b[1m(default-cli)\u001b[m @ \u001b[36mMyApp\u001b[0;1m ---\u001b[m\n",
      "Hello World!\n",
      "[\u001b[1;34mINFO\u001b[m] \u001b[1m------------------------------------------------------------------------\u001b[m\n",
      "[\u001b[1;34mINFO\u001b[m] \u001b[1;32mBUILD SUCCESS\u001b[m\n",
      "[\u001b[1;34mINFO\u001b[m] \u001b[1m------------------------------------------------------------------------\u001b[m\n",
      "[\u001b[1;34mINFO\u001b[m] Total time:  1.219 s\n",
      "[\u001b[1;34mINFO\u001b[m] Finished at: 2020-10-13T21:21:00Z\n",
      "[\u001b[1;34mINFO\u001b[m] \u001b[1m------------------------------------------------------------------------\u001b[m\n"
     ]
    }
   ],
   "source": [
    "mvn exec:java  -Dexec.mainClass=\"fr.univtln.bruno.App\" "
   ]
  },
  {
   "cell_type": "markdown",
   "metadata": {},
   "source": [
    "Le projet peut être paramétrer en modifiant le fichier `pom.xml`.\n",
    "Il est possible de modifier le nom du projet, son URL et d'ajouter des métadonnées.\n",
    "\n",
    "La construction du projet est contrôle par des plugins paramétrés dans la section `build/plugins`.\n",
    "\n",
    "Par exemple, il est possible de changer la version du code source acceptée pour ce projet et celle du bytecode java produit. \n",
    "```xml\n",
    "<plugins>\n",
    "    <plugin>    \n",
    "        <artifactId>maven-compiler-plugin</artifactId>\n",
    "        <configuration>\n",
    "            <source>1.8</source>\n",
    "            <target>1.8</target>\n",
    "        </configuration>\n",
    "    </plugin>\n",
    "</plugins>\n",
    "```\n",
    "\n",
    "à partir de java 9 la syntaxe suivante est possible \n",
    "```xml\n",
    "<plugin>\n",
    "    <groupId>org.apache.maven.plugins</groupId>\n",
    "    <artifactId>maven-compiler-plugin</artifactId>\n",
    "    <version>3.8.0</version>\n",
    "    <configuration>\n",
    "        <release>7</release>\n",
    "    </configuration>\n",
    "</plugin>\n",
    "```\n",
    "\n",
    "La commande `javap` affiche la version du bytecode.\n",
    "D'après https://en.wikipedia.org/wiki/Java_class_file les version majeure sont :\n",
    "```\n",
    "Java SE 15 = 59 (0x3B hex)\n",
    "Java SE 14 = 58 (0x3A hex)\n",
    "Java SE 13 = 57 (0x39 hex)\n",
    "Java SE 12 = 56 (0x38 hex)\n",
    "Java SE 11 = 55 (0x37 hex)\n",
    "Java SE 10 = 54 (0x36 hex)\n",
    "Java SE 9 = 53 (0x35 hex)\n",
    "Java SE 8 = 52 (0x34 hex)\n",
    "Java SE 7 = 51 (0x33 hex)\n",
    "Java SE 6.0 = 50 (0x32 hex)\n",
    "Java SE 5.0 = 49 (0x31 hex)\n",
    "JDK 1.4 = 48 (0x30 hex)\n",
    "JDK 1.3 = 47 (0x2F hex)\n",
    "JDK 1.2 = 46 (0x2E hex)\n",
    "JDK 1.1 = 45 (0x2D hex)\n",
    "```\n",
    "\n",
    "Le modèle de projet utilisé fixe la version de Java à 7 (même si le compilateur est d'une version supérieur)."
   ]
  },
  {
   "cell_type": "code",
   "execution_count": 10,
   "metadata": {},
   "outputs": [
    {
     "name": "stdout",
     "output_type": "stream",
     "text": [
      "javac 14.0.2                                                                   \n",
      "Bytecode version :\n",
      "  minor version: 0                                                             \n",
      "  major version: 51\n"
     ]
    }
   ],
   "source": [
    "# Get the install jdk version\n",
    "javac --version\n",
    "echo \"Bytecode version :\"\n",
    "# Get bytecode version\n",
    "javap -v -c target/classes/fr/univtln/bruno/App.class | grep version"
   ]
  },
  {
   "cell_type": "markdown",
   "metadata": {},
   "source": [
    "En modifiant le `pom.xml` en utilisant [sample-pom.xml](sample-pom.xml) on passe la version à 14 de java et donc celle du bytecode augmente."
   ]
  },
  {
   "cell_type": "code",
   "execution_count": 17,
   "metadata": {},
   "outputs": [
    {
     "name": "stdout",
     "output_type": "stream",
     "text": [
      "  minor version: 0                                                             \n",
      "  major version: 58\n"
     ]
    }
   ],
   "source": [
    "# Use a new pom.xml, package and check the bytecode version\n",
    "# the pom sets java version to 14.\n",
    "# upgrade bytecode version\n",
    "# build a executable jar with all dependencies\n",
    "\\cp '/notebooks/Java 1 - Introduction/sample-pom.xml' '/notebooks/Java 1 - Introduction/MyApp/pom.xml'\n",
    "mvn -ntp -q clean package\n",
    "javap -v -c target/classes/fr/univtln/bruno/App.class|grep version"
   ]
  },
  {
   "cell_type": "markdown",
   "metadata": {},
   "source": [
    "Il est aussi possible de produire des fichiers .jar qui incluent toutes les dépendances (cf. assembly-plugin dans [sample-pom.xml](sample-pom.xml))."
   ]
  },
  {
   "cell_type": "code",
   "execution_count": 18,
   "metadata": {},
   "outputs": [
    {
     "name": "stdout",
     "output_type": "stream",
     "text": [
      "Hello World!\n"
     ]
    }
   ],
   "source": [
    "java -jar target/MyApp-1.0-SNAPSHOT-jar-with-dependencies.jar"
   ]
  },
  {
   "cell_type": "markdown",
   "metadata": {},
   "source": [
    "Avec Maven, un fichier pom peut rapidement devenir volumineux. De plus, une base commune doit souvent être partagée entre plusieurs projets et/ou plusieurs membres d’une équipe. Comme il s’agit d’une modèle orienté objet, il est possible (et fortement conseillé) de factoriser les paramétrages commun dans un ou plusieurs pom parent. Par exemple, chaque pom d’un projet hérite de celui d’une équipe qui hérite de celui de l’entreprise.\n",
    "\n",
    "Pour créer un pom parent, il suffit de créer un projet contenant un fichier pom.xml dont le packaging est pom puis de le déposer dans un repository commun (mvn install sur chaque ou de façon plus réaliste utilisation d’un entrepôt maven).\n",
    "\n",
    "```xml\n",
    "<parent>\n",
    " <groupId>...</groupId>\n",
    " <artifactId>...</artifactId>\n",
    " <version>...</version>\n",
    "</parent>\n",
    "```\n",
    "\n",
    "La commande `mvn help:effective-pom` permet de visualiser le pom après intégration des ancêtres (dont celui par défaut)."
   ]
  },
  {
   "cell_type": "markdown",
   "metadata": {},
   "source": [
    "Un pom parent est proposé ici https://github.com/emmanuelbruno/commonpom et l’artefact est disponible ici https://bintray.com/dptinfoutln/public/commonpom.\n",
    "\n",
    "Un archetype plus complet utilisant le pom parent précédent est proposé ici https://github.com/emmanuelbruno/javasimplearchetype pour l’utiliser :\n",
    "\n",
    " - ajouter l’entrepôt maven bintray à votre fichier `~/.m2/settings.xml` comme cela est indiqué dans le fichier [settings.xml](settings.xml)\n",
    " - puis lancer la création à partir de l'archetype :   "
   ]
  },
  {
   "cell_type": "code",
   "execution_count": 46,
   "metadata": {},
   "outputs": [
    {
     "name": "stdout",
     "output_type": "stream",
     "text": [
      "[INFO] Scanning for projects...                                                \n",
      "[INFO] \n",
      "[INFO] ------------------< org.apache.maven:standalone-pom >-------------------\n",
      "[INFO] Building Maven Stub Project (No POM) 1\n",
      "[INFO] --------------------------------[ pom ]---------------------------------\n",
      "[INFO] \n",
      "[INFO] >>> maven-archetype-plugin:3.1.2:generate (default-cli) > generate-sources @ standalone-pom >>>\n",
      "[INFO] \n",
      "[INFO] <<< maven-archetype-plugin:3.1.2:generate (default-cli) < generate-sources @ standalone-pom <<<\n",
      "[INFO] \n",
      "[INFO] \n",
      "[INFO] --- maven-archetype-plugin:3.1.2:generate (default-cli) @ standalone-pom ---\n",
      "[INFO] Generating project in Batch mode\n",
      "[WARNING] Archetype not found in any catalog. Falling back to central repository.\n",
      "[WARNING] Add a repository with id 'archetype' in your settings.xml if archetype's repository is elsewhere.\n",
      "[INFO] ----------------------------------------------------------------------------\n",
      "[INFO] Using following parameters for creating project from Archetype: javaSimpleArchetype:0.1.0-develop-6\n",
      "[INFO] ----------------------------------------------------------------------------\n",
      "[INFO] Parameter: groupId, Value: fr.univtln.bruno.test\n",
      "[INFO] Parameter: artifactId, Value: MyPowerApp\n",
      "[INFO] Parameter: version, Value: 1.0-SNAPSHOT\n",
      "[INFO] Parameter: package, Value: fr.univtln.bruno.test\n",
      "[INFO] Parameter: packageInPathFormat, Value: fr/univtln/bruno/test\n",
      "[INFO] Parameter: projectShortName, Value: helloworld\n",
      "[INFO] Parameter: package, Value: fr.univtln.bruno.test\n",
      "[INFO] Parameter: groupId, Value: fr.univtln.bruno.test\n",
      "[INFO] Parameter: artifactId, Value: MyPowerApp\n",
      "[INFO] Parameter: githubAccount, Value: emmanuelbruno\n",
      "[INFO] Parameter: UtlnEmail, Value: emmanuel.bruno@univ-tln.fr\n",
      "[INFO] Parameter: version, Value: 1.0-SNAPSHOT\n",
      "[INFO] Project created from Archetype in dir: /notebooks/Java 1 - Introduction/MyPowerApp\n",
      "[INFO] ------------------------------------------------------------------------\n",
      "[INFO] BUILD SUCCESS\n",
      "[INFO] ------------------------------------------------------------------------\n",
      "[INFO] Total time:  2.982 s\n",
      "[INFO] Finished at: 2020-10-14T16:34:34Z\n",
      "[INFO] ------------------------------------------------------------------------\n"
     ]
    }
   ],
   "source": [
    "# We create the settings.xml \n",
    "mkdir ~/.m2\n",
    "\\cp '/notebooks/Java 1 - Introduction/settings.xml' ~/.m2/\n",
    "cd '/notebooks/Java 1 - Introduction/'\n",
    "\n",
    "# We remove the projet if it already exist.\n",
    "rm -rf '/notebooks/Java 1 - Introduction/MyPowerApp'\n",
    "\n",
    "mvn -ntp archetype:generate -B \\\n",
    "   -DarchetypeGroupId=fr.univtln.bruno.archetype \\\n",
    "   -DarchetypeArtifactId=javaSimpleArchetype \\\n",
    "   -DarchetypeVersion=0.1.0-develop-6 \\\n",
    "   -DgroupId=fr.univtln.bruno.test \\\n",
    "   -DartifactId=MyPowerApp \\\n",
    "   -Dversion=1.0-SNAPSHOT \\\n",
    "   -DprojectShortName=helloworld \\\n",
    "   -DgithubAccount=emmanuelbruno \\\n",
    "   -DUtlnEmail=emmanuel.bruno@univ-tln.fr"
   ]
  },
  {
   "cell_type": "code",
   "execution_count": 47,
   "metadata": {},
   "outputs": [
    {
     "name": "stdout",
     "output_type": "stream",
     "text": [
      "                                                                               \n",
      "-------------------------------------------------------\n",
      " T E S T S\n",
      "-------------------------------------------------------\n",
      "Running fr.univtln.bruno.test.AppTest\n",
      "Tests run: 2, Failures: 0, Errors: 0, Skipped: 1, Time elapsed: 0.058 sec - in fr.univtln.bruno.test.AppTest\n",
      "\n",
      "Results :\n",
      "\n",
      "Tests run: 2, Failures: 0, Errors: 0, Skipped: 1\n",
      "\n",
      "log4j:WARN No appenders could be found for logger (fr.univtln.bruno.test.App).\n",
      "log4j:WARN Please initialize the log4j system properly.\n",
      "log4j:WARN See http://logging.apache.org/log4j/1.2/faq.html#noconfig for more info.\n",
      "Hello world !\n"
     ]
    }
   ],
   "source": [
    "cd '/notebooks/Java 1 - Introduction/MyPowerApp'\n",
    "mvn -ntp -q package \n",
    "java -jar target/MyPowerApp-1.0-SNAPSHOT-withdependencies.jar"
   ]
  },
  {
   "cell_type": "code",
   "execution_count": null,
   "metadata": {},
   "outputs": [],
   "source": []
  },
  {
   "cell_type": "code",
   "execution_count": null,
   "metadata": {},
   "outputs": [],
   "source": []
  }
 ],
 "metadata": {
  "kernelspec": {
   "display_name": "Z shell",
   "language": "zsh",
   "name": "zsh"
  },
  "language_info": {
   "codemirror_mode": "shell",
   "file_extension": ".zsh",
   "mimetype": "text/x-zsh",
   "name": "zsh",
   "pygments_lexer": "shell",
   "version": "5.7.1"
  }
 },
 "nbformat": 4,
 "nbformat_minor": 4
}
