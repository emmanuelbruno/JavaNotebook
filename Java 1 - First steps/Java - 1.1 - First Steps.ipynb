{
 "cells": [
  {
   "cell_type": "code",
   "execution_count": 26,
   "metadata": {},
   "outputs": [
    {
     "name": "stdout",
     "output_type": "stream",
     "text": [
      "JAVA_HOME /opt/java/openjdk\n",
      "PATH /usr/local/bin:/usr/local/sbin:/opt/java/openjdk/bin:/usr/sbin:/usr/bin:/sbin:/bin\n"
     ]
    }
   ],
   "source": [
    "echo \"JAVA_HOME \"$JAVA_HOME\n",
    "echo \"PATH\" $PATH"
   ]
  },
  {
   "cell_type": "code",
   "execution_count": 27,
   "metadata": {},
   "outputs": [
    {
     "name": "stdout",
     "output_type": "stream",
     "text": [
      "openjdk 14.0.1 2020-04-14\n",
      "OpenJDK Runtime Environment AdoptOpenJDK (build 14.0.1+7)\n",
      "OpenJDK 64-Bit Server VM AdoptOpenJDK (build 14.0.1+7, mixed mode, sharing)\n"
     ]
    }
   ],
   "source": [
    "java --version"
   ]
  },
  {
   "cell_type": "code",
   "execution_count": 28,
   "metadata": {},
   "outputs": [
    {
     "name": "stdout",
     "output_type": "stream",
     "text": [
      "                                                                               \r"
     ]
    }
   ],
   "source": [
    "cd '/notebooks/Java 1 - First steps'/helloworld"
   ]
  },
  {
   "cell_type": "code",
   "execution_count": 29,
   "metadata": {},
   "outputs": [
    {
     "name": "stdout",
     "output_type": "stream",
     "text": [
      "                                                                               \r"
     ]
    }
   ],
   "source": [
    "javac -sourcepath src -d build src/fr/univtln/bruno/tp/tp1/HelloWorld.java"
   ]
  },
  {
   "cell_type": "code",
   "execution_count": 30,
   "metadata": {},
   "outputs": [
    {
     "name": "stdout",
     "output_type": "stream",
     "text": [
      "build:\n",
      "total 4\n",
      "drwxr-xr-x. 3 root root 4096 Mar 24 15:11 fr\n",
      "\n",
      "build/fr:\n",
      "total 4\n",
      "drwxr-xr-x. 3 root root 4096 Mar 24 15:11 univtln\n",
      "\n",
      "build/fr/univtln:\n",
      "total 4\n",
      "drwxr-xr-x. 3 root root 4096 Mar 24 15:11 bruno\n",
      "\n",
      "build/fr/univtln/bruno:\n",
      "total 4\n",
      "drwxr-xr-x. 3 root root 4096 Mar 24 15:11 tp\n",
      "\n",
      "build/fr/univtln/bruno/tp:\n",
      "total 4\n",
      "drwxr-xr-x. 2 root root 4096 Mar 24 15:11 tp1\n",
      "\n",
      "build/fr/univtln/bruno/tp/tp1:\n",
      "total 4\n",
      "-rw-r--r--. 1 root root 979 May 11 14:29 HelloWorld.class\n"
     ]
    }
   ],
   "source": [
    "ls -lR build"
   ]
  },
  {
   "cell_type": "code",
   "execution_count": 31,
   "metadata": {},
   "outputs": [
    {
     "name": "stdout",
     "output_type": "stream",
     "text": [
      "Bonjour Pierre\n"
     ]
    }
   ],
   "source": [
    "java -classpath build fr.univtln.bruno.tp.tp1.HelloWorld Pierre"
   ]
  },
  {
   "cell_type": "code",
   "execution_count": 32,
   "metadata": {},
   "outputs": [
    {
     "name": "stdout",
     "output_type": "stream",
     "text": [
      "Loading source files for package fr.univtln.bruno.tp.tp1...\n",
      "Constructing Javadoc information...\n",
      "Standard Doclet version 14.0.1\n",
      "Building tree for all the packages and classes...\n",
      "Generating doc/fr/univtln/bruno/tp/tp1/HelloWorld.html...\n",
      "Generating doc/fr/univtln/bruno/tp/tp1/package-summary.html...\n",
      "Generating doc/fr/univtln/bruno/tp/tp1/package-tree.html...\n",
      "Generating doc/constant-values.html...\n",
      "Building index for all the packages and classes...\n",
      "Generating doc/overview-tree.html...\n",
      "Generating doc/deprecated-list.html...\n",
      "Generating doc/index-all.html...\n",
      "Building index for all classes...\n",
      "Generating doc/allclasses-index.html...\n",
      "Generating doc/allpackages-index.html...\n",
      "Generating doc/system-properties.html...\n",
      "Generating doc/index.html...\n",
      "Generating doc/help-doc.html...\n"
     ]
    }
   ],
   "source": [
    "javadoc -d doc -sourcepath src -subpackages fr.univtln.bruno.tp.tp1"
   ]
  },
  {
   "cell_type": "code",
   "execution_count": 33,
   "metadata": {},
   "outputs": [
    {
     "name": "stdout",
     "output_type": "stream",
     "text": [
      "added manifest                                                                 \n",
      "adding: fr/(in = 0) (out= 0)(stored 0%)\n",
      "adding: fr/univtln/(in = 0) (out= 0)(stored 0%)\n",
      "adding: fr/univtln/bruno/(in = 0) (out= 0)(stored 0%)\n",
      "adding: fr/univtln/bruno/tp/(in = 0) (out= 0)(stored 0%)\n",
      "adding: fr/univtln/bruno/tp/tp1/(in = 0) (out= 0)(stored 0%)\n",
      "adding: fr/univtln/bruno/tp/tp1/HelloWorld.class(in = 979) (out= 563)(deflated 42%)\n",
      "                                                                               \r"
     ]
    }
   ],
   "source": [
    "mkdir dist\n",
    "cd build\n",
    "jar cvf ../dist/tp.jar fr\n",
    "cd .."
   ]
  },
  {
   "cell_type": "code",
   "execution_count": 34,
   "metadata": {},
   "outputs": [
    {
     "name": "stdout",
     "output_type": "stream",
     "text": [
      "Bonjour Max\n"
     ]
    }
   ],
   "source": [
    "java -cp dist/tp.jar fr.univtln.bruno.tp.tp1.HelloWorld Max"
   ]
  },
  {
   "cell_type": "code",
   "execution_count": 35,
   "metadata": {},
   "outputs": [
    {
     "name": "stdout",
     "output_type": "stream",
     "text": [
      "added manifest                                                                 \n",
      "adding: fr/(in = 0) (out= 0)(stored 0%)\n",
      "adding: fr/univtln/(in = 0) (out= 0)(stored 0%)\n",
      "adding: fr/univtln/bruno/(in = 0) (out= 0)(stored 0%)\n",
      "adding: fr/univtln/bruno/tp/(in = 0) (out= 0)(stored 0%)\n",
      "adding: fr/univtln/bruno/tp/tp1/(in = 0) (out= 0)(stored 0%)\n",
      "adding: fr/univtln/bruno/tp/tp1/HelloWorld.class(in = 979) (out= 563)(deflated 42%)\n",
      "                                                                               \r"
     ]
    }
   ],
   "source": [
    "cd build\n",
    "jar cvfm ../dist/tp.jar ../monManifest fr\n",
    "cd .."
   ]
  },
  {
   "cell_type": "code",
   "execution_count": 36,
   "metadata": {},
   "outputs": [
    {
     "name": "stdout",
     "output_type": "stream",
     "text": [
      "Bonjour Pierre\n"
     ]
    }
   ],
   "source": [
    "java -jar dist/tp.jar Pierre"
   ]
  },
  {
   "cell_type": "code",
   "execution_count": null,
   "metadata": {},
   "outputs": [],
   "source": [
    "ls"
   ]
  },
  {
   "cell_type": "code",
   "execution_count": null,
   "metadata": {},
   "outputs": [],
   "source": []
  }
 ],
 "metadata": {
  "kernelspec": {
   "display_name": "Z shell",
   "language": "zsh",
   "name": "zsh"
  },
  "language_info": {
   "codemirror_mode": "shell",
   "file_extension": ".zsh",
   "mimetype": "text/x-zsh",
   "name": "zsh",
   "pygments_lexer": "shell",
   "version": "5.7.1"
  }
 },
 "nbformat": 4,
 "nbformat_minor": 4
}
