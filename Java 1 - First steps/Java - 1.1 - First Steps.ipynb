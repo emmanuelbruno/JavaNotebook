{
 "cells": [
  {
   "cell_type": "code",
   "execution_count": 1,
   "metadata": {},
   "outputs": [
    {
     "name": "stdout",
     "output_type": "stream",
     "text": [
      "JAVA_HOME /opt/java/openjdk\n",
      "PATH /opt/java/openjdk/bin:/usr/local/sbin:/usr/local/bin:/usr/sbin:/usr/bin:/sbin:/bin\n"
     ]
    }
   ],
   "source": [
    "echo \"JAVA_HOME \"$JAVA_HOME\n",
    "echo \"PATH\" $PATH"
   ]
  },
  {
   "cell_type": "code",
   "execution_count": 2,
   "metadata": {},
   "outputs": [
    {
     "name": "stdout",
     "output_type": "stream",
     "text": [
      "openjdk 11.0.6 2020-01-14\n",
      "OpenJDK Runtime Environment AdoptOpenJDK (build 11.0.6+10)\n",
      "Eclipse OpenJ9 VM AdoptOpenJDK (build openj9-0.18.1, JRE 11 Linux amd64-64-Bit Compressed References 20200122_441 (JIT enabled, AOT enabled)\n",
      "OpenJ9   - 51a5857d2\n",
      "OMR      - 7a1b0239a\n",
      "JCL      - da35e0c380 based on jdk-11.0.6+10)\n"
     ]
    }
   ],
   "source": [
    "java --version"
   ]
  },
  {
   "cell_type": "code",
   "execution_count": 4,
   "metadata": {},
   "outputs": [],
   "source": [
    "cd '/notebooks/Java 1 - First steps'/helloworld"
   ]
  },
  {
   "cell_type": "code",
   "execution_count": 5,
   "metadata": {},
   "outputs": [],
   "source": [
    "javac -sourcepath src -d build src/fr/univtln/bruno/tp/tp1/HelloWorld.java"
   ]
  },
  {
   "cell_type": "code",
   "execution_count": 6,
   "metadata": {},
   "outputs": [
    {
     "name": "stdout",
     "output_type": "stream",
     "text": [
      "build:\n",
      "total 4\n",
      "drwxr-xr-x. 3 root root 4096 Mar 24 15:11 fr\n",
      "\n",
      "build/fr:\n",
      "total 4\n",
      "drwxr-xr-x. 3 root root 4096 Mar 24 15:11 univtln\n",
      "\n",
      "build/fr/univtln:\n",
      "total 4\n",
      "drwxr-xr-x. 3 root root 4096 Mar 24 15:11 bruno\n",
      "\n",
      "build/fr/univtln/bruno:\n",
      "total 4\n",
      "drwxr-xr-x. 3 root root 4096 Mar 24 15:11 tp\n",
      "\n",
      "build/fr/univtln/bruno/tp:\n",
      "total 4\n",
      "drwxr-xr-x. 2 root root 4096 Mar 24 15:11 tp1\n",
      "\n",
      "build/fr/univtln/bruno/tp/tp1:\n",
      "total 4\n",
      "-rw-r--r--. 1 root root 979 Mar 25 14:31 HelloWorld.class\n"
     ]
    }
   ],
   "source": [
    "ls -lR build"
   ]
  },
  {
   "cell_type": "code",
   "execution_count": 7,
   "metadata": {},
   "outputs": [
    {
     "name": "stdout",
     "output_type": "stream",
     "text": [
      "Bonjour Pierre\n"
     ]
    }
   ],
   "source": [
    "   java -classpath build fr.univtln.bruno.tp.tp1.HelloWorld Pierre"
   ]
  },
  {
   "cell_type": "code",
   "execution_count": 8,
   "metadata": {},
   "outputs": [
    {
     "name": "stdout",
     "output_type": "stream",
     "text": [
      "Loading source files for package fr.univtln.bruno.tp.tp1...\n",
      "Constructing Javadoc information...\n",
      "Standard Doclet version 11.0.6\n",
      "Building tree for all the packages and classes...\n",
      "Generating doc/fr/univtln/bruno/tp/tp1/HelloWorld.html...\n",
      "Generating doc/fr/univtln/bruno/tp/tp1/package-summary.html...\n",
      "Generating doc/fr/univtln/bruno/tp/tp1/package-tree.html...\n",
      "Generating doc/constant-values.html...\n",
      "Building index for all the packages and classes...\n",
      "Generating doc/overview-tree.html...\n",
      "Generating doc/index-all.html...\n",
      "Building index for all classes...\n",
      "Generating doc/allclasses-index.html...\n",
      "Generating doc/allpackages-index.html...\n",
      "Generating doc/deprecated-list.html...\n",
      "Building index for all classes...\n",
      "Generating doc/allclasses.html...\n",
      "Generating doc/allclasses.html...\n",
      "Generating doc/index.html...\n",
      "Generating doc/help-doc.html...\n"
     ]
    }
   ],
   "source": [
    "javadoc -d doc -sourcepath src -subpackages fr.univtln.bruno.tp.tp1"
   ]
  },
  {
   "cell_type": "code",
   "execution_count": 9,
   "metadata": {},
   "outputs": [
    {
     "name": "stdout",
     "output_type": "stream",
     "text": [
      "added manifest\n",
      "adding: fr/(in = 0) (out= 0)(stored 0%)\n",
      "adding: fr/univtln/(in = 0) (out= 0)(stored 0%)\n",
      "adding: fr/univtln/bruno/(in = 0) (out= 0)(stored 0%)\n",
      "adding: fr/univtln/bruno/tp/(in = 0) (out= 0)(stored 0%)\n",
      "adding: fr/univtln/bruno/tp/tp1/(in = 0) (out= 0)(stored 0%)\n",
      "adding: fr/univtln/bruno/tp/tp1/HelloWorld.class(in = 979) (out= 563)(deflated 42%)\n",
      "java.nio.file.NoSuchFileException: /tmp/tp.jar12154528020016582077.jar -> ../dist/tp.jar\n",
      "\tat java.base/sun.nio.fs.UnixException.translateToIOException(UnixException.java:92)\n",
      "\tat java.base/sun.nio.fs.UnixException.rethrowAsIOException(UnixException.java:111)\n",
      "\tat java.base/sun.nio.fs.UnixCopyFile.move(UnixCopyFile.java:478)\n",
      "\tat java.base/sun.nio.fs.UnixFileSystemProvider.move(UnixFileSystemProvider.java:267)\n",
      "\tat java.base/java.nio.file.Files.move(Files.java:1421)\n",
      "\tat jdk.jartool/sun.tools.jar.Main.validateAndClose(Main.java:466)\n",
      "\tat jdk.jartool/sun.tools.jar.Main.run(Main.java:349)\n",
      "\tat jdk.jartool/sun.tools.jar.Main.main(Main.java:1681)\n"
     ]
    }
   ],
   "source": [
    "cd build\n",
    "jar cvf ../dist/tp.jar fr\n",
    "cd .."
   ]
  },
  {
   "cell_type": "code",
   "execution_count": 10,
   "metadata": {},
   "outputs": [
    {
     "name": "stdout",
     "output_type": "stream",
     "text": [
      "added manifest\n",
      "adding: fr/(in = 0) (out= 0)(stored 0%)\n",
      "adding: fr/univtln/(in = 0) (out= 0)(stored 0%)\n",
      "adding: fr/univtln/bruno/(in = 0) (out= 0)(stored 0%)\n",
      "adding: fr/univtln/bruno/tp/(in = 0) (out= 0)(stored 0%)\n",
      "adding: fr/univtln/bruno/tp/tp1/(in = 0) (out= 0)(stored 0%)\n",
      "adding: fr/univtln/bruno/tp/tp1/HelloWorld.class(in = 979) (out= 563)(deflated 42%)\n",
      "java.nio.file.NoSuchFileException: /tmp/tp.jar10684102126756614956.jar -> ../dist/tp.jar\n",
      "\tat java.base/sun.nio.fs.UnixException.translateToIOException(UnixException.java:92)\n",
      "\tat java.base/sun.nio.fs.UnixException.rethrowAsIOException(UnixException.java:111)\n",
      "\tat java.base/sun.nio.fs.UnixCopyFile.move(UnixCopyFile.java:478)\n",
      "\tat java.base/sun.nio.fs.UnixFileSystemProvider.move(UnixFileSystemProvider.java:267)\n",
      "\tat java.base/java.nio.file.Files.move(Files.java:1421)\n",
      "\tat jdk.jartool/sun.tools.jar.Main.validateAndClose(Main.java:466)\n",
      "\tat jdk.jartool/sun.tools.jar.Main.run(Main.java:349)\n",
      "\tat jdk.jartool/sun.tools.jar.Main.main(Main.java:1681)\n"
     ]
    }
   ],
   "source": [
    "cd build; jar cvfm ../dist/tp.jar ../monManifest fr; cd .."
   ]
  },
  {
   "cell_type": "code",
   "execution_count": 29,
   "metadata": {},
   "outputs": [
    {
     "name": "stdout",
     "output_type": "stream",
     "text": [
      "Error: Unable to access jarfile dist/tp.jar\n"
     ]
    }
   ],
   "source": [
    " java -jar dist/tp.jar Pierre"
   ]
  },
  {
   "cell_type": "code",
   "execution_count": null,
   "metadata": {},
   "outputs": [],
   "source": []
  }
 ],
 "metadata": {
  "kernelspec": {
   "display_name": "Z shell",
   "language": "zsh",
   "name": "zsh"
  },
  "language_info": {
   "codemirror_mode": "shell",
   "file_extension": ".zsh",
   "mimetype": "text/x-zsh",
   "name": "zsh",
   "pygments_lexer": "shell",
   "version": "5.7.1"
  }
 },
 "nbformat": 4,
 "nbformat_minor": 4
}
