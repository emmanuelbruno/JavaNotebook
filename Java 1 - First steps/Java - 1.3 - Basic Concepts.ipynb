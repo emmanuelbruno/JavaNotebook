{
 "cells": [
  {
   "cell_type": "code",
   "execution_count": 61,
   "metadata": {},
   "outputs": [],
   "source": [
    "//package fr.univtln.bruno.java;\n",
    "public class Film {\n",
    "    private String title;\n",
    "    private int releaseYear;\n",
    "    private String description;\n",
    "\n",
    "    public String getTitle() {\n",
    "        return title;\n",
    "    }\n",
    "\n",
    "    public void setTitle(String title) {\n",
    "        this.title = title;\n",
    "    }\n",
    "\n",
    "    public int getReleaseYear() {\n",
    "        return releaseYear;\n",
    "    }\n",
    "\n",
    "    public void setReleaseYear(int releaseYear) {\n",
    "        this.releaseYear = releaseYear;\n",
    "    }\n",
    "    \n",
    "    public String getDescription() {\n",
    "        return description;\n",
    "    }\n",
    "\n",
    "    public void setDescription(String description) {\n",
    "        this.description = description;\n",
    "    }\n",
    "}"
   ]
  },
  {
   "cell_type": "code",
   "execution_count": 62,
   "metadata": {},
   "outputs": [],
   "source": [
    "//package fr.univtln.bruno.java;\n",
    "public class Test1 { \n",
    "    public static void main(String args[]) {\n",
    "        Film film1 = new Film();\n",
    "        film1.setTitle(\"Academy Dinosaur\");\n",
    "        film1.setReleaseYear(2006);\n",
    "        System.out.println(\"Film 1: \"+film1.getTitle()+\" (\"+film1.getReleaseYear()+\")\");\n",
    "    }\n",
    "};\n"
   ]
  },
  {
   "cell_type": "code",
   "execution_count": 63,
   "metadata": {},
   "outputs": [
    {
     "name": "stdout",
     "output_type": "stream",
     "text": [
      "Film 1: Academy Dinosaur (2006)\n"
     ]
    }
   ],
   "source": [
    "Test1.main(null);"
   ]
  },
  {
   "cell_type": "code",
   "execution_count": 67,
   "metadata": {},
   "outputs": [],
   "source": [
    "public class Film {\n",
    "    private String title;\n",
    "    private int releaseYear;\n",
    "    private String description;\n",
    "\n",
    "    public String getTitle() {\n",
    "        return title;\n",
    "    }\n",
    "\n",
    "    public void setTitle(String title) {\n",
    "        this.title = title;\n",
    "    }\n",
    "\n",
    "    public int getReleaseYear() {\n",
    "        return releaseYear;\n",
    "    }\n",
    "\n",
    "    public void setReleaseYear(int releaseYear) {\n",
    "        this.releaseYear = releaseYear;\n",
    "    }\n",
    "\n",
    "    public String getDescription() {\n",
    "        return description;\n",
    "    }\n",
    "\n",
    "    public void setDescription(String description) {\n",
    "        this.description = description;\n",
    "    }\n",
    "    \n",
    "    public Film(String title, int releaseYear) {\n",
    "        this.title = title;\n",
    "        this.releaseYear = releaseYear;\n",
    "    }\n",
    "    \n",
    "    public Film(String title, int releaseYear, String description) {\n",
    "        this(title, releaseYear);\n",
    "        this.description = description;\n",
    "    }\n",
    "}"
   ]
  },
  {
   "cell_type": "code",
   "execution_count": 73,
   "metadata": {},
   "outputs": [
    {
     "name": "stdout",
     "output_type": "stream",
     "text": [
      "Film 1: Academy Dinosaur (2006) A Epic Drama of a Feminist And a Mad Scientist who must Battle a Teacher in The Canadian Rockies\n"
     ]
    }
   ],
   "source": [
    "Film film1 = new Film(\"Academy Dinosaur\",2006, \"A Epic Drama of a Feminist And a Mad Scientist who must Battle a Teacher in The Canadian Rockies\");\n",
    "System.out.println(\"Film 1: \"+film1.getTitle()+\" (\"+film1.getReleaseYear()+\") \"+film1.getDescription());"
   ]
  },
  {
   "cell_type": "code",
   "execution_count": null,
   "metadata": {},
   "outputs": [],
   "source": []
  },
  {
   "cell_type": "code",
   "execution_count": null,
   "metadata": {},
   "outputs": [],
   "source": []
  },
  {
   "cell_type": "code",
   "execution_count": null,
   "metadata": {},
   "outputs": [],
   "source": []
  }
 ],
 "metadata": {
  "kernelspec": {
   "display_name": "Java",
   "language": "java",
   "name": "java"
  },
  "language_info": {
   "codemirror_mode": "java",
   "file_extension": ".jshell",
   "mimetype": "text/x-java-source",
   "name": "Java",
   "pygments_lexer": "java",
   "version": "11.0.6+10"
  }
 },
 "nbformat": 4,
 "nbformat_minor": 4
}
