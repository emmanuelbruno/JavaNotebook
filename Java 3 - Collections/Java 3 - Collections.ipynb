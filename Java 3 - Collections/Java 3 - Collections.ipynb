{
 "cells": [
  {
   "cell_type": "markdown",
   "metadata": {
    "slideshow": {
     "slide_type": "slide"
    }
   },
   "source": [
    "## Les collections\n",
    "\n",
    "* Lors d’un développement, l’un des points importants est le choix de structures de données adaptées.\n",
    "* Il est donc souvent nécessaire de développer les mêmes solutions pour \n",
    "  * Stocker des objets, pour les parcourir et les retrouver (avec ou sans clé) \n",
    "  * Sous la forme de tableaux, listes, arbres, tables de hachages, ..."
   ]
  },
  {
   "cell_type": "markdown",
   "metadata": {
    "slideshow": {
     "slide_type": "slide"
    }
   },
   "source": [
    "En java, une collection est un objet qui permet de contenir des références vers d’autres objets.\n",
    "Nous avons déjà vu des objets de ce type : les tableaux. \n",
    "    \n",
    "Le jdk propose\n",
    "* Des Interfaces qui définissent les grands types de collections (Collection, List, Set, ...).\n",
    "* Des classes abstraites qui implantent partiellement ces interfaces (AbstractCollection, AbstractList, AbstractQueue, ...).\n",
    "* Des classes concrètes qui précisent les implantations (ArrayList, TreeSet, HashMap, TreeMap, ...).\n",
    "\n",
    "* Un mécanisme de parcours général est proposé : les itérateurs\n",
    "* Et des outils pour trier et rechercher\n"
   ]
  },
  {
   "cell_type": "markdown",
   "metadata": {},
   "source": [
    "* On distinguera :\n",
    "  * Les collections au sens large décrites dans l’interface Collection\n",
    "  * Et les collections indexées décrites dans l’interface Map\n",
    "    * On associe à un objet une clé (un autre objet)\n",
    "  * On peut alors indexer et rechercher par clé.\n",
    "\n",
    "* Dans tous les cas, on pourra\n",
    "  * ajouter un objet (add())\n",
    "  * parcourir la collection (voire obtenir un objet (get()))"
   ]
  },
  {
   "cell_type": "markdown",
   "metadata": {},
   "source": [
    "* Un ensemble de classes abstraites réalisent ces interfaces qui implantent les parties communes :\n",
    "  * AbstractCollection, AbstractList, AbstractQueue,\n",
    "  * AbstractSequentialList, AbstractSet, ...\n",
    "  * AbstractMap\n",
    "* Ces classes abstraites (et donc les interfaces correspondantes) sont réalisées par des classes concrètes :\n",
    "  * ArrayList, TreeSet, ...\n",
    "  * HashMap, TreeMap, ..."
   ]
  },
  {
   "cell_type": "markdown",
   "metadata": {},
   "source": [
    "* Les structures de données classiques sont disponibles et utilisées pour les implantations concrètes\n",
    "* Elles sont organisées dans une hiérarchie de classes et implantent des interfaces communes.\n",
    "* Par exemple, il existe (parmis d’autres) :\n",
    "  * Des tableaux de taille variable : ArrayList\n",
    "    * héritent de java.util.AbstractList et de AbstractCollection\n",
    "    * implantent les interfaces Collection et List\n",
    "  * Des listes chaînées : LinkedList\n",
    "  * Des tables de hachages : HashSet et HashMap\n",
    "  * Des arbres à balance équilibrés : TreeSet et TreeMap"
   ]
  },
  {
   "cell_type": "code",
   "execution_count": 9,
   "metadata": {},
   "outputs": [
    {
     "data": {
      "text/plain": [
       "[Medor, Rex, Brutus]"
      ]
     },
     "execution_count": 9,
     "metadata": {},
     "output_type": "execute_result"
    }
   ],
   "source": [
    "List petNames = new ArrayList() ;\n",
    "petNames.add(\"Medor\");\n",
    "petNames.add(\"Rex\");\n",
    "petNames.add(\"Brutus\");\n",
    "petNames;"
   ]
  },
  {
   "cell_type": "markdown",
   "metadata": {},
   "source": [
    "## Administration des collections\n",
    "* L’administration des instances des collections est assurée par des méthodes statiques des classes :\n",
    "  * Collections\n",
    "    * pour trier et convertir des collections\n",
    "    * pour rechercher efficacement\n",
    "  * Arrays"
   ]
  },
  {
   "cell_type": "code",
   "execution_count": 10,
   "metadata": {},
   "outputs": [
    {
     "data": {
      "text/plain": [
       "[Brutus, Medor, Rex]"
      ]
     },
     "execution_count": 10,
     "metadata": {},
     "output_type": "execute_result"
    }
   ],
   "source": [
    "Collections.sort(petNames);\n",
    "petNames;"
   ]
  },
  {
   "cell_type": "markdown",
   "metadata": {},
   "source": [
    "## L’interface Collection\n",
    "```Java\n",
    "boolean add(E o)\n",
    "boolean addAll(Collection<? extends E> c)\n",
    "void clear()\n",
    "boolean contains(Object o)\n",
    "boolean containsAll(Collection<?> c)\n",
    "boolean equals(Object o)\n",
    "int hashCode()\n",
    "boolean isEmpty()\n",
    "Iterator<E> iterator()\n",
    "boolean remove(Object o)\n",
    "boolean removeAll(Collection<?> c)\n",
    "boolean retainAll(Collection<?> c)\n",
    "int size()\n",
    "Object[] toArray()\n",
    "<T> T[] toArray(T[] a)\n",
    "```"
   ]
  },
  {
   "cell_type": "markdown",
   "metadata": {},
   "source": [
    "## Les standards et les exceptions\n",
    "* Les constructeurs sans paramètres et avec une Collection en paramètre sont “toujours” disponibles\n",
    "  * Cela ne peut pas être garanti (pas de constructeur dans les interfaces)\n",
    "  * Cela facilite les conversions entre les implantations différentes\n",
    "* Toutes les méthodes de l’interface sont implantées (c’est obligatoire) mais :\n",
    "  * Pour certaines spécialisations certaines méthodes n’ont pas de sens\n",
    "    * Exemple : collection en lecture seule (add(), put(), . . .)\n",
    "  * L’implantation consiste alors à retourner une exception : UnsupportedOperationException"
   ]
  },
  {
   "cell_type": "markdown",
   "metadata": {},
   "source": [
    "## List et ArrayList\n",
    "* L’interface List\n",
    "  * Une collection ordonnées (une séquence)\n",
    "  * L’utilisateur controle la position d’insertion des éléments\n",
    "  * L’utilisateur accède à cet élément par son index (un entier)\n",
    "* La classe ArrayList\n",
    "  * Une implantation redimensionnable de l’interface List\n",
    "  * Toutes les méthodes sont implantées\n",
    "  * Il est possible de contrôler la taille du tableau utilisé en interne"
   ]
  },
  {
   "cell_type": "markdown",
   "metadata": {},
   "source": [
    "## Les génériques\n",
    "* Les collections représentent des ensembles d’objets (cf. type de retour de l’interface)\n",
    "* Un objet ou un ensemble d’objets extraits sont donc du type Object\n",
    "* La conséquence est donc que les objets extraits doivent être transtypés\n",
    "* De plus les fonctions prennent en paramètres des instances de Object, il est donc difficile de contrôler la consistance."
   ]
  },
  {
   "cell_type": "code",
   "execution_count": 36,
   "metadata": {},
   "outputs": [
    {
     "data": {
      "text/plain": [
       "[Chien:Médor, Rex, Chat:Félix]"
      ]
     },
     "execution_count": 36,
     "metadata": {},
     "output_type": "execute_result"
    }
   ],
   "source": [
    "public abstract class Animal {\n",
    "    private String nom;\n",
    "    public Animal(String nom) {this.nom = nom;}\n",
    "    public String toString() {return getClass().getSimpleName()+\":\"+nom;}\n",
    "    public abstract void crier();\n",
    "}\n",
    "\n",
    "public class Chien extends Animal{\n",
    "    public Chien(String nom) {super(nom);};\n",
    "    public void crier() {System.out.println(\"Ouaf !\");}\n",
    "}\n",
    "\n",
    "public class Chat extends Animal{\n",
    "    public Chat(String nom) {super(nom);};\n",
    "    public void crier() {System.out.println(\"Miou !\");}\n",
    "}\n",
    "\n",
    "List animaux = new ArrayList();\n",
    "animaux.add(new Chien(\"Médor\"));\n",
    "animaux.add(\"Rex\");\n",
    "animaux.add(new Chat(\"Félix\"));\n",
    "animaux;\n",
    "\n"
   ]
  },
  {
   "cell_type": "code",
   "execution_count": 38,
   "metadata": {},
   "outputs": [
    {
     "ename": "CompilationException",
     "evalue": "",
     "output_type": "error",
     "traceback": [
      "\u001b[1m\u001b[30m|   \u001b[1m\u001b[30m\u001b[0m\u001b[1m\u001b[30m\u001b[41manimaux.get(0).crier\u001b[0m\u001b[1m\u001b[30m()\u001b[0m",
      "\u001b[1m\u001b[31mcannot find symbol\u001b[0m",
      "\u001b[1m\u001b[31m  symbol:   method crier()\u001b[0m",
      ""
     ]
    }
   ],
   "source": [
    "animaux.get(0).crier()"
   ]
  },
  {
   "cell_type": "code",
   "execution_count": 39,
   "metadata": {},
   "outputs": [
    {
     "name": "stdout",
     "output_type": "stream",
     "text": [
      "Ouaf !\n"
     ]
    }
   ],
   "source": [
    "((Animal)animaux.get(0)).crier()"
   ]
  },
  {
   "cell_type": "markdown",
   "metadata": {},
   "source": [
    "## Génériques\n",
    "\n",
    "* Un type générique (en anglais generic ou aussi type paramétré) permet de\n",
    "définir une classe ou une interface qui aura des types différents (grace à des\n",
    "types passés en parmètres) lors de l’instanciation.\n",
    "* https://docs.oracle.com/javase/tutorial/java/generics/types.html\n",
    "* Définir des classes spécifiques au type indiqué. On peut donc définir une “collection de Chiens”.\n",
    "* Vérifier les paramètres des méthodes et convertir les types de retour.\n",
    "* Les collections ne traitent que des objets\n",
    "  * Pour les types primitifs, il faut utiliser les classes enveloppantes Javapropose l’autoboxing et l’autounboxing qui convertit automatiquement les primitifs.\n"
   ]
  },
  {
   "cell_type": "code",
   "execution_count": 46,
   "metadata": {},
   "outputs": [
    {
     "data": {
      "text/plain": [
       "(Chien:X,Chat:Y)"
      ]
     },
     "execution_count": 46,
     "metadata": {},
     "output_type": "execute_result"
    }
   ],
   "source": [
    "public class Couple<T1 , T2> {\n",
    "  final T1 e1 ;\n",
    "  final T2 e2 ;\n",
    "  public Couple ( T1 p1 , T2 p2 ) {\n",
    "    e1 = p1 ; e2 = p2 ;\n",
    "  }\n",
    "  public String toString() {return \"(\"+e1+\",\"+e2+\")\";};\n",
    "}\n",
    "\n",
    "Chien unChien = new Chien(\"X\") ;\n",
    "Chat unChat = new Chat(\"Y\") ;\n",
    "Couple<Chien,Chat> c = new Couple<Chien,Chat>(unChien,unChat);\n",
    "c;"
   ]
  },
  {
   "cell_type": "code",
   "execution_count": 47,
   "metadata": {},
   "outputs": [
    {
     "data": {
      "text/plain": [
       "(size,12)"
      ]
     },
     "execution_count": 47,
     "metadata": {},
     "output_type": "execute_result"
    }
   ],
   "source": [
    "new Couple<String, Integer>(\"size\",12);"
   ]
  },
  {
   "cell_type": "code",
   "execution_count": null,
   "metadata": {},
   "outputs": [],
   "source": []
  },
  {
   "cell_type": "markdown",
   "metadata": {},
   "source": [
    "## Le parcours d’une collection (1/2)\n",
    "* Les collections indexées (Listes, ...) peuvent être parcourues avec une boucle\n",
    "  * Cette méthode n’est pas bonne pour l’évolutivité, elle supprime l’encapsulation des collections\n",
    "* Java introduit la notion d’itérateur :\n",
    "  * Un itérateur est une instance de la classe Iterator qui permet d’énumérer les éléments d’une collection.\n",
    "  * Toutes les collections possèdent la méthode iterator() qui retourne un itérateur.\n",
    "    * Cette itérateur peut être spécialisé en fonction des sous-classes de Collection (Ex : ListIterator).\n",
    "  * Un iterateur permet de modifier la collection en cours de parcours."
   ]
  },
  {
   "cell_type": "code",
   "execution_count": null,
   "metadata": {},
   "outputs": [],
   "source": [
    "listeDeChiens . add ( new Chien ( ) ) ; listeDeChiens . add ( new Chien ( ) ) ;\n",
    "for ( int i=0 ;i<listeDeChiens . size ( ) ; i++)\n",
    "System . out . println ( ( Chien ) listeDeChiens . get ( i ) ) ;\n",
    "Iterator itDeChiens = listeDeChiens . iterator ( ) ;\n",
    "while ( itDeChiens . hasNext ( ) )\n",
    "( ( Chien ) itDeChiens . next ( ) ) . aboyer ( ) ;\n",
    "}"
   ]
  }
 ],
 "metadata": {
  "kernelspec": {
   "display_name": "Java",
   "language": "java",
   "name": "java"
  },
  "language_info": {
   "codemirror_mode": "java",
   "file_extension": ".jshell",
   "mimetype": "text/x-java-source",
   "name": "Java",
   "pygments_lexer": "java",
   "version": "14.0.1+7"
  },
  "toc-showtags": false
 },
 "nbformat": 4,
 "nbformat_minor": 4
}
