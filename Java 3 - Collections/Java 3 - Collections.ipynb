{
 "cells": [
  {
   "cell_type": "markdown",
   "metadata": {},
   "source": [
    "## Les collections"
   ]
  },
  {
   "cell_type": "markdown",
   "metadata": {},
   "source": [
    "En java, une collection est un objet qui permet de contenir des références vers d’autres objets.\n",
    "Nous avons déjà vu des objets de ce type : les tableaux. \n",
    "    \n",
    "Le jdk propose\n",
    "* Des Interfaces qui définissent les grands types de collections (Collection, List, Set, ...).\n",
    "* Des classes abstraites qui implantent partiellement ces interfaces (AbstractCollection, AbstractList, AbstractQueue, ...).\n",
    "* Des classes concrètes qui précisent les implantations (ArrayList, TreeSet, HashMap, TreeMap, ...).\n",
    "\n",
    "* Un mécanisme de parcours général est proposé : les itérateurs\n",
    "* Et des outils pour trier et rechercher\n"
   ]
  },
  {
   "cell_type": "code",
   "execution_count": 1,
   "metadata": {},
   "outputs": [
    {
     "data": {
      "text/plain": [
       "[Medor, Rex, Brutus]"
      ]
     },
     "execution_count": 1,
     "metadata": {},
     "output_type": "execute_result"
    }
   ],
   "source": [
    "List l = new ArrayList ( ) ;\n",
    "l.add(\"Medor\");\n",
    "l.add(\"Rex\");\n",
    "l.add(\"Brutus\");\n",
    "l;"
   ]
  },
  {
   "cell_type": "markdown",
   "metadata": {},
   "source": [
    "Les constructeurs sans paramètres et avec une Collection en paramètre\n",
    "sont “toujours” disponibles\n",
    "Cela ne peut pas être garanti (pas de constructeur dans les interfaces)\n",
    "Cela facilite les conversions entre les implantations différentes\n",
    "Toutes les méthodes de l’interface sont implantées (c’est obligatoire)\n",
    "mais :\n",
    "Pour certaines spécialisations certaines méthodes n’ont pas de sens\n",
    "Exemple : collection en lecture seule (add(), put(), . . .)\n",
    "L’implantation consiste alors à retourner une exception :\n",
    "UnsupportedOperationException"
   ]
  },
  {
   "cell_type": "markdown",
   "metadata": {},
   "source": [
    "L’interface List\n",
    "Une collection ordonnées (une séquence)\n",
    "L’utilisateur controle la position d’insertion des éléments\n",
    "L’utilisateur accède à cet élément par son index (un entier)\n",
    "La classe ArrayList\n",
    "Une implantation redimensionnable de l’interface List\n",
    "Toutes les méthodes sont implantées\n",
    "Il est possible de contrôler la taille du tableau utilisé en interne"
   ]
  },
  {
   "cell_type": "markdown",
   "metadata": {},
   "source": [
    "## Les génériques\n",
    "Les collections représentent des ensembles d’objets (cf. type de retour de\n",
    "l’interface)\n",
    "Un objet ou un ensemble d’objets extraits sont donc du type Object\n",
    "La conséquence est donc que les objets extraits doivent être transtypés\n",
    "De plus les fonctions prennent en paramètres des instances de Object, il\n",
    "est donc difficile de contrôler la consistance."
   ]
  },
  {
   "cell_type": "code",
   "execution_count": 5,
   "metadata": {},
   "outputs": [
    {
     "data": {
      "text/plain": [
       "true"
      ]
     },
     "execution_count": 5,
     "metadata": {},
     "output_type": "execute_result"
    }
   ],
   "source": [
    "public class Chien {\n",
    "    public void b() {System.out.println(\"Ouaf !\");}\n",
    "};\n",
    "\n",
    "public class Chat {\n",
    "    public void aboyer() {System.out.println(\"Ouaf !\");}\n",
    "};\n",
    "\n",
    "List chiens = new ArrayList();\n",
    "chiens.add(new Chien());\n",
    "chiens.add(\"Rex\");\n",
    "\n",
    "\n"
   ]
  },
  {
   "cell_type": "code",
   "execution_count": null,
   "metadata": {},
   "outputs": [],
   "source": []
  }
 ],
 "metadata": {
  "kernelspec": {
   "display_name": "Java",
   "language": "java",
   "name": "java"
  },
  "language_info": {
   "codemirror_mode": "java",
   "file_extension": ".jshell",
   "mimetype": "text/x-java-source",
   "name": "Java",
   "pygments_lexer": "java",
   "version": "11.0.6+10"
  }
 },
 "nbformat": 4,
 "nbformat_minor": 4
}
